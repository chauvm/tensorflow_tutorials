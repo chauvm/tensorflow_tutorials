{
 "cells": [
  {
   "cell_type": "code",
   "execution_count": 1,
   "metadata": {
    "collapsed": true
   },
   "outputs": [],
   "source": [
    "import tensorflow as tf\n",
    "import matplotlib.pyplot as plt\n",
    "import numpy as np\n",
    "import os       # to find absolute path for saver"
   ]
  },
  {
   "cell_type": "code",
   "execution_count": 2,
   "metadata": {
    "collapsed": true
   },
   "outputs": [],
   "source": [
    "from tensorflow.examples.tutorials.mnist import input_data"
   ]
  },
  {
   "cell_type": "code",
   "execution_count": 3,
   "metadata": {},
   "outputs": [
    {
     "name": "stdout",
     "output_type": "stream",
     "text": [
      "Extracting MNIST/data\\train-images-idx3-ubyte.gz\n",
      "Extracting MNIST/data\\train-labels-idx1-ubyte.gz\n",
      "Extracting MNIST/data\\t10k-images-idx3-ubyte.gz\n",
      "Extracting MNIST/data\\t10k-labels-idx1-ubyte.gz\n"
     ]
    }
   ],
   "source": [
    "mnist = input_data.read_data_sets('MNIST/data', one_hot=True)"
   ]
  },
  {
   "cell_type": "code",
   "execution_count": 4,
   "metadata": {
    "collapsed": true
   },
   "outputs": [],
   "source": [
    "(train_data, validation_data, test_data) = (mnist.train, mnist.validation, mnist.test)"
   ]
  },
  {
   "cell_type": "code",
   "execution_count": 5,
   "metadata": {},
   "outputs": [
    {
     "data": {
      "text/plain": [
       "55000"
      ]
     },
     "execution_count": 5,
     "metadata": {},
     "output_type": "execute_result"
    }
   ],
   "source": [
    "train_data.num_examples"
   ]
  },
  {
   "cell_type": "code",
   "execution_count": 6,
   "metadata": {
    "collapsed": true
   },
   "outputs": [],
   "source": [
    "with tf.name_scope('Inputs') as scope:\n",
    "    x = tf.placeholder(shape=[None, 784], dtype=tf.float32, name='images')\n",
    "    x_image = tf.reshape(x, [-1, 28, 28, 1], name='2d_images')\n",
    "    y_correct = tf.placeholder(shape=[None, 10], dtype=tf.float32, name='correct_output')"
   ]
  },
  {
   "cell_type": "code",
   "execution_count": 7,
   "metadata": {
    "collapsed": true
   },
   "outputs": [],
   "source": [
    "#sess = tf.Session()"
   ]
  },
  {
   "cell_type": "code",
   "execution_count": 8,
   "metadata": {
    "collapsed": true
   },
   "outputs": [],
   "source": [
    "#sess.run(tf.shape(x_image))"
   ]
  },
  {
   "cell_type": "code",
   "execution_count": 9,
   "metadata": {
    "collapsed": true
   },
   "outputs": [],
   "source": [
    "# first convolution\n",
    "filter_conv1 = 32\n",
    "W_conv1 = tf.Variable(tf.truncated_normal(shape=[6, 6, 1, filter_conv1], stddev=0.1), name=\"W_conv1\")\n",
    "b_conv1 = tf.Variable(tf.zeros([filter_conv1]), name=\"b_conv1\")\n",
    "h_conv1 = tf.nn.conv2d(x_image, W_conv1, strides=[1, 2, 2, 1], padding='SAME') + b_conv1   # (None, 14, 14, filter_conv1)\n",
    "h_conv1_relu = tf.nn.relu(h_conv1)"
   ]
  },
  {
   "cell_type": "code",
   "execution_count": 10,
   "metadata": {
    "collapsed": true
   },
   "outputs": [],
   "source": [
    "#sess.run(tf.shape(h_conv1))"
   ]
  },
  {
   "cell_type": "code",
   "execution_count": 11,
   "metadata": {
    "collapsed": true
   },
   "outputs": [],
   "source": [
    "#with tf.name_scope('First_pooling') as scope:\n",
    "h_pool_1 = tf.nn.max_pool(h_conv1_relu, ksize=[1, 2, 2, 1], strides=[1, 2, 2, 1], padding='SAME')  # (None, 7, 7, filter_conv1)\n"
   ]
  },
  {
   "cell_type": "code",
   "execution_count": 12,
   "metadata": {
    "collapsed": true
   },
   "outputs": [],
   "source": [
    "#sess.run(tf.shape(h_pool_1))"
   ]
  },
  {
   "cell_type": "code",
   "execution_count": 13,
   "metadata": {
    "collapsed": true
   },
   "outputs": [],
   "source": [
    "# second convolution\n",
    "filter_conv2 = 64\n",
    "W_conv2 = tf.Variable(tf.truncated_normal(shape=[4, 4, filter_conv1, filter_conv2], stddev=0.1), name=\"W_conv2\")\n",
    "b_conv2 = tf.Variable(tf.zeros([filter_conv2]), name=\"b_conv2\")\n",
    "h_conv2 = tf.nn.conv2d(h_pool_1, W_conv2, strides=[1, 1, 1, 1], padding='SAME') + b_conv2   # (None, 7, 7, filter_conv2)\n",
    "h_conv2_relu = tf.nn.relu(h_conv2)"
   ]
  },
  {
   "cell_type": "code",
   "execution_count": 14,
   "metadata": {
    "collapsed": true
   },
   "outputs": [],
   "source": [
    "# second convolution\n",
    "h_pool_2 = tf.nn.max_pool(h_conv2_relu, ksize=[1, 2, 2, 1], strides=[1, 2, 2, 1], padding='SAME')  # (None, 4, 4, filter_conv2)"
   ]
  },
  {
   "cell_type": "code",
   "execution_count": 15,
   "metadata": {
    "collapsed": true
   },
   "outputs": [],
   "source": [
    "# Fully Connected\n",
    "neuron_1 = 4*4*filter_conv2\n",
    "#neuron_1 = 7*7*filter_conv2\n",
    "neuron_2 = neuron_1 // 2"
   ]
  },
  {
   "cell_type": "code",
   "execution_count": 16,
   "metadata": {
    "collapsed": true
   },
   "outputs": [],
   "source": [
    "# flatten\n",
    "fc_input = tf.reshape(h_pool_2, [-1, neuron_1])\n"
   ]
  },
  {
   "cell_type": "code",
   "execution_count": 17,
   "metadata": {
    "collapsed": true
   },
   "outputs": [],
   "source": [
    "W_1 = tf.Variable(tf.truncated_normal([neuron_1, neuron_2]), name=\"W_1\")\n",
    "b_1 = tf.Variable(0.0, [neuron_2], name=\"b_1\")\n",
    "a_1 = tf.nn.relu(tf.matmul(fc_input, W_1) + b_1)"
   ]
  },
  {
   "cell_type": "code",
   "execution_count": 18,
   "metadata": {
    "collapsed": true
   },
   "outputs": [],
   "source": [
    "keep_prob = tf.placeholder(tf.float32)\n",
    "a_1_drop = tf.nn.dropout(a_1, keep_prob)"
   ]
  },
  {
   "cell_type": "code",
   "execution_count": 19,
   "metadata": {
    "collapsed": true
   },
   "outputs": [],
   "source": [
    "W_2 = tf.Variable(tf.truncated_normal([neuron_2, 10]), name=\"W_2\")\n",
    "b_2 = tf.Variable(0.0, [10], name=\"b_2\")\n",
    "y = tf.matmul(a_1_drop, W_2) + b_2"
   ]
  },
  {
   "cell_type": "code",
   "execution_count": 20,
   "metadata": {
    "collapsed": true
   },
   "outputs": [],
   "source": [
    "cross_entropy = tf.reduce_mean(tf.nn.softmax_cross_entropy_with_logits(labels=y_correct, logits=y))"
   ]
  },
  {
   "cell_type": "code",
   "execution_count": 21,
   "metadata": {
    "collapsed": true
   },
   "outputs": [],
   "source": [
    "# Optimization\n",
    "train_step = tf.train.AdamOptimizer(1e-4).minimize(cross_entropy)\n",
    "\n",
    "# Evaluate model\n",
    "correct_prediction = tf.equal(tf.argmax(y,1), tf.argmax(y_correct,1))\n",
    "accuracy = tf.reduce_mean(tf.cast(correct_prediction, tf.float32))"
   ]
  },
  {
   "cell_type": "code",
   "execution_count": 22,
   "metadata": {},
   "outputs": [
    {
     "name": "stdout",
     "output_type": "stream",
     "text": [
      "step 0, training accuracy 0.115\n",
      "Accuracy validation: 0.08500000834465027\n",
      "step 1000, training accuracy 0.84\n",
      "Accuracy validation: 0.8217501044273376\n",
      "step 2000, training accuracy 0.865\n",
      "Accuracy validation: 0.8530001044273376\n",
      "step 3000, training accuracy 0.915\n",
      "Accuracy validation: 0.9007501006126404\n",
      "Accuracy: 0.8687500953674316\n",
      "Saving model\n"
     ]
    }
   ],
   "source": [
    "sess = tf.InteractiveSession()\n",
    "#saver = tf.train.Saver([W_conv1, b_conv1, W_conv2, b_conv2, W_1, b_1, W_2, b_2])\n",
    "#saver = tf.train.Saver({v.op.name: v for v in [W_conv1, b_conv1, W_conv2, b_conv2, W_1, b_1, W_2, b_2]})\n",
    "saver = tf.train.Saver()\n",
    "sess.run(tf.global_variables_initializer())\n",
    "file_writer = tf.summary.FileWriter(\"CNN_baitap_2\", sess.graph)\n",
    "# create a summary for our cost and accuracy\n",
    "tf.summary.scalar(\"cost_summary\", cross_entropy)\n",
    "tf.summary.scalar(\"accuracy\", accuracy)\n",
    "# merge all summaries into a single operation which we can execute in a session \n",
    "summary_step = tf.summary.merge_all()\n",
    "\n",
    "\n",
    "validation_size = 4000\n",
    "for i in range(3001):\n",
    "    batch_xs, batch_ys = mnist.train.next_batch(200)\n",
    "    if i%1000 == 0:\n",
    "        train_accuracy = accuracy.eval(feed_dict={\n",
    "            x:batch_xs, y_correct: batch_ys , keep_prob: 1.0})\n",
    "        print(\"step %d, training accuracy %g\"%(i, train_accuracy))\n",
    "        valid_xs, valid_ys = mnist.validation.next_batch(validation_size)\n",
    "        print(\"Accuracy validation: {}\".format(accuracy.eval(\n",
    "                feed_dict = {x: valid_xs, y_correct: valid_ys, keep_prob: 1.0 })))\n",
    "    _, summary = sess.run([train_step, summary_step], \n",
    "            feed_dict={x: batch_xs, y_correct: batch_ys, keep_prob: 0.6})\n",
    "    # logging\n",
    "    file_writer.add_summary(summary, i)\n",
    "\n",
    "print(\"Accuracy: {}\".format(accuracy.eval(feed_dict = {x: mnist.test.images[:validation_size], \n",
    "                                               y_correct: mnist.test.labels[:validation_size], keep_prob: 1.0})))\n",
    "print(\"Saving model\")\n",
    "saver.save(sess, os.path.join(os.getcwd(), 'CNN_baitap_2_model'), global_step=3000)\n",
    "saved_W_conv1 = sess.run(W_conv1)      # save to verify session saver"
   ]
  },
  {
   "cell_type": "code",
   "execution_count": 23,
   "metadata": {
    "collapsed": true
   },
   "outputs": [],
   "source": [
    "sess.close()"
   ]
  },
  {
   "cell_type": "markdown",
   "metadata": {},
   "source": [
    "## Restore"
   ]
  },
  {
   "cell_type": "code",
   "execution_count": 24,
   "metadata": {},
   "outputs": [
    {
     "name": "stdout",
     "output_type": "stream",
     "text": [
      "INFO:tensorflow:Restoring parameters from D:\\massp\\tensorflow_tutorials\\tutorials\\tensorflow\\CNN_baitap_2_model-3000\n"
     ]
    }
   ],
   "source": [
    "sess=tf.Session()    \n",
    "#First let's load meta graph and restore weights\n",
    "saver = tf.train.import_meta_graph('CNN_baitap_2_model-3000.meta')\n",
    "saver.restore(sess,tf.train.latest_checkpoint('./'))"
   ]
  },
  {
   "cell_type": "code",
   "execution_count": 25,
   "metadata": {},
   "outputs": [
    {
     "data": {
      "text/plain": [
       "array([[[[ 0.00316854,  0.09024522,  0.06200399, ...,  0.09870239,\n",
       "          -0.07136393,  0.17325082]],\n",
       "\n",
       "        [[-0.13014147,  0.07260958,  0.01379364, ...,  0.12488105,\n",
       "          -0.14258106, -0.14919622]],\n",
       "\n",
       "        [[ 0.06968206, -0.06778286,  0.17368905, ..., -0.0186156 ,\n",
       "           0.06669079,  0.02078193]],\n",
       "\n",
       "        [[ 0.08613362,  0.032818  , -0.05582419, ...,  0.12412617,\n",
       "           0.02151738,  0.14057951]],\n",
       "\n",
       "        [[ 0.00252516, -0.01156457,  0.15557224, ..., -0.0774354 ,\n",
       "          -0.04165656, -0.0869826 ]],\n",
       "\n",
       "        [[-0.03394603, -0.01955202, -0.01802604, ...,  0.04389001,\n",
       "           0.07652414, -0.13030523]]],\n",
       "\n",
       "\n",
       "       [[[-0.06665552,  0.12217105,  0.01767361, ..., -0.12240701,\n",
       "          -0.07917286, -0.06238475]],\n",
       "\n",
       "        [[-0.16567555, -0.01519218, -0.00056305, ..., -0.00166772,\n",
       "           0.03678939, -0.00675085]],\n",
       "\n",
       "        [[-0.12866157,  0.01199562, -0.08739173, ..., -0.12302575,\n",
       "          -0.0202344 ,  0.04342277]],\n",
       "\n",
       "        [[ 0.05932493, -0.09734096, -0.07983711, ...,  0.00978985,\n",
       "          -0.00733819,  0.01637433]],\n",
       "\n",
       "        [[ 0.02281215,  0.17412993,  0.09843889, ...,  0.0372122 ,\n",
       "           0.02121142,  0.03750793]],\n",
       "\n",
       "        [[-0.0524255 , -0.11059454,  0.04600278, ..., -0.01938398,\n",
       "           0.00751146, -0.05564348]]],\n",
       "\n",
       "\n",
       "       [[[ 0.07838478, -0.08644919, -0.01350984, ..., -0.14737402,\n",
       "          -0.01521965, -0.01535775]],\n",
       "\n",
       "        [[-0.08714972, -0.01900409, -0.02582693, ...,  0.02458886,\n",
       "          -0.02499975, -0.17005524]],\n",
       "\n",
       "        [[ 0.07768653,  0.1004886 , -0.06339552, ...,  0.09189116,\n",
       "           0.02728926,  0.0121672 ]],\n",
       "\n",
       "        [[ 0.05925323, -0.06956488,  0.02552903, ..., -0.07519386,\n",
       "          -0.10069985, -0.15921281]],\n",
       "\n",
       "        [[ 0.01928248,  0.0379515 ,  0.02886495, ..., -0.14495325,\n",
       "           0.05835694, -0.05712596]],\n",
       "\n",
       "        [[-0.07933754, -0.02326488, -0.05452517, ...,  0.0536171 ,\n",
       "          -0.00615099, -0.10055356]]],\n",
       "\n",
       "\n",
       "       [[[-0.13119915, -0.09814157, -0.06911499, ...,  0.04338017,\n",
       "           0.0400059 ,  0.01850555]],\n",
       "\n",
       "        [[-0.15760809, -0.02601001,  0.03668739, ...,  0.11564883,\n",
       "           0.05030274,  0.00955179]],\n",
       "\n",
       "        [[-0.06707358,  0.12728509, -0.08492661, ..., -0.15508451,\n",
       "          -0.02168391,  0.01546715]],\n",
       "\n",
       "        [[-0.09854207,  0.05537643, -0.08081976, ..., -0.0493547 ,\n",
       "          -0.06825089,  0.0720313 ]],\n",
       "\n",
       "        [[-0.05616887,  0.1411812 , -0.16285542, ...,  0.03867997,\n",
       "          -0.17568967,  0.12293188]],\n",
       "\n",
       "        [[ 0.06139315, -0.08642307, -0.08819356, ...,  0.08177656,\n",
       "           0.01431255, -0.1556247 ]]],\n",
       "\n",
       "\n",
       "       [[[-0.08427265,  0.10502011,  0.0406403 , ..., -0.02460778,\n",
       "          -0.06238482,  0.11947211]],\n",
       "\n",
       "        [[ 0.04090247, -0.05737132, -0.06021119, ..., -0.17483608,\n",
       "           0.08285864, -0.12698334]],\n",
       "\n",
       "        [[-0.07665667,  0.07122663, -0.15369092, ...,  0.03081078,\n",
       "           0.04799857, -0.09165601]],\n",
       "\n",
       "        [[ 0.17916557,  0.01001011, -0.07228307, ...,  0.04649916,\n",
       "          -0.06713857, -0.04327131]],\n",
       "\n",
       "        [[-0.10791333,  0.00885916,  0.01375284, ..., -0.02663965,\n",
       "           0.06948052, -0.06990064]],\n",
       "\n",
       "        [[-0.01635029, -0.06883691, -0.1804564 , ..., -0.11522297,\n",
       "          -0.16867498,  0.05107154]]],\n",
       "\n",
       "\n",
       "       [[[-0.07186289, -0.08067009,  0.06306868, ...,  0.02468101,\n",
       "          -0.14172634, -0.14038593]],\n",
       "\n",
       "        [[ 0.16644761, -0.03310916,  0.01469091, ...,  0.14707996,\n",
       "          -0.06004171, -0.02461501]],\n",
       "\n",
       "        [[-0.09025594,  0.1344519 ,  0.13553816, ..., -0.10302135,\n",
       "          -0.04933234, -0.04205884]],\n",
       "\n",
       "        [[-0.05867967, -0.13206406, -0.10004542, ..., -0.06315436,\n",
       "          -0.06843345,  0.05668689]],\n",
       "\n",
       "        [[ 0.10164431, -0.08191734, -0.02741493, ...,  0.00714333,\n",
       "           0.04116832, -0.08949351]],\n",
       "\n",
       "        [[ 0.04663539,  0.02230366, -0.11390217, ..., -0.01382737,\n",
       "           0.06459453,  0.01013445]]]], dtype=float32)"
      ]
     },
     "execution_count": 25,
     "metadata": {},
     "output_type": "execute_result"
    }
   ],
   "source": [
    "sess.run('W_conv1:0')"
   ]
  },
  {
   "cell_type": "code",
   "execution_count": 26,
   "metadata": {
    "collapsed": true
   },
   "outputs": [],
   "source": [
    "W_conv1_arr = sess.run('W_conv1:0')"
   ]
  },
  {
   "cell_type": "code",
   "execution_count": 27,
   "metadata": {},
   "outputs": [
    {
     "data": {
      "text/plain": [
       "(6, 6, 1, 32)"
      ]
     },
     "execution_count": 27,
     "metadata": {},
     "output_type": "execute_result"
    }
   ],
   "source": [
    "W_conv1_arr.shape"
   ]
  },
  {
   "cell_type": "code",
   "execution_count": 33,
   "metadata": {},
   "outputs": [],
   "source": [
    "first = W_conv1_arr[:, :, :, 0].reshape((6, 6))\n",
    "mid = W_conv1_arr[:, :, :, 15].reshape((6, 6))\n",
    "last = W_conv1_arr[:, :, :, 31].reshape((6, 6))"
   ]
  },
  {
   "cell_type": "code",
   "execution_count": 36,
   "metadata": {},
   "outputs": [
    {
     "data": {
      "image/png": "[encoded data removed]",
      "text/plain": [
       "<matplotlib.figure.Figure at 0x1769c2ea320>"
      ]
     },
     "metadata": {},
     "output_type": "display_data"
    }
   ],
   "source": [
    "plt.imshow(first, cmap='gray')\n",
    "plt.show()"
   ]
  },
  {
   "cell_type": "code",
   "execution_count": null,
   "metadata": {
    "collapsed": true
   },
   "outputs": [],
   "source": []
  }
 ],
 "metadata": {
  "kernelspec": {
   "display_name": "Python 3",
   "language": "python",
   "name": "python3"
  },
  "language_info": {
   "codemirror_mode": {
    "name": "ipython",
    "version": 3
   },
   "file_extension": ".py",
   "mimetype": "text/x-python",
   "name": "python",
   "nbconvert_exporter": "python",
   "pygments_lexer": "ipython3",
   "version": "3.5.3"
  }
 },
 "nbformat": 4,
 "nbformat_minor": 2
}
