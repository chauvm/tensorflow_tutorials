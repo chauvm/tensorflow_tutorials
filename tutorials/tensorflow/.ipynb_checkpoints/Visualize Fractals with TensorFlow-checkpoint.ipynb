{
 "cells": [
  {
   "cell_type": "markdown",
   "metadata": {},
   "source": [
    "# Mandelbrot Set\n",
    "\n",
    "https://en.wikipedia.org/wiki/Mandelbrot_set \n",
    "\n",
    "$$z_{n+1} = z_{n}^2 + c$$"
   ]
  },
  {
   "cell_type": "code",
   "execution_count": 1,
   "metadata": {
    "collapsed": true
   },
   "outputs": [],
   "source": [
    "import tensorflow as tf\n",
    "import matplotlib.pyplot as plt\n",
    "import numpy as np"
   ]
  },
  {
   "cell_type": "code",
   "execution_count": 73,
   "metadata": {
    "collapsed": true
   },
   "outputs": [],
   "source": [
    "X, Y = np.mgrid[-2:2:0.005, -2:2:0.005]"
   ]
  },
  {
   "cell_type": "code",
   "execution_count": 54,
   "metadata": {
    "collapsed": false
   },
   "outputs": [
    {
     "data": {
      "text/plain": [
       "array([[-2.  , -2.  , -2.  , ..., -2.  , -2.  , -2.  ],\n",
       "       [-1.95, -1.95, -1.95, ..., -1.95, -1.95, -1.95],\n",
       "       [-1.9 , -1.9 , -1.9 , ..., -1.9 , -1.9 , -1.9 ],\n",
       "       ..., \n",
       "       [ 1.85,  1.85,  1.85, ...,  1.85,  1.85,  1.85],\n",
       "       [ 1.9 ,  1.9 ,  1.9 , ...,  1.9 ,  1.9 ,  1.9 ],\n",
       "       [ 1.95,  1.95,  1.95, ...,  1.95,  1.95,  1.95]])"
      ]
     },
     "execution_count": 54,
     "metadata": {},
     "output_type": "execute_result"
    }
   ],
   "source": [
    "X\n"
   ]
  },
  {
   "cell_type": "code",
   "execution_count": 16,
   "metadata": {
    "collapsed": false
   },
   "outputs": [
    {
     "data": {
      "text/plain": [
       "array([[-2. , -1.5, -1. , -0.5,  0. ,  0.5,  1. ,  1.5],\n",
       "       [-2. , -1.5, -1. , -0.5,  0. ,  0.5,  1. ,  1.5],\n",
       "       [-2. , -1.5, -1. , -0.5,  0. ,  0.5,  1. ,  1.5],\n",
       "       [-2. , -1.5, -1. , -0.5,  0. ,  0.5,  1. ,  1.5],\n",
       "       [-2. , -1.5, -1. , -0.5,  0. ,  0.5,  1. ,  1.5],\n",
       "       [-2. , -1.5, -1. , -0.5,  0. ,  0.5,  1. ,  1.5],\n",
       "       [-2. , -1.5, -1. , -0.5,  0. ,  0.5,  1. ,  1.5],\n",
       "       [-2. , -1.5, -1. , -0.5,  0. ,  0.5,  1. ,  1.5]])"
      ]
     },
     "execution_count": 16,
     "metadata": {},
     "output_type": "execute_result"
    }
   ],
   "source": [
    "Y"
   ]
  },
  {
   "cell_type": "code",
   "execution_count": 74,
   "metadata": {
    "collapsed": false
   },
   "outputs": [],
   "source": [
    "Z = X + 1j*Y"
   ]
  },
  {
   "cell_type": "code",
   "execution_count": 75,
   "metadata": {
    "collapsed": false
   },
   "outputs": [
    {
     "data": {
      "text/plain": [
       "array([[-2.000-2.j   , -2.000-1.995j, -2.000-1.99j , ..., -2.000+1.985j,\n",
       "        -2.000+1.99j , -2.000+1.995j],\n",
       "       [-1.995-2.j   , -1.995-1.995j, -1.995-1.99j , ..., -1.995+1.985j,\n",
       "        -1.995+1.99j , -1.995+1.995j],\n",
       "       [-1.990-2.j   , -1.990-1.995j, -1.990-1.99j , ..., -1.990+1.985j,\n",
       "        -1.990+1.99j , -1.990+1.995j],\n",
       "       ..., \n",
       "       [ 1.985-2.j   ,  1.985-1.995j,  1.985-1.99j , ...,  1.985+1.985j,\n",
       "         1.985+1.99j ,  1.985+1.995j],\n",
       "       [ 1.990-2.j   ,  1.990-1.995j,  1.990-1.99j , ...,  1.990+1.985j,\n",
       "         1.990+1.99j ,  1.990+1.995j],\n",
       "       [ 1.995-2.j   ,  1.995-1.995j,  1.995-1.99j , ...,  1.995+1.985j,\n",
       "         1.995+1.99j ,  1.995+1.995j]])"
      ]
     },
     "execution_count": 75,
     "metadata": {},
     "output_type": "execute_result"
    }
   ],
   "source": [
    "Z"
   ]
  },
  {
   "cell_type": "code",
   "execution_count": 76,
   "metadata": {
    "collapsed": false
   },
   "outputs": [],
   "source": [
    "c = tf.constant(Z.astype(np.complex64))"
   ]
  },
  {
   "cell_type": "code",
   "execution_count": 20,
   "metadata": {
    "collapsed": false
   },
   "outputs": [
    {
     "data": {
      "text/plain": [
       "<tf.Tensor 'Const_1:0' shape=(8, 8) dtype=complex64>"
      ]
     },
     "execution_count": 20,
     "metadata": {},
     "output_type": "execute_result"
    }
   ],
   "source": [
    "c"
   ]
  },
  {
   "cell_type": "code",
   "execution_count": 77,
   "metadata": {
    "collapsed": true
   },
   "outputs": [],
   "source": [
    "zs = tf.Variable(c)\n",
    "ns = tf.Variable(tf.zeros_like(c, tf.float32))"
   ]
  },
  {
   "cell_type": "markdown",
   "metadata": {},
   "source": [
    "Interactive session: https://www.tensorflow.org/versions/r0.10/get_started/basic_usage#interactive_usage \n"
   ]
  },
  {
   "cell_type": "code",
   "execution_count": 78,
   "metadata": {
    "collapsed": false
   },
   "outputs": [],
   "source": [
    "sess = tf.InteractiveSession()\n",
    "tf.global_variables_initializer().run()"
   ]
  },
  {
   "cell_type": "markdown",
   "metadata": {},
   "source": [
    "Handling complex numbers:\n",
    "https://www.tensorflow.org/versions/r0.12/api_docs/python/math_ops/complex_number_functions"
   ]
  },
  {
   "cell_type": "code",
   "execution_count": 79,
   "metadata": {
    "collapsed": true
   },
   "outputs": [],
   "source": [
    "next_zs = zs*zs + c\n",
    "is_not_diverged = tf.complex_abs(next_zs) < 4     # Change this threshold"
   ]
  },
  {
   "cell_type": "markdown",
   "metadata": {},
   "source": [
    "Group multiple operations: https://www.tensorflow.org/api_docs/python/tf/group\n",
    "Update a mutable tensor: https://www.tensorflow.org/api_docs/python/tf/assign \n",
    "Add a value to a mutable tensor: https://www.tensorflow.org/api_docs/python/tf/assign_add \n",
    "Cast a tensor to a new type: https://www.tensorflow.org/api_docs/python/tf/cast "
   ]
  },
  {
   "cell_type": "code",
   "execution_count": 80,
   "metadata": {
    "collapsed": false
   },
   "outputs": [],
   "source": [
    "step = tf.group(zs.assign(next_zs), ns.assign_add(tf.cast(is_not_diverged, tf.float32)))"
   ]
  },
  {
   "cell_type": "code",
   "execution_count": 81,
   "metadata": {
    "collapsed": false
   },
   "outputs": [],
   "source": [
    "iter_num = 2000   # Change this number\n",
    "for i in range(iter_num):\n",
    "    step.run()"
   ]
  },
  {
   "cell_type": "code",
   "execution_count": 82,
   "metadata": {
    "collapsed": false
   },
   "outputs": [
    {
     "data": {
      "text/plain": [
       "array([[ 0.,  0.,  0., ...,  0.,  0.,  0.],\n",
       "       [ 0.,  0.,  0., ...,  0.,  0.,  0.],\n",
       "       [ 0.,  0.,  0., ...,  0.,  0.,  0.],\n",
       "       ..., \n",
       "       [ 0.,  0.,  0., ...,  0.,  0.,  0.],\n",
       "       [ 0.,  0.,  0., ...,  0.,  0.,  0.],\n",
       "       [ 0.,  0.,  0., ...,  0.,  0.,  0.]], dtype=float32)"
      ]
     },
     "execution_count": 82,
     "metadata": {},
     "output_type": "execute_result"
    }
   ],
   "source": [
    "ns.eval()"
   ]
  },
  {
   "cell_type": "code",
   "execution_count": 83,
   "metadata": {
    "collapsed": false
   },
   "outputs": [
    {
     "data": {
      "image/png": "[encoded data removed]",
      "text/plain": [
       "<matplotlib.figure.Figure at 0xe99102668>"
      ]
     },
     "metadata": {},
     "output_type": "display_data"
    }
   ],
   "source": [
    "plt.imshow(ns.eval())\n",
    "#plt.axis([200, 600, 200, 700])\n",
    "plt.show()"
   ]
  },
  {
   "cell_type": "code",
   "execution_count": 84,
   "metadata": {
    "collapsed": true
   },
   "outputs": [],
   "source": [
    "sess.close()"
   ]
  },
  {
   "cell_type": "markdown",
   "metadata": {},
   "source": [
    "# Julia set\n",
    "\n",
    "https://en.wikipedia.org/wiki/Julia_set \n",
    "$$z_{n+1} = z_{n}^2 + c$$\n",
    "with fixed c\n",
    "\n",
    "Let students code this exercise given the example from Mandelbrot set?"
   ]
  },
  {
   "cell_type": "code",
   "execution_count": 87,
   "metadata": {
    "collapsed": false
   },
   "outputs": [],
   "source": [
    "X, Y = np.mgrid[-2:2:0.05, -2:2:0.05]\n",
    "Z = X + 1j*Y\n",
    "Z = tf.constant(Z.astype(\"complex64\"))\n",
    "zs = tf.Variable(Z)\n",
    "ns = tf.Variable(tf.zeros_like(Z, tf.float32))"
   ]
  },
  {
   "cell_type": "code",
   "execution_count": 98,
   "metadata": {
    "collapsed": true
   },
   "outputs": [],
   "source": [
    "sess = tf.InteractiveSession()\n",
    "tf.global_variables_initializer().run()"
   ]
  },
  {
   "cell_type": "code",
   "execution_count": 100,
   "metadata": {
    "collapsed": true
   },
   "outputs": [],
   "source": [
    "c = complex(0.00, -0.75)\n",
    "next_zs = zs*zs + c\n",
    "is_not_diverged = tf.complex_abs(next_zs) < 4\n",
    "step = tf.group(zs.assign(next_zs), ns.assign_add(tf.cast(is_not_diverged, tf.float32)))"
   ]
  },
  {
   "cell_type": "code",
   "execution_count": 107,
   "metadata": {
    "collapsed": false
   },
   "outputs": [],
   "source": [
    "for i in range(200):\n",
    "    step.run()"
   ]
  },
  {
   "cell_type": "code",
   "execution_count": 108,
   "metadata": {
    "collapsed": false
   },
   "outputs": [
    {
     "data": {
      "text/plain": [
       "<tensorflow.python.ops.variables.Variable at 0xe92087da0>"
      ]
     },
     "execution_count": 108,
     "metadata": {},
     "output_type": "execute_result"
    }
   ],
   "source": [
    "ns"
   ]
  },
  {
   "cell_type": "code",
   "execution_count": 109,
   "metadata": {
    "collapsed": false
   },
   "outputs": [
    {
     "data": {
      "image/png": "[encoded data removed]",
      "text/plain": [
       "<matplotlib.figure.Figure at 0xe9946fef0>"
      ]
     },
     "metadata": {},
     "output_type": "display_data"
    }
   ],
   "source": [
    "plt.imshow(ns.eval())\n",
    "plt.show()"
   ]
  },
  {
   "cell_type": "code",
   "execution_count": 111,
   "metadata": {
    "collapsed": true
   },
   "outputs": [],
   "source": [
    "sess.close()"
   ]
  }
 ],
 "metadata": {
  "kernelspec": {
   "display_name": "Python 3",
   "language": "python",
   "name": "python3"
  },
  "language_info": {
   "codemirror_mode": {
    "name": "ipython",
    "version": 3
   },
   "file_extension": ".py",
   "mimetype": "text/x-python",
   "name": "python",
   "nbconvert_exporter": "python",
   "pygments_lexer": "ipython3",
   "version": "3.5.2"
  }
 },
 "nbformat": 4,
 "nbformat_minor": 2
}
