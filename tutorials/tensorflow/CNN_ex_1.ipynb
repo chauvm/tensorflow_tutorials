{
 "cells": [
  {
   "cell_type": "code",
   "execution_count": 1,
   "metadata": {
    "collapsed": true
   },
   "outputs": [],
   "source": [
    "import tensorflow as tf\n",
    "import matplotlib.pyplot as plt\n",
    "import numpy as np"
   ]
  },
  {
   "cell_type": "code",
   "execution_count": 2,
   "metadata": {
    "collapsed": true
   },
   "outputs": [],
   "source": [
    "from tensorflow.examples.tutorials.mnist import input_data"
   ]
  },
  {
   "cell_type": "code",
   "execution_count": 3,
   "metadata": {},
   "outputs": [
    {
     "name": "stdout",
     "output_type": "stream",
     "text": [
      "Extracting MNIST/data\\train-images-idx3-ubyte.gz\n",
      "Extracting MNIST/data\\train-labels-idx1-ubyte.gz\n",
      "Extracting MNIST/data\\t10k-images-idx3-ubyte.gz\n",
      "Extracting MNIST/data\\t10k-labels-idx1-ubyte.gz\n"
     ]
    }
   ],
   "source": [
    "mnist = input_data.read_data_sets('MNIST/data', one_hot=True)"
   ]
  },
  {
   "cell_type": "code",
   "execution_count": 4,
   "metadata": {
    "collapsed": true
   },
   "outputs": [],
   "source": [
    "(train_data, validation_data, test_data) = (mnist.train, mnist.validation, mnist.test)"
   ]
  },
  {
   "cell_type": "code",
   "execution_count": 5,
   "metadata": {},
   "outputs": [
    {
     "data": {
      "text/plain": [
       "55000"
      ]
     },
     "execution_count": 5,
     "metadata": {},
     "output_type": "execute_result"
    }
   ],
   "source": [
    "train_data.num_examples"
   ]
  },
  {
   "cell_type": "code",
   "execution_count": 6,
   "metadata": {
    "collapsed": true
   },
   "outputs": [],
   "source": [
    "with tf.name_scope('Inputs') as scope:\n",
    "    x = tf.placeholder(shape=[None, 784], dtype=tf.float32, name='images')\n",
    "    #x = tf.constant(train_data.images[:5], name='images')\n",
    "    x_image = tf.reshape(x, [-1, 28, 28, 1], name='2d_images')\n",
    "    y_correct = tf.placeholder(shape=[None, 10], dtype=tf.float32, name='correct_output')\n",
    "    #y_correct = tf.constant(train_data.labels[:5], name='labels')"
   ]
  },
  {
   "cell_type": "code",
   "execution_count": 7,
   "metadata": {
    "collapsed": true
   },
   "outputs": [],
   "source": [
    "#sess = tf.Session()"
   ]
  },
  {
   "cell_type": "code",
   "execution_count": 8,
   "metadata": {
    "collapsed": true
   },
   "outputs": [],
   "source": [
    "#sess.run(tf.shape(x_image))"
   ]
  },
  {
   "cell_type": "code",
   "execution_count": 9,
   "metadata": {
    "collapsed": true
   },
   "outputs": [],
   "source": [
    "# first convolution\n",
    "filter_conv1 = 32\n",
    "with tf.name_scope('First_convolution') as scope:\n",
    "    W_conv1 = tf.Variable(tf.truncated_normal(shape=[5, 5, 1, filter_conv1], stddev=0.1))\n",
    "    b_conv1 = tf.Variable(tf.zeros([filter_conv1]))\n",
    "    h_conv1 = tf.nn.conv2d(x_image, W_conv1, strides=[1, 2, 2, 1], padding='SAME') + b_conv1   # (None, 14, 14, filter_conv1)\n",
    "    #h_conv1 = tf.nn.conv2d(x_image, W_conv1, strides=[1, 1, 1, 1], padding='SAME') + b_conv1   # (None, 28, 28, filter_conv1)\n",
    "    h_conv1_relu = tf.nn.relu(h_conv1)"
   ]
  },
  {
   "cell_type": "code",
   "execution_count": 10,
   "metadata": {
    "collapsed": true
   },
   "outputs": [],
   "source": [
    "#sess.run(tf.shape(h_conv1))"
   ]
  },
  {
   "cell_type": "code",
   "execution_count": 11,
   "metadata": {
    "collapsed": true
   },
   "outputs": [],
   "source": [
    "with tf.name_scope('First_pooling') as scope:\n",
    "    h_pool_1 = tf.nn.max_pool(h_conv1_relu, ksize=[1, 2, 2, 1], strides=[1, 2, 2, 1], padding='SAME')  # (None, 7, 7, filter_conv1)\n",
    "    #h_pool_1 = tf.nn.max_pool(h_conv1_relu, ksize=[1, 2, 2, 1], strides=[1, 2, 2, 1], padding='SAME')  # (None, 14, 14, filter_conv1)"
   ]
  },
  {
   "cell_type": "code",
   "execution_count": 12,
   "metadata": {
    "collapsed": true
   },
   "outputs": [],
   "source": [
    "#sess.run(tf.shape(h_pool_1))"
   ]
  },
  {
   "cell_type": "code",
   "execution_count": 13,
   "metadata": {
    "collapsed": true
   },
   "outputs": [],
   "source": [
    "# second convolution\n",
    "filter_conv2 = 64\n",
    "with tf.name_scope('Second_convolution') as scope:\n",
    "    W_conv2 = tf.Variable(tf.truncated_normal(shape=[5, 5, filter_conv1, filter_conv2], stddev=0.1))\n",
    "    b_conv2 = tf.Variable(tf.zeros([filter_conv2]))\n",
    "    h_conv2 = tf.nn.conv2d(h_pool_1, W_conv2, strides=[1, 1, 1, 1], padding='SAME') + b_conv2   # (None, 7, 7, filter_conv2)\n",
    "    #h_conv2 = tf.nn.conv2d(h_pool_1, W_conv2, strides=[1, 1, 1, 1], padding='SAME') + b_conv2   # (None, 14, 14, filter_conv2)\n",
    "    h_conv2_relu = tf.nn.relu(h_conv2)"
   ]
  },
  {
   "cell_type": "code",
   "execution_count": 14,
   "metadata": {
    "collapsed": true
   },
   "outputs": [],
   "source": [
    "# second convolution\n",
    "with tf.name_scope('Second_pooling') as scope:\n",
    "    h_pool_2 = tf.nn.max_pool(h_conv2_relu, ksize=[1, 2, 2, 1], strides=[1, 2, 2, 1], padding='SAME')  # (None, 4, 4, filter_conv2)\n",
    "    #h_pool_2 = tf.nn.max_pool(h_conv2_relu, ksize=[1, 2, 2, 1], strides=[1, 2, 2, 1], padding='SAME')  # (None, 7, 7, filter_conv2)"
   ]
  },
  {
   "cell_type": "code",
   "execution_count": 15,
   "metadata": {
    "collapsed": true
   },
   "outputs": [],
   "source": [
    "#sess.run(tf.shape(h_pool_2))"
   ]
  },
  {
   "cell_type": "code",
   "execution_count": 16,
   "metadata": {
    "collapsed": true
   },
   "outputs": [],
   "source": [
    "#sess.run(tf.shape(fc_input))"
   ]
  },
  {
   "cell_type": "code",
   "execution_count": 17,
   "metadata": {
    "collapsed": true
   },
   "outputs": [],
   "source": [
    "# Fully Connected\n",
    "neuron_1 = 4*4*filter_conv2\n",
    "#neuron_1 = 7*7*filter_conv2\n",
    "neuron_2 = neuron_1 // 2"
   ]
  },
  {
   "cell_type": "code",
   "execution_count": 18,
   "metadata": {
    "collapsed": true
   },
   "outputs": [],
   "source": [
    "# flatten\n",
    "fc_input = tf.reshape(h_pool_2, [-1, neuron_1])\n",
    "#fc_input = tf.reshape(h_pool_2, [-1, 7*7*filter_conv2])"
   ]
  },
  {
   "cell_type": "code",
   "execution_count": 19,
   "metadata": {
    "collapsed": true
   },
   "outputs": [],
   "source": [
    "with tf.name_scope('First_hidden') as scope:\n",
    "    W_1 = tf.Variable(tf.truncated_normal([neuron_1, neuron_2]))\n",
    "    b_1 = tf.Variable(0.0, [neuron_2])\n",
    "    a_1 = tf.nn.relu(tf.matmul(fc_input, W_1) + b_1)"
   ]
  },
  {
   "cell_type": "code",
   "execution_count": 20,
   "metadata": {
    "collapsed": true
   },
   "outputs": [],
   "source": [
    "keep_prob = tf.placeholder(tf.float32)\n",
    "a_1_drop = tf.nn.dropout(a_1, keep_prob)"
   ]
  },
  {
   "cell_type": "code",
   "execution_count": 21,
   "metadata": {
    "collapsed": true
   },
   "outputs": [],
   "source": [
    "with tf.name_scope('Second_hidden') as scope:\n",
    "    W_2 = tf.Variable(tf.truncated_normal([neuron_2, 10]))\n",
    "    b_2 = tf.Variable(0.0, [10])\n",
    "    y = tf.matmul(a_1_drop, W_2) + b_2"
   ]
  },
  {
   "cell_type": "code",
   "execution_count": 22,
   "metadata": {
    "collapsed": true
   },
   "outputs": [],
   "source": [
    "#sess.run(tf.shape(y))"
   ]
  },
  {
   "cell_type": "code",
   "execution_count": 23,
   "metadata": {
    "collapsed": true
   },
   "outputs": [],
   "source": [
    "with tf.name_scope('Cost') as scope:\n",
    "    cross_entropy = tf.reduce_mean(tf.nn.softmax_cross_entropy_with_logits(labels=y_correct, logits=y))"
   ]
  },
  {
   "cell_type": "code",
   "execution_count": 24,
   "metadata": {
    "collapsed": true
   },
   "outputs": [],
   "source": [
    "# Optimization\n",
    "train_step = tf.train.AdamOptimizer(1e-4).minimize(cross_entropy)\n",
    "\n",
    "# Evaluate model\n",
    "correct_prediction = tf.equal(tf.argmax(y,1), tf.argmax(y_correct,1))\n",
    "accuracy = tf.reduce_mean(tf.cast(correct_prediction, tf.float32))"
   ]
  },
  {
   "cell_type": "code",
   "execution_count": 25,
   "metadata": {},
   "outputs": [
    {
     "name": "stdout",
     "output_type": "stream",
     "text": [
      "step 0, training accuracy 0.13\n",
      "Accuracy validation: 0.09650000184774399\n",
      "step 1000, training accuracy 0.87\n",
      "Accuracy validation: 0.8550000786781311\n",
      "step 2000, training accuracy 0.91\n",
      "Accuracy validation: 0.8975000977516174\n",
      "step 3000, training accuracy 0.9\n",
      "Accuracy validation: 0.9050000309944153\n",
      "step 4000, training accuracy 0.915\n",
      "Accuracy validation: 0.9265000224113464\n",
      "step 5000, training accuracy 0.94\n",
      "Accuracy validation: 0.9455000758171082\n",
      "step 6000, training accuracy 0.965\n",
      "Accuracy validation: 0.9515001177787781\n",
      "step 7000, training accuracy 0.985\n",
      "Accuracy validation: 0.9607501029968262\n",
      "step 8000, training accuracy 0.96\n",
      "Accuracy validation: 0.9582500457763672\n",
      "step 9000, training accuracy 0.975\n",
      "Accuracy validation: 0.967750072479248\n",
      "step 10000, training accuracy 1\n",
      "Accuracy validation: 0.9697501063346863\n",
      "step 11000, training accuracy 0.995\n",
      "Accuracy validation: 0.9730001091957092\n",
      "step 12000, training accuracy 0.985\n",
      "Accuracy validation: 0.9760000705718994\n",
      "step 13000, training accuracy 0.995\n",
      "Accuracy validation: 0.9755001068115234\n",
      "step 14000, training accuracy 0.995\n",
      "Accuracy validation: 0.9787501096725464\n",
      "step 15000, training accuracy 0.995\n",
      "Accuracy validation: 0.9810001254081726\n",
      "step 16000, training accuracy 1\n",
      "Accuracy validation: 0.9787500500679016\n",
      "step 17000, training accuracy 1\n",
      "Accuracy validation: 0.983250081539154\n",
      "step 18000, training accuracy 1\n",
      "Accuracy validation: 0.9800001382827759\n",
      "step 19000, training accuracy 1\n",
      "Accuracy validation: 0.9842501282691956\n",
      "step 20000, training accuracy 1\n",
      "Accuracy validation: 0.9840000867843628\n",
      "Accuracy: 0.9762500524520874\n"
     ]
    }
   ],
   "source": [
    "sess = tf.InteractiveSession()\n",
    "sess.run(tf.global_variables_initializer())\n",
    "file_writer = tf.summary.FileWriter(\"CNN_baitap_1a\", sess.graph)\n",
    "# create a summary for our cost and accuracy\n",
    "tf.summary.scalar(\"cost_summary\", cross_entropy)\n",
    "tf.summary.scalar(\"accuracy\", accuracy)\n",
    "# merge all summaries into a single operation which we can execute in a session \n",
    "summary_step = tf.summary.merge_all()\n",
    "validation_size = 4000\n",
    "#for i in range(50001):\n",
    "for i in range(20001):\n",
    "    batch_xs, batch_ys = mnist.train.next_batch(200)\n",
    "    if i%1000 == 0:\n",
    "        train_accuracy = accuracy.eval(feed_dict={\n",
    "            x:batch_xs, y_correct: batch_ys , keep_prob: 1.0})\n",
    "        print(\"step %d, training accuracy %g\"%(i, train_accuracy))\n",
    "        valid_xs, valid_ys = mnist.validation.next_batch(validation_size)\n",
    "        print(\"Accuracy validation: {}\".format(accuracy.eval(\n",
    "                feed_dict = {x: valid_xs, y_correct: valid_ys, keep_prob: 1.0 })))\n",
    "    _, summary = sess.run([train_step, summary_step], \n",
    "            feed_dict={x: batch_xs, y_correct: batch_ys, keep_prob: 0.6})\n",
    "    # logging\n",
    "    file_writer.add_summary(summary, i)\n",
    "    \n",
    "print(\"Accuracy: {}\".format(accuracy.eval(feed_dict = {x: mnist.test.images[:validation_size], \n",
    "                                               y_correct: mnist.test.labels[:validation_size], keep_prob: 1.0})))"
   ]
  },
  {
   "cell_type": "code",
   "execution_count": null,
   "metadata": {
    "collapsed": true
   },
   "outputs": [],
   "source": []
  }
 ],
 "metadata": {
  "kernelspec": {
   "display_name": "Python 3",
   "language": "python",
   "name": "python3"
  },
  "language_info": {
   "codemirror_mode": {
    "name": "ipython",
    "version": 3
   },
   "file_extension": ".py",
   "mimetype": "text/x-python",
   "name": "python",
   "nbconvert_exporter": "python",
   "pygments_lexer": "ipython3",
   "version": "3.5.3"
  }
 },
 "nbformat": 4,
 "nbformat_minor": 2
}
