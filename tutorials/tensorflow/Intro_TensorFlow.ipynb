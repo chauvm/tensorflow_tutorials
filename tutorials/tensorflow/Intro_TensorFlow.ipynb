{
 "cells": [
  {
   "cell_type": "markdown",
   "metadata": {
    "slideshow": {
     "slide_type": "slide"
    }
   },
   "source": [
    "# Giới thiệu TensorFlow và các thao tác cơ bản\n",
    "## MaSSP 2017, Computer Science"
   ]
  },
  {
   "cell_type": "markdown",
   "metadata": {
    "slideshow": {
     "slide_type": "notes"
    }
   },
   "source": [
    "__Chuẩn bị: Xếp Châu__"
   ]
  },
  {
   "cell_type": "markdown",
   "metadata": {
    "slideshow": {
     "slide_type": "slide"
    }
   },
   "source": [
    "## 0. Giới thiệu TensorFlow\n",
    "<img style=\"width: 320px; height: 320px; float: left;\" src=\"../../images/Intro_TensorFlow/tensorflow_logo.png\" />\n",
    "\n",
    "<li>__TensorFlow__ là một thư viện mở được phát triển bởi các nhà nghiên cứu và kĩ sư trong Google Brain Team. \n",
    "<li>Mục đích ban đầu nhằm thực hiện nghiên cứu trong Machine Learning và Deep neural networks, nhưng hệ thống có thể áp dụng cho nhiều lĩnh vực khác. "
   ]
  },
  {
   "cell_type": "markdown",
   "metadata": {
    "slideshow": {
     "slide_type": "subslide"
    }
   },
   "source": [
    "<img style=\"width: 350px; height: 260px; float: right;\" src=\"../../images/Intro_TensorFlow/dataflow_graph.png\" />\n",
    " \n",
    "<li> __TensorFlow__ thực hiện các tính toán trong một __session__ </li>\n",
    "<li> các tính toán được biểu diễn dưới dạng __graph__</li>\n",
    "<li> mỗi phép tính (__operation__) là một node </li>\n",
    "<li> dữ liệu, biến được biễu diễn dưới dạng __tensor__</li>\n",
    "\n",
    "Khi thực hiện tính toán trong graph, graph phải được chạy trong một __session__.\n",
    "\n",
    "__Session__ sẽ đưa các __operation__ trong __graph__ vào CPU hoặc GPU để thực hiện chúng."
   ]
  },
  {
   "cell_type": "markdown",
   "metadata": {
    "slideshow": {
     "slide_type": "subslide"
    }
   },
   "source": [
    "<li> __Tensor__ là một _typed multi-dimensional array_</li>\n",
    "\n",
    "Ví dụ, một nhóm các hình ảnh có thể được biểu diễn bằng một 4-D array tensor gồm các số thực. Bốn chiều của array này là $[batch, height, width, channels]$. $Batch$ tương ứng với số hình ảnh, và 3 giá trị còn lại ta đã nắm rõ từ lab xử lý ảnh, chúng tương ứng với chiều cao, độ rộng của một ảnh, và số kênh của một hình ảnh."
   ]
  },
  {
   "cell_type": "markdown",
   "metadata": {
    "slideshow": {
     "slide_type": "subslide"
    }
   },
   "source": [
    "<img style=\"width: 450px; height: 270px; float: left;\" src=\"../../images/Intro_TensorFlow/operations.png\" />\n",
    "\n",
    "<li> Một __operation__ có thể nhận $0$ hoặc nhiều hơn $0$ Tensor, thực hiện một số tính toán, và tạo ra $0$ hoặc nhiều hơn $0$ __tensor__.</li>"
   ]
  },
  {
   "cell_type": "markdown",
   "metadata": {
    "slideshow": {
     "slide_type": "slide"
    }
   },
   "source": [
    "## 1. Xây dựng graph đơn giản nhất\n",
    "Trong phần này, chúng ta sẽ học cách truy cập __graph__ trong TensorFlow, thêm vào graph một số __operations__ đơn giản, và tạo ra một __session__ để thực hiện các operations trong graph.\n",
    "\n",
    "Đầu tiên chúng ta import tensorflow và viết tắt nó là <i>tf</i>."
   ]
  },
  {
   "cell_type": "code",
   "execution_count": 2,
   "metadata": {
    "collapsed": true,
    "slideshow": {
     "slide_type": "fragment"
    }
   },
   "outputs": [],
   "source": [
    "import tensorflow as tf"
   ]
  },
  {
   "cell_type": "markdown",
   "metadata": {
    "slideshow": {
     "slide_type": "slide"
    }
   },
   "source": [
    "Lúc này, TensorFlow cung cấp sẵn một __graph__, ta có thể dùng lệnh $get\\_default\\_graph()$ để thu được graph có sẵn này."
   ]
  },
  {
   "cell_type": "code",
   "execution_count": 3,
   "metadata": {
    "collapsed": false,
    "slideshow": {
     "slide_type": "fragment"
    }
   },
   "outputs": [
    {
     "data": {
      "text/plain": [
       "<tensorflow.python.framework.ops.Graph at 0xf7294a6ac8>"
      ]
     },
     "execution_count": 3,
     "metadata": {},
     "output_type": "execute_result"
    }
   ],
   "source": [
    "graph = tf.get_default_graph()\n",
    "graph"
   ]
  },
  {
   "cell_type": "markdown",
   "metadata": {
    "slideshow": {
     "slide_type": "slide"
    }
   },
   "source": [
    ">Từ output trên ta thấy được graph là một đối tượng của class Graph, class này được định nghĩa tại đây: https://github.com/tensorflow/tensorflow/blob/master/tensorflow/python/framework/ops.py"
   ]
  },
  {
   "cell_type": "markdown",
   "metadata": {
    "slideshow": {
     "slide_type": "slide"
    }
   },
   "source": [
    "Như đã đề cập, mỗi node trong graph là một operation. Hàm $get\\_operations()$ sẽ trả về một _list các operations_ đang có trong graph. Định nghĩa của hàm này có thể được tìm thấy trong class Graph.\n",
    "\n",
    "<img src=\"../../images/Intro_TensorFlow/graph_get_operations.png\" />"
   ]
  },
  {
   "cell_type": "code",
   "execution_count": 4,
   "metadata": {
    "collapsed": false,
    "slideshow": {
     "slide_type": "fragment"
    }
   },
   "outputs": [
    {
     "data": {
      "text/plain": [
       "[]"
      ]
     },
     "execution_count": 4,
     "metadata": {},
     "output_type": "execute_result"
    }
   ],
   "source": [
    "operations = graph.get_operations()\n",
    "operations"
   ]
  },
  {
   "cell_type": "markdown",
   "metadata": {
    "slideshow": {
     "slide_type": "slide"
    }
   },
   "source": [
    "Lúc này graph chưa có operation nào cả. Ta hãy thử khởi tạo một hằng số $x$ với giá trị $1.0$ xem graph thay đổi thế nào."
   ]
  },
  {
   "cell_type": "code",
   "execution_count": 5,
   "metadata": {
    "collapsed": false,
    "slideshow": {
     "slide_type": "fragment"
    }
   },
   "outputs": [],
   "source": [
    "x = tf.constant(1.0)"
   ]
  },
  {
   "cell_type": "markdown",
   "metadata": {
    "slideshow": {
     "slide_type": "slide"
    }
   },
   "source": [
    "Việc khởi tạo một hằng số này là một operation, cũng chính là một node trong graph."
   ]
  },
  {
   "cell_type": "code",
   "execution_count": 6,
   "metadata": {
    "collapsed": false,
    "slideshow": {
     "slide_type": "fragment"
    }
   },
   "outputs": [
    {
     "data": {
      "text/plain": [
       "[<tensorflow.python.framework.ops.Operation at 0xf7294bdc88>]"
      ]
     },
     "execution_count": 6,
     "metadata": {},
     "output_type": "execute_result"
    }
   ],
   "source": [
    "operations = graph.get_operations()\n",
    "operations"
   ]
  },
  {
   "cell_type": "markdown",
   "metadata": {
    "slideshow": {
     "slide_type": "slide"
    }
   },
   "source": [
    ">Operation class cũng được định nghĩa tại đây: https://github.com/tensorflow/tensorflow/blob/master/tensorflow/python/framework/ops.py"
   ]
  },
  {
   "cell_type": "markdown",
   "metadata": {
    "slideshow": {
     "slide_type": "slide"
    }
   },
   "source": [
    "Ta có thể dùng $node\\_def$ để thấy rõ hơn cấu trúc của operation này."
   ]
  },
  {
   "cell_type": "code",
   "execution_count": 7,
   "metadata": {
    "collapsed": false,
    "slideshow": {
     "slide_type": "fragment"
    }
   },
   "outputs": [
    {
     "data": {
      "text/plain": [
       "name: \"Const\"\n",
       "op: \"Const\"\n",
       "attr {\n",
       "  key: \"dtype\"\n",
       "  value {\n",
       "    type: DT_FLOAT\n",
       "  }\n",
       "}\n",
       "attr {\n",
       "  key: \"value\"\n",
       "  value {\n",
       "    tensor {\n",
       "      dtype: DT_FLOAT\n",
       "      tensor_shape {\n",
       "      }\n",
       "      float_val: 1.0\n",
       "    }\n",
       "  }\n",
       "}"
      ]
     },
     "execution_count": 7,
     "metadata": {},
     "output_type": "execute_result"
    }
   ],
   "source": [
    "operations[0].node_def"
   ]
  },
  {
   "cell_type": "markdown",
   "metadata": {
    "slideshow": {
     "slide_type": "slide"
    }
   },
   "source": [
    "Lưu ý, chúng ta có thể đánh giá input $x$ theo cách thông thường, nhưng sẽ chỉ thu được những thông tin sau."
   ]
  },
  {
   "cell_type": "code",
   "execution_count": 9,
   "metadata": {
    "collapsed": false,
    "slideshow": {
     "slide_type": "fragment"
    }
   },
   "outputs": [
    {
     "name": "stdout",
     "output_type": "stream",
     "text": [
      "Tensor(\"Const:0\", shape=(), dtype=float32)\n"
     ]
    }
   ],
   "source": [
    "print(x)"
   ]
  },
  {
   "cell_type": "markdown",
   "metadata": {
    "slideshow": {
     "slide_type": "slide"
    }
   },
   "source": [
    "__Checkpoint 1__: Bạn hãy đoán xem kết quả của lệnh \"print\" trên thu được nhờ hàm nào trong https://github.com/tensorflow/tensorflow/blob/master/tensorflow/python/framework/ops.py?  "
   ]
  },
  {
   "cell_type": "markdown",
   "metadata": {
    "slideshow": {
     "slide_type": "slide"
    }
   },
   "source": [
    "Kết quả cho thấy input $x$ là một hằng số, 32-bit float tensor không có chiều, nhưng không cho ta biết giá trị của hằng số này là gì. Để đánh giá input $x$ và nhận được giá trị số của nó, chúng ta cần đến một __session__."
   ]
  },
  {
   "cell_type": "code",
   "execution_count": 11,
   "metadata": {
    "collapsed": false,
    "slideshow": {
     "slide_type": "fragment"
    }
   },
   "outputs": [
    {
     "data": {
      "text/plain": [
       "1.0"
      ]
     },
     "execution_count": 11,
     "metadata": {},
     "output_type": "execute_result"
    }
   ],
   "source": [
    "sess = tf.Session()    # khởi tạo session\n",
    "sess.run(x)            # thực hiện operation x, tf.constant(1.0)"
   ]
  },
  {
   "cell_type": "code",
   "execution_count": 12,
   "metadata": {
    "collapsed": true,
    "slideshow": {
     "slide_type": "fragment"
    }
   },
   "outputs": [],
   "source": [
    "sess.close()           # đóng session"
   ]
  },
  {
   "cell_type": "markdown",
   "metadata": {
    "slideshow": {
     "slide_type": "slide"
    }
   },
   "source": [
    "Lưu ý, ngoài $Session()$, chúng ta sẽ sử dụng $InteractiveSession()$ rất nhiều trong chương trình. Với $InteractiveSession$, chúng ta không cần viết $sess.run(x)$, mà có thể viết $x.eval()$ để thực hiện một operation."
   ]
  },
  {
   "cell_type": "code",
   "execution_count": 13,
   "metadata": {
    "collapsed": false,
    "slideshow": {
     "slide_type": "fragment"
    }
   },
   "outputs": [
    {
     "data": {
      "text/plain": [
       "1.0"
      ]
     },
     "execution_count": 13,
     "metadata": {},
     "output_type": "execute_result"
    }
   ],
   "source": [
    "sess = tf.InteractiveSession()\n",
    "x.eval()"
   ]
  },
  {
   "cell_type": "markdown",
   "metadata": {
    "slideshow": {
     "slide_type": "slide"
    }
   },
   "source": [
    "Hãy nhớ đóng session lại cuối chương trình!"
   ]
  },
  {
   "cell_type": "code",
   "execution_count": 14,
   "metadata": {
    "collapsed": true,
    "slideshow": {
     "slide_type": "fragment"
    }
   },
   "outputs": [],
   "source": [
    "sess.close()"
   ]
  },
  {
   "cell_type": "markdown",
   "metadata": {
    "slideshow": {
     "slide_type": "slide"
    }
   },
   "source": [
    "Chúng ta vừa học cách tạo ra một hằng số trong TensorFlow, cách nhận biết các operations trong __graph__, và dùng __session__ để đánh giá một operation. \n",
    "\n",
    "Tuy nhiên graph hiện tại chưa thực hiện một phép tính toán đúng nghĩa nào. Hãy cùng xây dựng một _neuron_ có thể thực hiện được một phép tính toán đơn giản trong phần sau."
   ]
  },
  {
   "cell_type": "markdown",
   "metadata": {
    "slideshow": {
     "slide_type": "slide"
    }
   },
   "source": [
    "## 2. Xây dựng TensorFlow neuron\n",
    "<img style=\"float: left\" src=\"../../images/Intro_TensorFlow/a_simple_neuron.png\" />\n",
    "Trong phần này, chúng ta sẽ mô phỏng lại một neuron đơn giản. Neuron này chỉ có 2 tham số cần tìm và cả 2 đều là số thực, đó là weight $w$ và bias $b$. Neuron sẽ nhận một giá trị input $x$, và xuất ra một giá trị output $y$ theo công thức \n",
    "\n",
    "$output = weight * input + bias$, hay $y = w*x + b$"
   ]
  },
  {
   "cell_type": "markdown",
   "metadata": {
    "slideshow": {
     "slide_type": "slide"
    }
   },
   "source": [
    "Neuron sẽ bắt đầu với giá trị weight $w$ và bias $b$ bất kì. Chúng ta sẽ cho neuron giá trị của input $x$, và output $y\\_correct$ mong muốn tương ứng với input $x$ này.\n",
    "\n",
    "Với giá trị weight $w$, bias $b$ ban đầu và input $x$, neuron áp dụng công thức tính ra output $y$, và tất nhiên sẽ có sai số với output mong muốn $y\\_correct$."
   ]
  },
  {
   "cell_type": "markdown",
   "metadata": {
    "slideshow": {
     "slide_type": "subslide"
    }
   },
   "source": [
    "Để giúp neuron điều chỉnh giá trị weight $w$ và bias $b$ cho phù hợp (sao cho output $y$ của neuron sẽ gần hơn với $y\\_correct$), chúng ta sẽ cung cấp cho neuron một hàm tính sai số __cost function__.\n",
    "\n",
    "Sai số càng lớn khi output $y$ của neuron càng xa với $y\\_correct$, và neuron sẽ thay đổi weight $w$ và bias $b$ nhiều hơn khi sai số càng lớn."
   ]
  },
  {
   "cell_type": "markdown",
   "metadata": {
    "slideshow": {
     "slide_type": "subslide"
    }
   },
   "source": [
    "Do weight $w$ và bias $b$ sẽ biến thiên tùy vào sai số trong quá trình học, ta sẽ sử dụng biến TensorFlow ($tf.Variable$ class) cho chúng.\n",
    "\n",
    "Code của $tf.Variable$ class: https://github.com/tensorflow/tensorflow/blob/master/tensorflow/python/ops/variables.py."
   ]
  },
  {
   "cell_type": "markdown",
   "metadata": {
    "slideshow": {
     "slide_type": "slide"
    }
   },
   "source": [
    "Đầu tiên, khởi tạo biến weight $w$ ban đầu, giả sử có giá trị ban đầu là $0.8$."
   ]
  },
  {
   "cell_type": "code",
   "execution_count": 15,
   "metadata": {
    "collapsed": false,
    "slideshow": {
     "slide_type": "fragment"
    }
   },
   "outputs": [
    {
     "data": {
      "text/plain": [
       "<tensorflow.python.ops.variables.Variable at 0xf7298c2668>"
      ]
     },
     "execution_count": 15,
     "metadata": {},
     "output_type": "execute_result"
    }
   ],
   "source": [
    "w = tf.Variable(0.8)\n",
    "w"
   ]
  },
  {
   "cell_type": "markdown",
   "metadata": {
    "slideshow": {
     "slide_type": "slide"
    }
   },
   "source": [
    "__Checkpoint 2__: So với khởi tạo một hằng số, việc khởi tạo một biến thêm vào graph bao nhiêu operations? Hãy in ra tên của những operations đó và đoán xem nhiệm vụ của chúng là gì?\n",
    "\n",
    "_Gợi ý: sử dụng $op.name$ để biết được tên của operation $op$._"
   ]
  },
  {
   "cell_type": "code",
   "execution_count": null,
   "metadata": {
    "collapsed": false,
    "scrolled": true,
    "slideshow": {
     "slide_type": "fragment"
    }
   },
   "outputs": [],
   "source": [
    "# code \n"
   ]
  },
  {
   "cell_type": "markdown",
   "metadata": {
    "slideshow": {
     "slide_type": "slide"
    }
   },
   "source": [
    "Tương tự, ta khởi tạo biến bias $b$ với giá trị ban đầu bất kì, giả sử là $0.5$."
   ]
  },
  {
   "cell_type": "code",
   "execution_count": 16,
   "metadata": {
    "collapsed": false,
    "slideshow": {
     "slide_type": "fragment"
    }
   },
   "outputs": [
    {
     "data": {
      "text/plain": [
       "<tensorflow.python.ops.variables.Variable at 0xf7298c2710>"
      ]
     },
     "execution_count": 16,
     "metadata": {},
     "output_type": "execute_result"
    }
   ],
   "source": [
    "b = tf.Variable(0.5)\n",
    "b"
   ]
  },
  {
   "cell_type": "markdown",
   "metadata": {
    "collapsed": false,
    "slideshow": {
     "slide_type": "slide"
    }
   },
   "source": [
    "Hãy sử dụng lại code từ Checkpoint 2 để biết các operations thêm vào graph từ việc khởi tạo bias $b$."
   ]
  },
  {
   "cell_type": "code",
   "execution_count": null,
   "metadata": {
    "collapsed": true,
    "slideshow": {
     "slide_type": "fragment"
    }
   },
   "outputs": [],
   "source": [
    "# code\n"
   ]
  },
  {
   "cell_type": "markdown",
   "metadata": {
    "slideshow": {
     "slide_type": "slide"
    }
   },
   "source": [
    "Với input $x$ $1.0$ từ phần 1 và weight $w$, bias $b$ vừa khởi tạo, ta đã sẵn sàng thêm vào graph một operation tính toán thật sự khi tính output $y$."
   ]
  },
  {
   "cell_type": "code",
   "execution_count": 17,
   "metadata": {
    "collapsed": false,
    "slideshow": {
     "slide_type": "fragment"
    }
   },
   "outputs": [],
   "source": [
    "y = w * x + b"
   ]
  },
  {
   "cell_type": "markdown",
   "metadata": {
    "slideshow": {
     "slide_type": "slide"
    }
   },
   "source": [
    "Hãy viết code để biết được __2 operation mới nhất__ nào vừa được thêm vào graph."
   ]
  },
  {
   "cell_type": "code",
   "execution_count": 20,
   "metadata": {
    "collapsed": false,
    "slideshow": {
     "slide_type": "fragment"
    }
   },
   "outputs": [],
   "source": [
    "# code\n"
   ]
  },
  {
   "cell_type": "markdown",
   "metadata": {
    "slideshow": {
     "slide_type": "slide"
    }
   },
   "source": [
    "__Checkpoint 3__: Bạn có thể đoán được đoạn code có mục đich gì không?"
   ]
  },
  {
   "cell_type": "code",
   "execution_count": null,
   "metadata": {
    "collapsed": false,
    "slideshow": {
     "slide_type": "fragment"
    }
   },
   "outputs": [],
   "source": [
    "for op in graph.get_operations():\n",
    "    print(\"Operation name: {}\".format(op.name))\n",
    "    for op_input in op.inputs:\n",
    "        print(\"\\tOp input: {}\".format(op_input))"
   ]
  },
  {
   "cell_type": "markdown",
   "metadata": {
    "slideshow": {
     "slide_type": "slide"
    }
   },
   "source": [
    "Hãy thử tính kết quả của phép nhân trên bằng $InteractiveSession$."
   ]
  },
  {
   "cell_type": "code",
   "execution_count": 24,
   "metadata": {
    "collapsed": true,
    "slideshow": {
     "slide_type": "fragment"
    }
   },
   "outputs": [
    {
     "ename": "FailedPreconditionError",
     "evalue": "Attempting to use uninitialized value Variable_1\n\t [[Node: Variable_1/read = Identity[T=DT_FLOAT, _class=[\"loc:@Variable_1\"], _device=\"/job:localhost/replica:0/task:0/cpu:0\"](Variable_1)]]\n\nCaused by op 'Variable_1/read', defined at:\n  File \"C:\\Users\\vumin\\Anaconda3\\envs\\tensorflow\\lib\\runpy.py\", line 184, in _run_module_as_main\n    \"__main__\", mod_spec)\n  File \"C:\\Users\\vumin\\Anaconda3\\envs\\tensorflow\\lib\\runpy.py\", line 85, in _run_code\n    exec(code, run_globals)\n  File \"C:\\Users\\vumin\\Anaconda3\\envs\\tensorflow\\lib\\site-packages\\ipykernel\\__main__.py\", line 3, in <module>\n    app.launch_new_instance()\n  File \"C:\\Users\\vumin\\Anaconda3\\envs\\tensorflow\\lib\\site-packages\\traitlets\\config\\application.py\", line 658, in launch_instance\n    app.start()\n  File \"C:\\Users\\vumin\\Anaconda3\\envs\\tensorflow\\lib\\site-packages\\ipykernel\\kernelapp.py\", line 474, in start\n    ioloop.IOLoop.instance().start()\n  File \"C:\\Users\\vumin\\Anaconda3\\envs\\tensorflow\\lib\\site-packages\\zmq\\eventloop\\ioloop.py\", line 177, in start\n    super(ZMQIOLoop, self).start()\n  File \"C:\\Users\\vumin\\Anaconda3\\envs\\tensorflow\\lib\\site-packages\\tornado\\ioloop.py\", line 887, in start\n    handler_func(fd_obj, events)\n  File \"C:\\Users\\vumin\\Anaconda3\\envs\\tensorflow\\lib\\site-packages\\tornado\\stack_context.py\", line 275, in null_wrapper\n    return fn(*args, **kwargs)\n  File \"C:\\Users\\vumin\\Anaconda3\\envs\\tensorflow\\lib\\site-packages\\zmq\\eventloop\\zmqstream.py\", line 440, in _handle_events\n    self._handle_recv()\n  File \"C:\\Users\\vumin\\Anaconda3\\envs\\tensorflow\\lib\\site-packages\\zmq\\eventloop\\zmqstream.py\", line 472, in _handle_recv\n    self._run_callback(callback, msg)\n  File \"C:\\Users\\vumin\\Anaconda3\\envs\\tensorflow\\lib\\site-packages\\zmq\\eventloop\\zmqstream.py\", line 414, in _run_callback\n    callback(*args, **kwargs)\n  File \"C:\\Users\\vumin\\Anaconda3\\envs\\tensorflow\\lib\\site-packages\\tornado\\stack_context.py\", line 275, in null_wrapper\n    return fn(*args, **kwargs)\n  File \"C:\\Users\\vumin\\Anaconda3\\envs\\tensorflow\\lib\\site-packages\\ipykernel\\kernelbase.py\", line 276, in dispatcher\n    return self.dispatch_shell(stream, msg)\n  File \"C:\\Users\\vumin\\Anaconda3\\envs\\tensorflow\\lib\\site-packages\\ipykernel\\kernelbase.py\", line 228, in dispatch_shell\n    handler(stream, idents, msg)\n  File \"C:\\Users\\vumin\\Anaconda3\\envs\\tensorflow\\lib\\site-packages\\ipykernel\\kernelbase.py\", line 390, in execute_request\n    user_expressions, allow_stdin)\n  File \"C:\\Users\\vumin\\Anaconda3\\envs\\tensorflow\\lib\\site-packages\\ipykernel\\ipkernel.py\", line 196, in do_execute\n    res = shell.run_cell(code, store_history=store_history, silent=silent)\n  File \"C:\\Users\\vumin\\Anaconda3\\envs\\tensorflow\\lib\\site-packages\\ipykernel\\zmqshell.py\", line 501, in run_cell\n    return super(ZMQInteractiveShell, self).run_cell(*args, **kwargs)\n  File \"C:\\Users\\vumin\\Anaconda3\\envs\\tensorflow\\lib\\site-packages\\IPython\\core\\interactiveshell.py\", line 2717, in run_cell\n    interactivity=interactivity, compiler=compiler, result=result)\n  File \"C:\\Users\\vumin\\Anaconda3\\envs\\tensorflow\\lib\\site-packages\\IPython\\core\\interactiveshell.py\", line 2821, in run_ast_nodes\n    if self.run_code(code, result):\n  File \"C:\\Users\\vumin\\Anaconda3\\envs\\tensorflow\\lib\\site-packages\\IPython\\core\\interactiveshell.py\", line 2881, in run_code\n    exec(code_obj, self.user_global_ns, self.user_ns)\n  File \"<ipython-input-16-015342d7cb22>\", line 1, in <module>\n    b = tf.Variable(0.5)\n  File \"C:\\Users\\vumin\\Anaconda3\\envs\\tensorflow\\lib\\site-packages\\tensorflow\\python\\ops\\variables.py\", line 224, in __init__\n    expected_shape=expected_shape)\n  File \"C:\\Users\\vumin\\Anaconda3\\envs\\tensorflow\\lib\\site-packages\\tensorflow\\python\\ops\\variables.py\", line 370, in _init_from_args\n    self._snapshot = array_ops.identity(self._variable, name=\"read\")\n  File \"C:\\Users\\vumin\\Anaconda3\\envs\\tensorflow\\lib\\site-packages\\tensorflow\\python\\ops\\gen_array_ops.py\", line 1424, in identity\n    result = _op_def_lib.apply_op(\"Identity\", input=input, name=name)\n  File \"C:\\Users\\vumin\\Anaconda3\\envs\\tensorflow\\lib\\site-packages\\tensorflow\\python\\framework\\op_def_library.py\", line 759, in apply_op\n    op_def=op_def)\n  File \"C:\\Users\\vumin\\Anaconda3\\envs\\tensorflow\\lib\\site-packages\\tensorflow\\python\\framework\\ops.py\", line 2240, in create_op\n    original_op=self._default_original_op, op_def=op_def)\n  File \"C:\\Users\\vumin\\Anaconda3\\envs\\tensorflow\\lib\\site-packages\\tensorflow\\python\\framework\\ops.py\", line 1128, in __init__\n    self._traceback = _extract_stack()\n\nFailedPreconditionError (see above for traceback): Attempting to use uninitialized value Variable_1\n\t [[Node: Variable_1/read = Identity[T=DT_FLOAT, _class=[\"loc:@Variable_1\"], _device=\"/job:localhost/replica:0/task:0/cpu:0\"](Variable_1)]]\n",
     "output_type": "error",
     "traceback": [
      "\u001b[0;31m---------------------------------------------------------------------------\u001b[0m",
      "\u001b[0;31mFailedPreconditionError\u001b[0m                   Traceback (most recent call last)",
      "\u001b[0;32mC:\\Users\\vumin\\Anaconda3\\envs\\tensorflow\\lib\\site-packages\\tensorflow\\python\\client\\session.py\u001b[0m in \u001b[0;36m_do_call\u001b[0;34m(self, fn, *args)\u001b[0m\n\u001b[1;32m   1020\u001b[0m     \u001b[1;32mtry\u001b[0m\u001b[1;33m:\u001b[0m\u001b[1;33m\u001b[0m\u001b[0m\n\u001b[0;32m-> 1021\u001b[0;31m       \u001b[1;32mreturn\u001b[0m \u001b[0mfn\u001b[0m\u001b[1;33m(\u001b[0m\u001b[1;33m*\u001b[0m\u001b[0margs\u001b[0m\u001b[1;33m)\u001b[0m\u001b[1;33m\u001b[0m\u001b[0m\n\u001b[0m\u001b[1;32m   1022\u001b[0m     \u001b[1;32mexcept\u001b[0m \u001b[0merrors\u001b[0m\u001b[1;33m.\u001b[0m\u001b[0mOpError\u001b[0m \u001b[1;32mas\u001b[0m \u001b[0me\u001b[0m\u001b[1;33m:\u001b[0m\u001b[1;33m\u001b[0m\u001b[0m\n",
      "\u001b[0;32mC:\\Users\\vumin\\Anaconda3\\envs\\tensorflow\\lib\\site-packages\\tensorflow\\python\\client\\session.py\u001b[0m in \u001b[0;36m_run_fn\u001b[0;34m(session, feed_dict, fetch_list, target_list, options, run_metadata)\u001b[0m\n\u001b[1;32m   1002\u001b[0m                                  \u001b[0mfeed_dict\u001b[0m\u001b[1;33m,\u001b[0m \u001b[0mfetch_list\u001b[0m\u001b[1;33m,\u001b[0m \u001b[0mtarget_list\u001b[0m\u001b[1;33m,\u001b[0m\u001b[1;33m\u001b[0m\u001b[0m\n\u001b[0;32m-> 1003\u001b[0;31m                                  status, run_metadata)\n\u001b[0m\u001b[1;32m   1004\u001b[0m \u001b[1;33m\u001b[0m\u001b[0m\n",
      "\u001b[0;32mC:\\Users\\vumin\\Anaconda3\\envs\\tensorflow\\lib\\contextlib.py\u001b[0m in \u001b[0;36m__exit__\u001b[0;34m(self, type, value, traceback)\u001b[0m\n\u001b[1;32m     65\u001b[0m             \u001b[1;32mtry\u001b[0m\u001b[1;33m:\u001b[0m\u001b[1;33m\u001b[0m\u001b[0m\n\u001b[0;32m---> 66\u001b[0;31m                 \u001b[0mnext\u001b[0m\u001b[1;33m(\u001b[0m\u001b[0mself\u001b[0m\u001b[1;33m.\u001b[0m\u001b[0mgen\u001b[0m\u001b[1;33m)\u001b[0m\u001b[1;33m\u001b[0m\u001b[0m\n\u001b[0m\u001b[1;32m     67\u001b[0m             \u001b[1;32mexcept\u001b[0m \u001b[0mStopIteration\u001b[0m\u001b[1;33m:\u001b[0m\u001b[1;33m\u001b[0m\u001b[0m\n",
      "\u001b[0;32mC:\\Users\\vumin\\Anaconda3\\envs\\tensorflow\\lib\\site-packages\\tensorflow\\python\\framework\\errors_impl.py\u001b[0m in \u001b[0;36mraise_exception_on_not_ok_status\u001b[0;34m()\u001b[0m\n\u001b[1;32m    468\u001b[0m           \u001b[0mcompat\u001b[0m\u001b[1;33m.\u001b[0m\u001b[0mas_text\u001b[0m\u001b[1;33m(\u001b[0m\u001b[0mpywrap_tensorflow\u001b[0m\u001b[1;33m.\u001b[0m\u001b[0mTF_Message\u001b[0m\u001b[1;33m(\u001b[0m\u001b[0mstatus\u001b[0m\u001b[1;33m)\u001b[0m\u001b[1;33m)\u001b[0m\u001b[1;33m,\u001b[0m\u001b[1;33m\u001b[0m\u001b[0m\n\u001b[0;32m--> 469\u001b[0;31m           pywrap_tensorflow.TF_GetCode(status))\n\u001b[0m\u001b[1;32m    470\u001b[0m   \u001b[1;32mfinally\u001b[0m\u001b[1;33m:\u001b[0m\u001b[1;33m\u001b[0m\u001b[0m\n",
      "\u001b[0;31mFailedPreconditionError\u001b[0m: Attempting to use uninitialized value Variable_1\n\t [[Node: Variable_1/read = Identity[T=DT_FLOAT, _class=[\"loc:@Variable_1\"], _device=\"/job:localhost/replica:0/task:0/cpu:0\"](Variable_1)]]",
      "\nDuring handling of the above exception, another exception occurred:\n",
      "\u001b[0;31mFailedPreconditionError\u001b[0m                   Traceback (most recent call last)",
      "\u001b[0;32m<ipython-input-24-830a6dd0006d>\u001b[0m in \u001b[0;36m<module>\u001b[0;34m()\u001b[0m\n\u001b[1;32m      1\u001b[0m \u001b[0msess\u001b[0m \u001b[1;33m=\u001b[0m \u001b[0mtf\u001b[0m\u001b[1;33m.\u001b[0m\u001b[0mInteractiveSession\u001b[0m\u001b[1;33m(\u001b[0m\u001b[1;33m)\u001b[0m\u001b[1;33m\u001b[0m\u001b[0m\n\u001b[0;32m----> 2\u001b[0;31m \u001b[0my\u001b[0m\u001b[1;33m.\u001b[0m\u001b[0meval\u001b[0m\u001b[1;33m(\u001b[0m\u001b[1;33m)\u001b[0m\u001b[1;33m\u001b[0m\u001b[0m\n\u001b[0m\u001b[1;32m      3\u001b[0m \u001b[1;31m#sess.run(y)              # hoặc y.eval()\u001b[0m\u001b[1;33m\u001b[0m\u001b[1;33m\u001b[0m\u001b[0m\n",
      "\u001b[0;32mC:\\Users\\vumin\\Anaconda3\\envs\\tensorflow\\lib\\site-packages\\tensorflow\\python\\framework\\ops.py\u001b[0m in \u001b[0;36meval\u001b[0;34m(self, feed_dict, session)\u001b[0m\n\u001b[1;32m    573\u001b[0m \u001b[1;33m\u001b[0m\u001b[0m\n\u001b[1;32m    574\u001b[0m     \"\"\"\n\u001b[0;32m--> 575\u001b[0;31m     \u001b[1;32mreturn\u001b[0m \u001b[0m_eval_using_default_session\u001b[0m\u001b[1;33m(\u001b[0m\u001b[0mself\u001b[0m\u001b[1;33m,\u001b[0m \u001b[0mfeed_dict\u001b[0m\u001b[1;33m,\u001b[0m \u001b[0mself\u001b[0m\u001b[1;33m.\u001b[0m\u001b[0mgraph\u001b[0m\u001b[1;33m,\u001b[0m \u001b[0msession\u001b[0m\u001b[1;33m)\u001b[0m\u001b[1;33m\u001b[0m\u001b[0m\n\u001b[0m\u001b[1;32m    576\u001b[0m \u001b[1;33m\u001b[0m\u001b[0m\n\u001b[1;32m    577\u001b[0m \u001b[1;33m\u001b[0m\u001b[0m\n",
      "\u001b[0;32mC:\\Users\\vumin\\Anaconda3\\envs\\tensorflow\\lib\\site-packages\\tensorflow\\python\\framework\\ops.py\u001b[0m in \u001b[0;36m_eval_using_default_session\u001b[0;34m(tensors, feed_dict, graph, session)\u001b[0m\n\u001b[1;32m   3631\u001b[0m                        \u001b[1;34m\"the tensor's graph is different from the session's \"\u001b[0m\u001b[1;33m\u001b[0m\u001b[0m\n\u001b[1;32m   3632\u001b[0m                        \"graph.\")\n\u001b[0;32m-> 3633\u001b[0;31m   \u001b[1;32mreturn\u001b[0m \u001b[0msession\u001b[0m\u001b[1;33m.\u001b[0m\u001b[0mrun\u001b[0m\u001b[1;33m(\u001b[0m\u001b[0mtensors\u001b[0m\u001b[1;33m,\u001b[0m \u001b[0mfeed_dict\u001b[0m\u001b[1;33m)\u001b[0m\u001b[1;33m\u001b[0m\u001b[0m\n\u001b[0m\u001b[1;32m   3634\u001b[0m \u001b[1;33m\u001b[0m\u001b[0m\n\u001b[1;32m   3635\u001b[0m \u001b[1;33m\u001b[0m\u001b[0m\n",
      "\u001b[0;32mC:\\Users\\vumin\\Anaconda3\\envs\\tensorflow\\lib\\site-packages\\tensorflow\\python\\client\\session.py\u001b[0m in \u001b[0;36mrun\u001b[0;34m(self, fetches, feed_dict, options, run_metadata)\u001b[0m\n\u001b[1;32m    764\u001b[0m     \u001b[1;32mtry\u001b[0m\u001b[1;33m:\u001b[0m\u001b[1;33m\u001b[0m\u001b[0m\n\u001b[1;32m    765\u001b[0m       result = self._run(None, fetches, feed_dict, options_ptr,\n\u001b[0;32m--> 766\u001b[0;31m                          run_metadata_ptr)\n\u001b[0m\u001b[1;32m    767\u001b[0m       \u001b[1;32mif\u001b[0m \u001b[0mrun_metadata\u001b[0m\u001b[1;33m:\u001b[0m\u001b[1;33m\u001b[0m\u001b[0m\n\u001b[1;32m    768\u001b[0m         \u001b[0mproto_data\u001b[0m \u001b[1;33m=\u001b[0m \u001b[0mtf_session\u001b[0m\u001b[1;33m.\u001b[0m\u001b[0mTF_GetBuffer\u001b[0m\u001b[1;33m(\u001b[0m\u001b[0mrun_metadata_ptr\u001b[0m\u001b[1;33m)\u001b[0m\u001b[1;33m\u001b[0m\u001b[0m\n",
      "\u001b[0;32mC:\\Users\\vumin\\Anaconda3\\envs\\tensorflow\\lib\\site-packages\\tensorflow\\python\\client\\session.py\u001b[0m in \u001b[0;36m_run\u001b[0;34m(self, handle, fetches, feed_dict, options, run_metadata)\u001b[0m\n\u001b[1;32m    962\u001b[0m     \u001b[1;32mif\u001b[0m \u001b[0mfinal_fetches\u001b[0m \u001b[1;32mor\u001b[0m \u001b[0mfinal_targets\u001b[0m\u001b[1;33m:\u001b[0m\u001b[1;33m\u001b[0m\u001b[0m\n\u001b[1;32m    963\u001b[0m       results = self._do_run(handle, final_targets, final_fetches,\n\u001b[0;32m--> 964\u001b[0;31m                              feed_dict_string, options, run_metadata)\n\u001b[0m\u001b[1;32m    965\u001b[0m     \u001b[1;32melse\u001b[0m\u001b[1;33m:\u001b[0m\u001b[1;33m\u001b[0m\u001b[0m\n\u001b[1;32m    966\u001b[0m       \u001b[0mresults\u001b[0m \u001b[1;33m=\u001b[0m \u001b[1;33m[\u001b[0m\u001b[1;33m]\u001b[0m\u001b[1;33m\u001b[0m\u001b[0m\n",
      "\u001b[0;32mC:\\Users\\vumin\\Anaconda3\\envs\\tensorflow\\lib\\site-packages\\tensorflow\\python\\client\\session.py\u001b[0m in \u001b[0;36m_do_run\u001b[0;34m(self, handle, target_list, fetch_list, feed_dict, options, run_metadata)\u001b[0m\n\u001b[1;32m   1012\u001b[0m     \u001b[1;32mif\u001b[0m \u001b[0mhandle\u001b[0m \u001b[1;32mis\u001b[0m \u001b[1;32mNone\u001b[0m\u001b[1;33m:\u001b[0m\u001b[1;33m\u001b[0m\u001b[0m\n\u001b[1;32m   1013\u001b[0m       return self._do_call(_run_fn, self._session, feed_dict, fetch_list,\n\u001b[0;32m-> 1014\u001b[0;31m                            target_list, options, run_metadata)\n\u001b[0m\u001b[1;32m   1015\u001b[0m     \u001b[1;32melse\u001b[0m\u001b[1;33m:\u001b[0m\u001b[1;33m\u001b[0m\u001b[0m\n\u001b[1;32m   1016\u001b[0m       return self._do_call(_prun_fn, self._session, handle, feed_dict,\n",
      "\u001b[0;32mC:\\Users\\vumin\\Anaconda3\\envs\\tensorflow\\lib\\site-packages\\tensorflow\\python\\client\\session.py\u001b[0m in \u001b[0;36m_do_call\u001b[0;34m(self, fn, *args)\u001b[0m\n\u001b[1;32m   1032\u001b[0m         \u001b[1;32mexcept\u001b[0m \u001b[0mKeyError\u001b[0m\u001b[1;33m:\u001b[0m\u001b[1;33m\u001b[0m\u001b[0m\n\u001b[1;32m   1033\u001b[0m           \u001b[1;32mpass\u001b[0m\u001b[1;33m\u001b[0m\u001b[0m\n\u001b[0;32m-> 1034\u001b[0;31m       \u001b[1;32mraise\u001b[0m \u001b[0mtype\u001b[0m\u001b[1;33m(\u001b[0m\u001b[0me\u001b[0m\u001b[1;33m)\u001b[0m\u001b[1;33m(\u001b[0m\u001b[0mnode_def\u001b[0m\u001b[1;33m,\u001b[0m \u001b[0mop\u001b[0m\u001b[1;33m,\u001b[0m \u001b[0mmessage\u001b[0m\u001b[1;33m)\u001b[0m\u001b[1;33m\u001b[0m\u001b[0m\n\u001b[0m\u001b[1;32m   1035\u001b[0m \u001b[1;33m\u001b[0m\u001b[0m\n\u001b[1;32m   1036\u001b[0m   \u001b[1;32mdef\u001b[0m \u001b[0m_extend_graph\u001b[0m\u001b[1;33m(\u001b[0m\u001b[0mself\u001b[0m\u001b[1;33m)\u001b[0m\u001b[1;33m:\u001b[0m\u001b[1;33m\u001b[0m\u001b[0m\n",
      "\u001b[0;31mFailedPreconditionError\u001b[0m: Attempting to use uninitialized value Variable_1\n\t [[Node: Variable_1/read = Identity[T=DT_FLOAT, _class=[\"loc:@Variable_1\"], _device=\"/job:localhost/replica:0/task:0/cpu:0\"](Variable_1)]]\n\nCaused by op 'Variable_1/read', defined at:\n  File \"C:\\Users\\vumin\\Anaconda3\\envs\\tensorflow\\lib\\runpy.py\", line 184, in _run_module_as_main\n    \"__main__\", mod_spec)\n  File \"C:\\Users\\vumin\\Anaconda3\\envs\\tensorflow\\lib\\runpy.py\", line 85, in _run_code\n    exec(code, run_globals)\n  File \"C:\\Users\\vumin\\Anaconda3\\envs\\tensorflow\\lib\\site-packages\\ipykernel\\__main__.py\", line 3, in <module>\n    app.launch_new_instance()\n  File \"C:\\Users\\vumin\\Anaconda3\\envs\\tensorflow\\lib\\site-packages\\traitlets\\config\\application.py\", line 658, in launch_instance\n    app.start()\n  File \"C:\\Users\\vumin\\Anaconda3\\envs\\tensorflow\\lib\\site-packages\\ipykernel\\kernelapp.py\", line 474, in start\n    ioloop.IOLoop.instance().start()\n  File \"C:\\Users\\vumin\\Anaconda3\\envs\\tensorflow\\lib\\site-packages\\zmq\\eventloop\\ioloop.py\", line 177, in start\n    super(ZMQIOLoop, self).start()\n  File \"C:\\Users\\vumin\\Anaconda3\\envs\\tensorflow\\lib\\site-packages\\tornado\\ioloop.py\", line 887, in start\n    handler_func(fd_obj, events)\n  File \"C:\\Users\\vumin\\Anaconda3\\envs\\tensorflow\\lib\\site-packages\\tornado\\stack_context.py\", line 275, in null_wrapper\n    return fn(*args, **kwargs)\n  File \"C:\\Users\\vumin\\Anaconda3\\envs\\tensorflow\\lib\\site-packages\\zmq\\eventloop\\zmqstream.py\", line 440, in _handle_events\n    self._handle_recv()\n  File \"C:\\Users\\vumin\\Anaconda3\\envs\\tensorflow\\lib\\site-packages\\zmq\\eventloop\\zmqstream.py\", line 472, in _handle_recv\n    self._run_callback(callback, msg)\n  File \"C:\\Users\\vumin\\Anaconda3\\envs\\tensorflow\\lib\\site-packages\\zmq\\eventloop\\zmqstream.py\", line 414, in _run_callback\n    callback(*args, **kwargs)\n  File \"C:\\Users\\vumin\\Anaconda3\\envs\\tensorflow\\lib\\site-packages\\tornado\\stack_context.py\", line 275, in null_wrapper\n    return fn(*args, **kwargs)\n  File \"C:\\Users\\vumin\\Anaconda3\\envs\\tensorflow\\lib\\site-packages\\ipykernel\\kernelbase.py\", line 276, in dispatcher\n    return self.dispatch_shell(stream, msg)\n  File \"C:\\Users\\vumin\\Anaconda3\\envs\\tensorflow\\lib\\site-packages\\ipykernel\\kernelbase.py\", line 228, in dispatch_shell\n    handler(stream, idents, msg)\n  File \"C:\\Users\\vumin\\Anaconda3\\envs\\tensorflow\\lib\\site-packages\\ipykernel\\kernelbase.py\", line 390, in execute_request\n    user_expressions, allow_stdin)\n  File \"C:\\Users\\vumin\\Anaconda3\\envs\\tensorflow\\lib\\site-packages\\ipykernel\\ipkernel.py\", line 196, in do_execute\n    res = shell.run_cell(code, store_history=store_history, silent=silent)\n  File \"C:\\Users\\vumin\\Anaconda3\\envs\\tensorflow\\lib\\site-packages\\ipykernel\\zmqshell.py\", line 501, in run_cell\n    return super(ZMQInteractiveShell, self).run_cell(*args, **kwargs)\n  File \"C:\\Users\\vumin\\Anaconda3\\envs\\tensorflow\\lib\\site-packages\\IPython\\core\\interactiveshell.py\", line 2717, in run_cell\n    interactivity=interactivity, compiler=compiler, result=result)\n  File \"C:\\Users\\vumin\\Anaconda3\\envs\\tensorflow\\lib\\site-packages\\IPython\\core\\interactiveshell.py\", line 2821, in run_ast_nodes\n    if self.run_code(code, result):\n  File \"C:\\Users\\vumin\\Anaconda3\\envs\\tensorflow\\lib\\site-packages\\IPython\\core\\interactiveshell.py\", line 2881, in run_code\n    exec(code_obj, self.user_global_ns, self.user_ns)\n  File \"<ipython-input-16-015342d7cb22>\", line 1, in <module>\n    b = tf.Variable(0.5)\n  File \"C:\\Users\\vumin\\Anaconda3\\envs\\tensorflow\\lib\\site-packages\\tensorflow\\python\\ops\\variables.py\", line 224, in __init__\n    expected_shape=expected_shape)\n  File \"C:\\Users\\vumin\\Anaconda3\\envs\\tensorflow\\lib\\site-packages\\tensorflow\\python\\ops\\variables.py\", line 370, in _init_from_args\n    self._snapshot = array_ops.identity(self._variable, name=\"read\")\n  File \"C:\\Users\\vumin\\Anaconda3\\envs\\tensorflow\\lib\\site-packages\\tensorflow\\python\\ops\\gen_array_ops.py\", line 1424, in identity\n    result = _op_def_lib.apply_op(\"Identity\", input=input, name=name)\n  File \"C:\\Users\\vumin\\Anaconda3\\envs\\tensorflow\\lib\\site-packages\\tensorflow\\python\\framework\\op_def_library.py\", line 759, in apply_op\n    op_def=op_def)\n  File \"C:\\Users\\vumin\\Anaconda3\\envs\\tensorflow\\lib\\site-packages\\tensorflow\\python\\framework\\ops.py\", line 2240, in create_op\n    original_op=self._default_original_op, op_def=op_def)\n  File \"C:\\Users\\vumin\\Anaconda3\\envs\\tensorflow\\lib\\site-packages\\tensorflow\\python\\framework\\ops.py\", line 1128, in __init__\n    self._traceback = _extract_stack()\n\nFailedPreconditionError (see above for traceback): Attempting to use uninitialized value Variable_1\n\t [[Node: Variable_1/read = Identity[T=DT_FLOAT, _class=[\"loc:@Variable_1\"], _device=\"/job:localhost/replica:0/task:0/cpu:0\"](Variable_1)]]\n"
     ]
    }
   ],
   "source": [
    "sess = tf.InteractiveSession()\n",
    "y.eval()"
   ]
  },
  {
   "cell_type": "markdown",
   "metadata": {
    "slideshow": {
     "slide_type": "slide"
    }
   },
   "source": [
    "Thay vì nhận được kết quả, chúng ta lại gặp lỗi này:\n",
    "\n",
    "<span style=\"color: red\">\"FailedPreconditionError (see above for traceback): Attempting to use uninitialized value Variable\"</span>\n",
    "\n",
    "Phép tính $y$ cần có các biến weight $w$ và bias $b$. Mặc dù chúng ta đã khởi tạo các biến này bằng $tf.Variable$, giá trị của chúng vẫn chưa được gán trong session hiện tại. Hàm $tf.global\\_variables\\_initializer()$ sẽ làm nhiệm vụ init tất cả các biến trong graph (trong trường hợp này chỉ có hai biến là weight $w$ và bias $b$)."
   ]
  },
  {
   "cell_type": "code",
   "execution_count": 25,
   "metadata": {
    "collapsed": false,
    "slideshow": {
     "slide_type": "fragment"
    }
   },
   "outputs": [],
   "source": [
    "init = tf.global_variables_initializer()"
   ]
  },
  {
   "cell_type": "markdown",
   "metadata": {
    "slideshow": {
     "slide_type": "slide"
    }
   },
   "source": [
    "Hàm $tf.global\\_variables\\_initializer()$ này cũng trả về một operation, nên đừng quên dùng session để thực hiện operation này!"
   ]
  },
  {
   "cell_type": "code",
   "execution_count": 28,
   "metadata": {
    "collapsed": false,
    "slideshow": {
     "slide_type": "fragment"
    }
   },
   "outputs": [],
   "source": [
    "sess.run(init)"
   ]
  },
  {
   "cell_type": "markdown",
   "metadata": {
    "slideshow": {
     "slide_type": "slide"
    }
   },
   "source": [
    "Cuối cùng ta có thể tính output $y$."
   ]
  },
  {
   "cell_type": "code",
   "execution_count": 29,
   "metadata": {
    "collapsed": false,
    "slideshow": {
     "slide_type": "fragment"
    }
   },
   "outputs": [
    {
     "data": {
      "text/plain": [
       "1.3"
      ]
     },
     "execution_count": 29,
     "metadata": {},
     "output_type": "execute_result"
    }
   ],
   "source": [
    "y.eval()"
   ]
  },
  {
   "cell_type": "markdown",
   "metadata": {
    "slideshow": {
     "slide_type": "fragment"
    }
   },
   "source": [
    "Đây là kết quả tính hợp lý của $output = weight * input + bias = 0.8 * 1.0 + 0.5 = 1.3$."
   ]
  },
  {
   "cell_type": "markdown",
   "metadata": {
    "slideshow": {
     "slide_type": "slide"
    }
   },
   "source": [
    "Qua phần này, ta thấy rằng bản thân mỗi operation đều chứa thông tin về các input của nó (cũng là những operation khác trong graph). \n",
    "\n",
    "Tưởng tượng với số lượng operation tăng lên, sẽ rất khó nhớ được mối quan hệ giữa các operation.\n",
    "\n",
    "[TensorBoard graph visualization](https://www.tensorflow.org/how_tos/graph_viz/) là một công cụ giúp ta hình dung graph trong TensorFlow."
   ]
  },
  {
   "cell_type": "markdown",
   "metadata": {
    "slideshow": {
     "slide_type": "slide"
    }
   },
   "source": [
    "## 3. Dùng TensorBoard để phân tích graph"
   ]
  },
  {
   "cell_type": "markdown",
   "metadata": {
    "slideshow": {
     "slide_type": "fragment"
    }
   },
   "source": [
    "__TensorBoard__ là một công cụ hữu ích giúp thể hiện mối quan hệ của các operation trong graph cũng như xem thông tin của từng operation. Ngoài ra TensorBoard còn nhiều chức năng khác như vẽ đồ thị, hình ảnh..., chúng ta sẽ tìm hiểu song song với các bài thực hành tiếp theo.\n",
    "\n",
    "Đầu tiên, ta cần đến $FileWriter$, cùng với tên của thư mục ta sẽ lưu dữ liệu của graph vào (ví dụ \"Lab2\") và graph chúng ta cần biểu diễn."
   ]
  },
  {
   "cell_type": "code",
   "execution_count": null,
   "metadata": {
    "collapsed": false,
    "slideshow": {
     "slide_type": "fragment"
    }
   },
   "outputs": [],
   "source": [
    "file_writer = tf.summary.FileWriter(\"Lab2\", sess.graph)"
   ]
  },
  {
   "cell_type": "markdown",
   "metadata": {
    "slideshow": {
     "slide_type": "slide"
    }
   },
   "source": [
    "Bây giờ bạn hãy tạm rời Jupyter Notebook và dùng command shell (sau khi đã \"activate tensorflow\") để chạy TensorBoard với lệnh _\"tensorboard --logdir=Lab2\"_."
   ]
  },
  {
   "cell_type": "code",
   "execution_count": null,
   "metadata": {
    "collapsed": true,
    "slideshow": {
     "slide_type": "fragment"
    }
   },
   "outputs": [],
   "source": [
    "#(tensorflow) D:\\MaSSP\\track_2>tensorboard --logdir=Lab2\n",
    "#Starting TensorBoard b'39' on port 6006\n",
    "#(You can navigate to http://10.0.0.5:6006)"
   ]
  },
  {
   "cell_type": "markdown",
   "metadata": {
    "slideshow": {
     "slide_type": "slide"
    }
   },
   "source": [
    "Thư mục \"Lab2\" sẽ chứa thông tin thu lại từ graph. Command còn cho ta biết một đường link có thể được truy cập từ trình duyệt web, nơi ta có thể nhìn thấy graph:\n",
    "\n",
    "<img style=\"width: 970px; height: 400px;\" src='../../images/Intro_TensorFlow/log_simple_graph.png' />"
   ]
  },
  {
   "cell_type": "markdown",
   "metadata": {
    "slideshow": {
     "slide_type": "slide"
    }
   },
   "source": [
    "Ta nhận thấy rằng __operation__ có tên khác với tên biến trong Python (ta không thấy có chữ output $y$, input $x$ trong graph, thay vào đó là $Const\\_1$, $Variable\\_2$ hoặc tương tự).\n",
    "\n",
    "Tuy nhiên ta có thể đặt tên các operation này để phân biệt chúng dễ dàng hơn trong graph."
   ]
  },
  {
   "cell_type": "code",
   "execution_count": null,
   "metadata": {
    "collapsed": true,
    "slideshow": {
     "slide_type": "fragment"
    }
   },
   "outputs": [],
   "source": [
    "x = tf.constant(1.0, name=\"input\")\n",
    "w = tf.Variable(0.8, name=\"weight\")\n",
    "b = tf.Variable(0.5, name=\"bias\")\n",
    "y = tf.add(tf.mul(w, x), b, name=\"output\")"
   ]
  },
  {
   "cell_type": "markdown",
   "metadata": {
    "slideshow": {
     "slide_type": "slide"
    }
   },
   "source": [
    "Hãy viết lại graph lần nữa. \n",
    "\n",
    "(Lưu ý khi làm việc với Jupyter notebook các bạn nên xóa thư mục \"Lab2\" và khởi động lại kernel trước khi thực hiện tính toán một lần nữa, nếu không graph sẽ chứa nhiều bản sao của cùng một operation.)"
   ]
  },
  {
   "cell_type": "code",
   "execution_count": null,
   "metadata": {
    "collapsed": false,
    "slideshow": {
     "slide_type": "fragment"
    }
   },
   "outputs": [],
   "source": [
    "tf.summary.FileWriter(\"Lab2\", sess.graph)"
   ]
  },
  {
   "cell_type": "markdown",
   "metadata": {
    "slideshow": {
     "slide_type": "slide"
    }
   },
   "source": [
    "...khởi động lại TensorBoard với \"Lab2\", và refresh trang web."
   ]
  },
  {
   "cell_type": "code",
   "execution_count": null,
   "metadata": {
    "collapsed": true,
    "slideshow": {
     "slide_type": "fragment"
    }
   },
   "outputs": [],
   "source": [
    "#(tensorflow) D:\\MaSSP\\track_2>ls\n",
    "#... Lab2_Tutorial1\n",
    "\n",
    "#(tensorflow) D:\\MaSSP\\track_2>tensorboard --logdir=Lab2_Tutorial1\n",
    "#Starting TensorBoard b'39' on port 6006\n",
    "#(You can navigate to http://10.0.0.5:6006)"
   ]
  },
  {
   "cell_type": "markdown",
   "metadata": {
    "slideshow": {
     "slide_type": "slide"
    }
   },
   "source": [
    "Lúc này, tên các operation sẽ xuất hiện trong graph tương tự như sau."
   ]
  },
  {
   "cell_type": "markdown",
   "metadata": {
    "collapsed": false,
    "slideshow": {
     "slide_type": "fragment"
    }
   },
   "source": [
    "<img src='../../images/Intro_TensorFlow/named_vars.png' />"
   ]
  },
  {
   "cell_type": "markdown",
   "metadata": {
    "slideshow": {
     "slide_type": "slide"
    }
   },
   "source": [
    "Ngoài cách đặt tên biến, ta còn có thể sử dụng hàm $tf.name\\_scope()$ để nhóm các operation lại với nhau. Việc nhóm các operation tương tự giúp biểu diễn cách graph phức tạp dễ dàng hơn và hiểu cách thành phần của quá trình tính toán rõ ràng hơn."
   ]
  },
  {
   "cell_type": "code",
   "execution_count": null,
   "metadata": {
    "collapsed": false,
    "slideshow": {
     "slide_type": "fragment"
    }
   },
   "outputs": [],
   "source": [
    "with tf.name_scope(\"a_simple_neuron\") as scope:\n",
    "    x = tf.constant(1.0)\n",
    "    w = tf.Variable(0.8, name=\"weight\")\n",
    "    b = tf.Variable(0.5, name=\"bias\")\n",
    "    y = tf.add(tf.mul(w, x), b, name=\"output\")"
   ]
  },
  {
   "cell_type": "markdown",
   "metadata": {
    "slideshow": {
     "slide_type": "slide"
    }
   },
   "source": [
    "Và đây là kết quả thu được trong TensorBoard, các operation được nhóm lại trong scope \"a_simple_neuron\" và có thể được triển khai hoặc thu gọn bằng cách nhấn vào dấu \"+\" hoặc \"-\" tương ứng.\n",
    "\n",
    "__Checkpoint 4__: Hãy khởi động lại TensorBoard để thấy scope \"a_simple_neuron\".\n",
    "<img src='../../images/Intro_TensorFlow/a_simple_neuron_scope.png' />"
   ]
  },
  {
   "cell_type": "markdown",
   "metadata": {
    "slideshow": {
     "slide_type": "slide"
    }
   },
   "source": [
    "## 4. Train neuron - Linear Regression\n",
    "Quay lại với neuron đơn giản của chúng ta với chỉ 2 thông số là weight $w$ và bias $b$ và các thông số này có giá trị ban đầu lần lượt là là $0.8$ và $0.5$. Với input $x$ là $1.0$, neuron tính giá trị output $y$ là $1.3$. \n",
    "\n",
    "Tuy nhiên, giả sử $y\\_correct$ chúng ta mong muốn lại là $1.6$, thay vì $1.3$, ta cần giúp neuron biết: \n",
    "1. giá trị output $y$ nó tính được là chưa chuẩn (lý do là vì weight $w$ và bias $b$ chưa chuẩn!), và \n",
    "2. chỉ cho neuron biết cách điều chỉnh weight $w$ và bias $b$ để giảm sai số giữa output $y$ neuron tính được và output thực tế $y\\_correct$."
   ]
  },
  {
   "cell_type": "code",
   "execution_count": null,
   "metadata": {
    "collapsed": false,
    "slideshow": {
     "slide_type": "fragment"
    }
   },
   "outputs": [],
   "source": [
    "# Khởi tạo output mong muốn y_expect\n",
    "y_correct = tf.constant(1.6, name=\"correct_output\")"
   ]
  },
  {
   "cell_type": "markdown",
   "metadata": {
    "collapsed": true,
    "slideshow": {
     "slide_type": "slide"
    }
   },
   "source": [
    "### 4.1 Hàm sai số\n",
    "Ta cần định nghĩa một hàm sai số để tính được độ lệch của output $y$ và $correct\\_output$. Trong trường hợp này chúng đều là 2 số thực, và ta sẽ sử dụng hàm sai số least squares:\n",
    "\n",
    "$$cost = (correct\\_output - output)^2$$"
   ]
  },
  {
   "cell_type": "code",
   "execution_count": null,
   "metadata": {
    "collapsed": false,
    "slideshow": {
     "slide_type": "fragment"
    }
   },
   "outputs": [],
   "source": [
    "y_correct = tf.constant(1.6)\n",
    "with tf.name_scope(\"cost_function\") as scope:\n",
    "    cost = (y_correct - y)**2"
   ]
  },
  {
   "cell_type": "markdown",
   "metadata": {
    "slideshow": {
     "slide_type": "slide"
    }
   },
   "source": [
    "Ta có thể đánh giá $cost$ với interactive session hiện tại."
   ]
  },
  {
   "cell_type": "code",
   "execution_count": null,
   "metadata": {
    "collapsed": false,
    "slideshow": {
     "slide_type": "fragment"
    }
   },
   "outputs": [],
   "source": [
    "cost.eval()"
   ]
  },
  {
   "cell_type": "markdown",
   "metadata": {
    "slideshow": {
     "slide_type": "slide"
    }
   },
   "source": [
    "__Checkpoint 5__: Kết quả $cost$ này có hợp lý không?"
   ]
  },
  {
   "cell_type": "markdown",
   "metadata": {
    "slideshow": {
     "slide_type": "slide"
    }
   },
   "source": [
    "### 4.2 Điều chỉnh tham số\n",
    "Từ giá trị hiện tại của $cost$, ta cần điều chỉnh weight $w$ và bias $b$. Hiển nhiên nếu sai số $cost$ càng lớn thì ta nên thay đổi càng nhiều weight $w$ và bias $b$.\n",
    "\n",
    "Trong bài giảng, ta đã biết đến cách dùng thuật toán Gradient Descent để điều chỉnh tham số dựa vào đạo hàm của $cost$. \n",
    "\n",
    "TensorFlow cung cấp hàm $GradientDescentOptimizer()$ cho việc này, lấy $learning\\_rate$ là giá trị thể hiện tốc độ học nhanh hay chậm của quá trình học. Nếu tốc độ học quá lớn, khả năng cao ta sẽ không đạt được giá trị nhỏ nhất của sai số. Tốc độ học quá chậm lại dẫn đến việc quá trình học quá lâu, qua nhiều bước mà sai số vẫn lớn."
   ]
  },
  {
   "cell_type": "markdown",
   "metadata": {
    "slideshow": {
     "slide_type": "slide"
    }
   },
   "source": [
    "Ta sẽ thử tốc độ học là $0.025$. Và định nghĩa một bước học là quá trình điều chỉnh weight $w$ và bias $b$ dựa vào sai số $cost$.\n",
    ">Gradient Descent Optimizer: https://www.tensorflow.org/api_docs/python/tf/train/GradientDescentOptimizer"
   ]
  },
  {
   "cell_type": "code",
   "execution_count": null,
   "metadata": {
    "collapsed": false,
    "slideshow": {
     "slide_type": "fragment"
    }
   },
   "outputs": [],
   "source": [
    "with tf.name_scope(\"train_step\") as scope:\n",
    "    train_step = tf.train.GradientDescentOptimizer(0.025).minimize(cost)"
   ]
  },
  {
   "cell_type": "markdown",
   "metadata": {
    "slideshow": {
     "slide_type": "slide"
    }
   },
   "source": [
    "Hàm $tf.summary.scalar$ giúp ta quan sát được các biến thay đổi thế nào trong quá trình học."
   ]
  },
  {
   "cell_type": "code",
   "execution_count": null,
   "metadata": {
    "collapsed": false,
    "slideshow": {
     "slide_type": "slide"
    }
   },
   "outputs": [],
   "source": [
    "file_writer = tf.summary.FileWriter(\"Lab2\", sess.graph)\n",
    "sess.run(tf.global_variables_initializer())\n",
    "\n",
    "# Tạo các đồ thị thể hiện sự biến thiên của weight, bias, cost, và output\n",
    "summary_weight = tf.summary.scalar('weight', w)\n",
    "summary_bias = tf.summary.scalar('bias', b)\n",
    "summary_cost = tf.summary.scalar('cost', cost)\n",
    "summary_y = tf.summary.scalar('output', y)"
   ]
  },
  {
   "cell_type": "markdown",
   "metadata": {
    "slideshow": {
     "slide_type": "slide"
    }
   },
   "source": [
    "Lúc này ta đã sẵn sàng thực hiện quá trình \"train\" neuron. Cụ thể ta sẽ gọi bước $train\\_step$ 100 lần, và trong mỗi bước ghi lại sự biến thiên của các biến nhờ $FileWriter$.\n",
    "\n",
    "Để tiện theo dõi, phần code cần thiết để chạy chương trình này đã được viết trong file $Intro\\_TensorFlow\\_mini\\_regression.py$."
   ]
  },
  {
   "cell_type": "code",
   "execution_count": null,
   "metadata": {
    "collapsed": false,
    "slideshow": {
     "slide_type": "fragment"
    }
   },
   "outputs": [],
   "source": [
    "# Thực hiện quá trình học\n",
    "for i in range(100):\n",
    "    # Tính và log các giá trị hiện tại của weight, bias, cost, và output\n",
    "    summaries = sess.run([summary_weight, summary_bias, summary_cost, summary_y])\n",
    "    for summary in summaries:\n",
    "        file_writer.add_summary(summary, i)\n",
    "        \n",
    "    # Gọi bước học tiếp theo\n",
    "    sess.run(train_step)"
   ]
  },
  {
   "cell_type": "markdown",
   "metadata": {
    "slideshow": {
     "slide_type": "slide"
    }
   },
   "source": [
    "__Checkpoint 6__: Hãy sử dụng TensorBoard để trả lời các câu hỏi sau:\n",
    "- Giá trị cuối cùng của weight, bias, và cost?\n",
    "- Giá trị cuối cùng của output có hợp lý không?\n",
    "- Đến khoảng bước nào thì cost giảm không đáng kể?\n",
    "- Tại sao sau bước này thì giá trị của weight, bias, cost, và output không thay đổi nhiều?"
   ]
  },
  {
   "cell_type": "markdown",
   "metadata": {
    "collapsed": false,
    "slideshow": {
     "slide_type": "slide"
    }
   },
   "source": [
    "<img src='../../images/Intro_TensorFlow/a_simple_neuron_one_data_point.png' />"
   ]
  },
  {
   "cell_type": "markdown",
   "metadata": {
    "slideshow": {
     "slide_type": "slide"
    }
   },
   "source": [
    "__Checkpoint 7__: Hãy thay đổi learning_rate và lặp lại các bước trên, quan sát và nhận xét các đồ thị thu được\n",
    "- learning_rate = 0.001\n",
    "- learning_rate = 0.00001\n",
    "- learning_rate = 0.4\n",
    "- learning_rate = 0.5"
   ]
  },
  {
   "cell_type": "markdown",
   "metadata": {
    "slideshow": {
     "slide_type": "slide"
    }
   },
   "source": [
    "### 4.3 Kết luận\n",
    "Chúng ta vừa xây dựng một neuron đơn giản bằng TensorFlow với 2 thông số weight $w$ và bias $b$. Với một cặp giá trị $(input, correct\\_output)$ cho sẵn, neuron đã biết cách học và tự điều chỉnh weight $w$ và bias $b$ sao cho output $y$ mà neuron tính được càng gần với output thật $y\\_expected$. Số bước học và sai số của output $y$ phụ thuộc nhiều vào tốc độ học, hàm sai số, và optimizer."
   ]
  },
  {
   "cell_type": "markdown",
   "metadata": {
    "slideshow": {
     "slide_type": "subslide"
    }
   },
   "source": [
    "Tiếp theo, chúng ta sẽ cho neuron học dựa trên nhiều cặp giá trị $(input, correct\\_output)$ khác nhau, thay vì một cặp $(0.8, 1.6)$ như trên (vô số nghiệm thỏa mãn cho hệ phương trình 2 ẩn, 1 phương trình). Mặt khác mỗi input có thể không phải là một số thực (thể hiện 1 thuộc tính), mà có nhiều thuộc tính và input khi đó sẽ được biếu diễn bởi 1 vector. Ví dụ:"
   ]
  },
  {
   "cell_type": "markdown",
   "metadata": {
    "slideshow": {
     "slide_type": "subslide"
    }
   },
   "source": [
    "<img src=\"../../images/Intro_TensorFlow/housing_cost.png\" />\n",
    "$$ x = \n",
    "    \\begin{bmatrix}\n",
    "        [2104 & 5 & 1 & 45] \\\\\n",
    "        [1416 & 3 & 2 & 40] \\\\\n",
    "        [1534 & 3 & 2 & 30] \\\\\n",
    "         [852 & 2 & 1 & 36] \\\\\n",
    "         ...\n",
    "    \\end{bmatrix}\n",
    "; \\ \\ \\  y = \n",
    "    \\begin{bmatrix}\n",
    "         460 \\\\\n",
    "         232 \\\\\n",
    "         315 \\\\\n",
    "         178 \\\\\n",
    "         ...\n",
    "    \\end{bmatrix}         \n",
    "$$"
   ]
  },
  {
   "cell_type": "markdown",
   "metadata": {
    "slideshow": {
     "slide_type": "slide"
    }
   },
   "source": [
    "__Bài tập__: Hãy tham khảo phần code trong file \"Intro_TensorFlow_regression.py\" để biết cách khởi tạo $x$ là một array thay vì là số thực như trong \"Intro_TensorFlow_mini_regression.py\"."
   ]
  },
  {
   "cell_type": "markdown",
   "metadata": {
    "slideshow": {
     "slide_type": "slide"
    }
   },
   "source": [
    "## Hỏi đáp"
   ]
  }
 ],
 "metadata": {
  "celltoolbar": "Slideshow",
  "kernelspec": {
   "display_name": "Python 3",
   "language": "python",
   "name": "python3"
  },
  "language_info": {
   "codemirror_mode": {
    "name": "ipython",
    "version": 3
   },
   "file_extension": ".py",
   "mimetype": "text/x-python",
   "name": "python",
   "nbconvert_exporter": "python",
   "pygments_lexer": "ipython3",
   "version": "3.5.2"
  }
 },
 "nbformat": 4,
 "nbformat_minor": 2
}
