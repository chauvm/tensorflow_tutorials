{
 "cells": [
  {
   "cell_type": "markdown",
   "metadata": {},
   "source": [
    "# Các hướng dẫn cơ bản về TensorFlow\n",
    "## MaSSP 2017, Computer Science\n",
    "\n",
    "Để sử dụng TensorFlow, chúng ta cần hiểu cách TensorFlow:\n",
    "\n",
    "- Biểu diễn các phép tính dưới dạng graph\n",
    "- Chạy graph trong Session\n",
    "- Biễu diễn dữ liệu dưới dạng tensor \n",
    "- Lưu trạng thái với Variable \n",
    "- Sử dụng feeds và fetches để nhập và xuất dữ liệu ra khỏi các operation\n",
    "\n",
    "TensorFlow là một hệ thống ngôn ngữ lập trình, trong đó ta biểu diễn các tính toán dưới dạng <b>graph</b>. Các nodes trong graph được gọi là các <b>operations</b>.\n",
    "\n",
    "Một operation có thể nhận 0 hoặc nhiều hơn 0 Tensor, thực hiện một số tính toán, và tạo ra 0 hoặc nhiều hơn 0 Tensor.\n",
    "\n",
    "<b>Tensor</b> là một typed multi-dimensional array. Ví dụ, một nhóm các hình ảnh có thể được biểu diễn bằng một 4-D array gồm các số thực. Bốn chiều của array này là [batch, height, width, channels], tương ứng với số hình ảnh, chiều cao của một ảnh, độ rộng của một ảnh, và số channel. Số channel của một ảnh tùy thuộc vào tính chất của ảnh, ví dụ ảnh đen trắng thì số channel là 1 do mỗi điểm ảnh chỉ cần 1 giá trị để thể hiện độ đen-trắng, còn ảnh màu RGB thì cần 3 channels để thể hiện độ đỏ-xanh lá-xanh dương tương ứng...\n",
    "\n",
    "TensorFlow sử dụng graph để thể hiện toàn bộ quá trình tính toán. Để thực hiện tính toán trong graph, graph phải được chạy trong một <b>Session</b>. Một Session sẽ đưa các operation trong graph vào CPU hoặc GPU để thực hiện chúng."
   ]
  },
  {
   "cell_type": "markdown",
   "metadata": {},
   "source": [
    "## 1. Xây dựng TensorFlow graph đơn giản nhất\n",
    "Đầu tiên chúng ta import tensorflow và viết tắt nó là <i>tf</i>."
   ]
  },
  {
   "cell_type": "code",
   "execution_count": 1,
   "metadata": {
    "collapsed": true
   },
   "outputs": [],
   "source": [
    "import tensorflow as tf"
   ]
  },
  {
   "cell_type": "markdown",
   "metadata": {},
   "source": [
    "Dùng lệnh $get\\_default\\_graph()$ để thu được graph có sẵn."
   ]
  },
  {
   "cell_type": "code",
   "execution_count": 2,
   "metadata": {
    "collapsed": true
   },
   "outputs": [],
   "source": [
    "graph = tf.get_default_graph()"
   ]
  },
  {
   "cell_type": "markdown",
   "metadata": {},
   "source": [
    "Như đã đề cập, mỗi node trong graph là một operation. Hàm $get\\_operations()$ sẽ trả về các operations có trong graph."
   ]
  },
  {
   "cell_type": "code",
   "execution_count": 3,
   "metadata": {
    "collapsed": false
   },
   "outputs": [
    {
     "data": {
      "text/plain": [
       "[]"
      ]
     },
     "execution_count": 3,
     "metadata": {},
     "output_type": "execute_result"
    }
   ],
   "source": [
    "graph.get_operations()"
   ]
  },
  {
   "cell_type": "markdown",
   "metadata": {},
   "source": [
    "Lúc này graph chưa có operation nào cả, nhưng ta sẽ khởi tạo một hằng số với giá trị $1.0$."
   ]
  },
  {
   "cell_type": "code",
   "execution_count": 4,
   "metadata": {
    "collapsed": false
   },
   "outputs": [],
   "source": [
    "input_value = tf.constant(1.0)"
   ]
  },
  {
   "cell_type": "markdown",
   "metadata": {},
   "source": [
    "Hằng số này nằm trong một node, hay một operation trong graph."
   ]
  },
  {
   "cell_type": "code",
   "execution_count": 6,
   "metadata": {
    "collapsed": false
   },
   "outputs": [
    {
     "data": {
      "text/plain": [
       "[<tensorflow.python.framework.ops.Operation at 0x74188d358>]"
      ]
     },
     "execution_count": 6,
     "metadata": {},
     "output_type": "execute_result"
    }
   ],
   "source": [
    "operations = graph.get_operations()\n",
    "operations"
   ]
  },
  {
   "cell_type": "markdown",
   "metadata": {},
   "source": [
    ">Từ output ta thấy được đây là một Operation được định nghĩa tại đây: https://github.com/tensorflow/tensorflow/blob/master/tensorflow/python/framework/ops.py "
   ]
  },
  {
   "cell_type": "markdown",
   "metadata": {},
   "source": [
    "Ta có thể dùng $node\\_def$ để thấy rõ hơn cấu trúc của operation này."
   ]
  },
  {
   "cell_type": "code",
   "execution_count": 7,
   "metadata": {
    "collapsed": false
   },
   "outputs": [
    {
     "data": {
      "text/plain": [
       "name: \"Const\"\n",
       "op: \"Const\"\n",
       "attr {\n",
       "  key: \"dtype\"\n",
       "  value {\n",
       "    type: DT_FLOAT\n",
       "  }\n",
       "}\n",
       "attr {\n",
       "  key: \"value\"\n",
       "  value {\n",
       "    tensor {\n",
       "      dtype: DT_FLOAT\n",
       "      tensor_shape {\n",
       "      }\n",
       "      float_val: 1.0\n",
       "    }\n",
       "  }\n",
       "}"
      ]
     },
     "execution_count": 7,
     "metadata": {},
     "output_type": "execute_result"
    }
   ],
   "source": [
    "operations[0].node_def"
   ]
  },
  {
   "cell_type": "markdown",
   "metadata": {},
   "source": [
    "Chúng ta cũng có thể đánh giá \"input_value\" theo cách thông thường, nhưng sẽ chỉ thu được những thông tin sau."
   ]
  },
  {
   "cell_type": "code",
   "execution_count": 7,
   "metadata": {
    "collapsed": false
   },
   "outputs": [
    {
     "data": {
      "text/plain": [
       "<tf.Tensor 'Const:0' shape=() dtype=float32>"
      ]
     },
     "execution_count": 7,
     "metadata": {},
     "output_type": "execute_result"
    }
   ],
   "source": [
    "input_value"
   ]
  },
  {
   "cell_type": "markdown",
   "metadata": {},
   "source": [
    ">Bạn hãy thử tìm xem kết quả trên thu được nhờ hàm nào trong https://github.com/tensorflow/tensorflow/blob/master/tensorflow/python/framework/ops.py?  "
   ]
  },
  {
   "cell_type": "markdown",
   "metadata": {},
   "source": [
    "><b>Trả lời:</b>"
   ]
  },
  {
   "cell_type": "markdown",
   "metadata": {},
   "source": [
    "Kết quả cho thấy \"input_value\" là một hằng số, 32-bit float tensor không có chiều, nhưng kết quả không cho ta biết giá trị của hằng số này là gì. Để đánh giá \"input_value\" và nhận được giá trị số của nó, chúng ta cần đến một \"session\"."
   ]
  },
  {
   "cell_type": "code",
   "execution_count": 8,
   "metadata": {
    "collapsed": false
   },
   "outputs": [
    {
     "data": {
      "text/plain": [
       "1.0"
      ]
     },
     "execution_count": 8,
     "metadata": {},
     "output_type": "execute_result"
    }
   ],
   "source": [
    "sess = tf.Session()\n",
    "sess.run(input_value)"
   ]
  },
  {
   "cell_type": "markdown",
   "metadata": {},
   "source": [
    "Lưu ý, ngoài $Session()$, chúng ta sẽ sử dụng $InteractiveSession()$ rất nhiều trong chương trình, vì với $InteractiveSession$, chúng ta không cần viết $sess.run(input\\_value)$, mà dùng cách ngắn gọn hơn là $input\\_value.eval()$."
   ]
  },
  {
   "cell_type": "code",
   "execution_count": 9,
   "metadata": {
    "collapsed": false
   },
   "outputs": [
    {
     "data": {
      "text/plain": [
       "1.0"
      ]
     },
     "execution_count": 9,
     "metadata": {},
     "output_type": "execute_result"
    }
   ],
   "source": [
    "sess = tf.InteractiveSession()\n",
    "input_value.eval()"
   ]
  },
  {
   "cell_type": "markdown",
   "metadata": {},
   "source": [
    "Hãy nhớ đóng session lại cuối chương trình!"
   ]
  },
  {
   "cell_type": "code",
   "execution_count": 10,
   "metadata": {
    "collapsed": true
   },
   "outputs": [],
   "source": [
    "sess.close()"
   ]
  },
  {
   "cell_type": "markdown",
   "metadata": {},
   "source": [
    "## 2. Xây dựng TensorFlow neuron\n",
    "Trong phần này, chúng ta sẽ mô phỏng lại một neuron đơn giản. Neuron này chỉ có 2 tham số cần tìm và cả 2 đều là số thực, đó là $weight$ và $bias$. Neuron sẽ nhận một giá trị input, và xuất ra một giá trị output theo công thức $$output = weight * input + bias$$"
   ]
  },
  {
   "cell_type": "code",
   "execution_count": 3,
   "metadata": {
    "collapsed": false
   },
   "outputs": [
    {
     "data": {
      "image/png": "[encoded data removed]",
      "text/plain": [
       "<IPython.core.display.Image object>"
      ]
     },
     "execution_count": 3,
     "metadata": {},
     "output_type": "execute_result"
    }
   ],
   "source": [
    "from IPython.core.display import Image \n",
    "Image(filename=\"../../images/Lab2/a_simple_neuron.png\")"
   ]
  },
  {
   "cell_type": "markdown",
   "metadata": {},
   "source": [
    "Neuron sẽ bắt đầu với giá trị $weight$ và $bias$ bất kì. Chúng ta sẽ cho neuron giá trị của $input$, và $expected\\_output$ mong muốn tương ứng với $input$ này. Với giá trị $weight$ và $bias$ ban đầu, neuron áp dụng công thức tính ra $output$, và tất nhiên sẽ có sai số với $expected\\_output$.\n",
    "\n",
    "Để giúp neuron điều chỉnh giá trị $weight$ và $bias$ cho phù hợp (sao cho $output$ của neuron sẽ gần hơn với $expected\\_output$), chúng ta sẽ cung cấp cho neuron một hàm tính sai số. Sai số càng lớn khi $output$ của neuron càng xa với $expected\\_output$ mong muốn, và neuron sẽ thay đổi $weight$ và $bias$ nhiều hơn khi sai số càng lớn.\n",
    "\n",
    "Hiển nhiên, $weight$ và $bias$ sẽ biến thiên tùy vào $input$ và $expected\\_output$ trong quá trình học. Do đó, ta sẽ sử dụng biến TensorFlow ($tf.Variable$ class) cho chúng. Code của $tf.Variable$ class: https://github.com/tensorflow/tensorflow/blob/master/tensorflow/python/ops/variables.py.\n",
    "\n",
    "Đầu tiên, khởi tạo biến này với một giá trị $weight$ ban đầu, giả sử là $0.8$."
   ]
  },
  {
   "cell_type": "code",
   "execution_count": 8,
   "metadata": {
    "collapsed": false
   },
   "outputs": [
    {
     "data": {
      "text/plain": [
       "<tensorflow.python.ops.variables.Variable at 0x74188d9b0>"
      ]
     },
     "execution_count": 8,
     "metadata": {},
     "output_type": "execute_result"
    }
   ],
   "source": [
    "weight = tf.Variable(0.8)\n",
    "weight"
   ]
  },
  {
   "cell_type": "markdown",
   "metadata": {},
   "source": [
    "Hãy xem so với khởi tạo một hằng số, việc khởi tạo một biến thêm vào graph bao nhiêu operations?"
   ]
  },
  {
   "cell_type": "code",
   "execution_count": 9,
   "metadata": {
    "collapsed": false
   },
   "outputs": [
    {
     "name": "stdout",
     "output_type": "stream",
     "text": [
      "Const\n",
      "Variable/initial_value\n",
      "Variable\n",
      "Variable/Assign\n",
      "Variable/read\n"
     ]
    }
   ],
   "source": [
    "for op in graph.get_operations():\n",
    "    print(op.name)"
   ]
  },
  {
   "cell_type": "markdown",
   "metadata": {},
   "source": [
    ">Vậy là có 4 operations tương ứng với việc có thêm biến này, bên cạnh operation khởi tạo hằng số \"Const\" ở phần 1.\n",
    "* Variable/initial_value\n",
    "* Variable\n",
    "* Variable/Assign\n",
    "* Variable/read\n",
    "\n",
    "Tương tự, ta khởi tạo biến $bias$ với giá trị ban đầu bất kì, giả sử là $0.5$."
   ]
  },
  {
   "cell_type": "code",
   "execution_count": 10,
   "metadata": {
    "collapsed": false
   },
   "outputs": [
    {
     "data": {
      "text/plain": [
       "<tensorflow.python.ops.variables.Variable at 0x738fc5fd0>"
      ]
     },
     "execution_count": 10,
     "metadata": {},
     "output_type": "execute_result"
    }
   ],
   "source": [
    "bias = tf.Variable(0.5)\n",
    "bias"
   ]
  },
  {
   "cell_type": "code",
   "execution_count": 11,
   "metadata": {
    "collapsed": false
   },
   "outputs": [
    {
     "name": "stdout",
     "output_type": "stream",
     "text": [
      "Const\n",
      "Variable/initial_value\n",
      "Variable\n",
      "Variable/Assign\n",
      "Variable/read\n",
      "Variable_1/initial_value\n",
      "Variable_1\n",
      "Variable_1/Assign\n",
      "Variable_1/read\n"
     ]
    }
   ],
   "source": [
    "for op in graph.get_operations():\n",
    "    print(op.name)"
   ]
  },
  {
   "cell_type": "markdown",
   "metadata": {},
   "source": [
    "Với $input\\_value$ $1.0$ từ phần 1 và $weight$, $bias$ vừa khởi tạo, ta đã sẵn sàng thêm vào graph một operation tính toán thật sự khi tính $output$."
   ]
  },
  {
   "cell_type": "code",
   "execution_count": 12,
   "metadata": {
    "collapsed": true
   },
   "outputs": [],
   "source": [
    "output = weight * input_value + bias"
   ]
  },
  {
   "cell_type": "markdown",
   "metadata": {},
   "source": [
    "Hãy viết code để biết được 2 loại operation mới nhất nào vừa được thêm vào graph."
   ]
  },
  {
   "cell_type": "code",
   "execution_count": 14,
   "metadata": {
    "collapsed": false
   },
   "outputs": [],
   "source": [
    "#answer:"
   ]
  },
  {
   "cell_type": "markdown",
   "metadata": {},
   "source": [
    "Bạn có thể đoán được đoạn code có mục đich gì không?"
   ]
  },
  {
   "cell_type": "code",
   "execution_count": 20,
   "metadata": {
    "collapsed": false
   },
   "outputs": [],
   "source": [
    "for op in graph.get_operations():\n",
    "    print(\"Operation name: {}\".format(op.name))\n",
    "    for op_input in op.inputs:\n",
    "        print(\"\\tOp input: {}\".format(op_input))"
   ]
  },
  {
   "cell_type": "markdown",
   "metadata": {},
   "source": [
    "<b>Trả lời:</b>"
   ]
  },
  {
   "cell_type": "markdown",
   "metadata": {},
   "source": [
    "Bản thân operation nhân có thông tin về các input của nó (cũng là những operation khác trong graph). Tưởng tượng với số lượng operation tăng lên, sẽ rất khó nhớ được mối quan hệ giữa các operation. [TensorBoard graph visualization](https://www.tensorflow.org/how_tos/graph_viz/) là một công cụ giúp ta hình dung graph trong TensorFlow.\n",
    "\n",
    "Nhưng trước khi sử dụng TensorBoard, hãy thử tính kết quả của phép nhân trên."
   ]
  },
  {
   "cell_type": "code",
   "execution_count": 22,
   "metadata": {
    "collapsed": false
   },
   "outputs": [],
   "source": [
    "sess = tf.InteractiveSession()\n",
    "sess.run(output)"
   ]
  },
  {
   "cell_type": "markdown",
   "metadata": {},
   "source": [
    "Thay vì nhận được kết quả, chúng ta lại gặp lỗi này:\n",
    "\n",
    "\"FailedPreconditionError (see above for traceback): Attempting to use uninitialized value Variable\"\n",
    "\n",
    "Phép nhân này cần có biến $weight$. Mặc dù chúng ta đã khởi tạo biến này, giá trị của nó vẫn chưa được gán trong session hiện tại. Hàm $tf.global\\_variables\\_initializer()$ sẽ làm nhiệm vụ init tất cả các biến trong graph (trong trường hợp này chỉ có một biến là $weight$)."
   ]
  },
  {
   "cell_type": "code",
   "execution_count": 23,
   "metadata": {
    "collapsed": false
   },
   "outputs": [],
   "source": [
    "init = tf.global_variables_initializer()"
   ]
  },
  {
   "cell_type": "markdown",
   "metadata": {},
   "source": [
    "Hàm này cũng trả về một operation, nên đừng quên dùng session để thực hiện operation này!"
   ]
  },
  {
   "cell_type": "code",
   "execution_count": 24,
   "metadata": {
    "collapsed": false
   },
   "outputs": [],
   "source": [
    "sess.run(init)"
   ]
  },
  {
   "cell_type": "markdown",
   "metadata": {},
   "source": [
    "Cuối cùng ta có thể chạy operation \"output\"."
   ]
  },
  {
   "cell_type": "code",
   "execution_count": 25,
   "metadata": {
    "collapsed": false
   },
   "outputs": [
    {
     "data": {
      "text/plain": [
       "1.3"
      ]
     },
     "execution_count": 25,
     "metadata": {},
     "output_type": "execute_result"
    }
   ],
   "source": [
    "sess.run(output)"
   ]
  },
  {
   "cell_type": "markdown",
   "metadata": {},
   "source": [
    "Đây là kết quả tính hợp lý của $output = weight * input + bias = 0.8 * 1.0 + 0.5 = 1.3$."
   ]
  },
  {
   "cell_type": "markdown",
   "metadata": {},
   "source": [
    "## 3. Dùng TensorBoard để phân tích graph"
   ]
  },
  {
   "cell_type": "markdown",
   "metadata": {},
   "source": [
    "TensorBoard là một công cụ hữu ích giúp thể hiện mối quan hệ của các operation trong graph cũng như xem thông tin của từng operation. Ngoài ra TensorBoard còn nhiều chức năng khác như vẽ đồ thị, chúng ta sẽ tìm hiểu song song với các bài thực hành tiếp theo.\n",
    "\n",
    "Đầu tiên, ta cần đến FileWrite, cùng với tên của thư mục ta sẽ lưu dữ liệu của graph vào (ví dụ \"Lab2_Tutorial1\")."
   ]
  },
  {
   "cell_type": "code",
   "execution_count": 22,
   "metadata": {
    "collapsed": false
   },
   "outputs": [],
   "source": [
    "file_writer = tf.summary.FileWriter(\"Lab2_Tutorial1\", sess.graph)"
   ]
  },
  {
   "cell_type": "markdown",
   "metadata": {},
   "source": [
    "Bây giờ bạn hãy tạm rời Jupyter và dùng command line để chạy TensorBoard."
   ]
  },
  {
   "cell_type": "code",
   "execution_count": 41,
   "metadata": {
    "collapsed": true
   },
   "outputs": [],
   "source": [
    "## sau khi đã \"activate tensorflow\":\n",
    "\n",
    "#(tensorflow) D:\\MaSSP\\track_2>tensorboard --logdir=Lab2_Tutorial1\n",
    "#WARNING:tensorflow:Found more than one graph event per run, or there was a metagraph containing a graph_def, as well as one or more graph events.  Overwriting the graph with the newest event.\n",
    "#WARNING:tensorflow:Found more than one metagraph event per run. Overwriting the metagraph with the newest event.\n",
    "#Starting TensorBoard b'39' on port 6006\n",
    "#(You can navigate to http://10.0.0.5:6006)"
   ]
  },
  {
   "cell_type": "markdown",
   "metadata": {},
   "source": [
    "Thư mục \"Lab2_Tutorial1\" sẽ được tạo ra nếu chưa tồn tại, và đường link http://10.0.0.5:6006 có thể được truy cập từ trình duyệt web là nơi ta có thể nhìn thấy graph, trông tương tự như sau:"
   ]
  },
  {
   "cell_type": "code",
   "execution_count": 3,
   "metadata": {
    "collapsed": false
   },
   "outputs": [
    {
     "data": {
      "image/png": "[encoded data removed]",
      "text/plain": [
       "<IPython.core.display.Image object>"
      ]
     },
     "execution_count": 3,
     "metadata": {},
     "output_type": "execute_result"
    }
   ],
   "source": [
    "Image(filename='../../images/Lab2/log_simple_graph.png')"
   ]
  },
  {
   "cell_type": "markdown",
   "metadata": {},
   "source": [
    "Ta nhận thấy rằng operation có tên khác với tên biến trong Python (ta không thấy có chữ \"output\", \"input_value\" trong graph, thay vào đó là \"Const_1\", \"Variable_2\" hoặc tương tự). Tuy nhiên ta có thể đặt tên các operation này để phân biệt chúng dễ dàng hơn trong graph."
   ]
  },
  {
   "cell_type": "code",
   "execution_count": 29,
   "metadata": {
    "collapsed": true
   },
   "outputs": [],
   "source": [
    "x = tf.constant(1.0, name=\"input\")\n",
    "w = tf.Variable(0.8, name=\"weight\")\n",
    "y = tf.mul(w, x, name=\"output\")"
   ]
  },
  {
   "cell_type": "markdown",
   "metadata": {},
   "source": [
    "Hãy viết lại graph lần nữa."
   ]
  },
  {
   "cell_type": "code",
   "execution_count": 30,
   "metadata": {
    "collapsed": false
   },
   "outputs": [
    {
     "data": {
      "text/plain": [
       "<tensorflow.python.summary.writer.writer.FileWriter at 0x7c1979dcf8>"
      ]
     },
     "execution_count": 30,
     "metadata": {},
     "output_type": "execute_result"
    }
   ],
   "source": [
    "tf.summary.FileWriter(\"Lab2_Tutorial1\", sess.graph)"
   ]
  },
  {
   "cell_type": "markdown",
   "metadata": {},
   "source": [
    "Và khởi động lại TensorBoard with \"Lab2_Tutorial1\", and refresh trang http://10.0.0.5:6006."
   ]
  },
  {
   "cell_type": "code",
   "execution_count": null,
   "metadata": {
    "collapsed": true
   },
   "outputs": [],
   "source": [
    "#(tensorflow) D:\\MaSSP\\track_2>ls\n",
    "#... Lab2_Tutorial1\n",
    "\n",
    "#(tensorflow) D:\\MaSSP\\track_2>tensorboard --logdir=Lab2_Tutorial1\n",
    "#Starting TensorBoard b'39' on port 6006\n",
    "#(You can navigate to http://10.0.0.5:6006)"
   ]
  },
  {
   "cell_type": "markdown",
   "metadata": {},
   "source": [
    "Và tên các operation xuất hiện trong graph."
   ]
  },
  {
   "cell_type": "code",
   "execution_count": 36,
   "metadata": {
    "collapsed": false
   },
   "outputs": [
    {
     "data": {
      "image/png": "[encoded data removed]",
      "text/plain": [
       "<IPython.core.display.Image object>"
      ]
     },
     "execution_count": 36,
     "metadata": {},
     "output_type": "execute_result"
    }
   ],
   "source": [
    "Image(filename='../../images/Lab2/named_vars.png')"
   ]
  },
  {
   "cell_type": "markdown",
   "metadata": {},
   "source": [
    "Ngoài cách đặt tên biến, ta còn có thể sử dụng hàm $tf.name\\_scope()$ để nhóm các operation lại với nhau. Việc nhóm các operation tương tự giúp biểu diễn cách graph phức tạp dễ dàng hơn và hiểu cách thành phần của quá trình tính toán rõ ràng hơn."
   ]
  },
  {
   "cell_type": "code",
   "execution_count": 33,
   "metadata": {
    "collapsed": false
   },
   "outputs": [],
   "source": [
    "with tf.name_scope(\"a_simple_neuron\") as scope:\n",
    "    x = tf.constant(1.0)\n",
    "    w = tf.Variable(0.8, name=\"weight\")\n",
    "    y = tf.mul(w, x)"
   ]
  },
  {
   "cell_type": "code",
   "execution_count": 34,
   "metadata": {
    "collapsed": false
   },
   "outputs": [
    {
     "data": {
      "text/plain": [
       "<tensorflow.python.summary.writer.writer.FileWriter at 0x7c1979dfd0>"
      ]
     },
     "execution_count": 34,
     "metadata": {},
     "output_type": "execute_result"
    }
   ],
   "source": [
    "tf.summary.FileWriter(\"Lab2_Tutorial1\", sess.graph)"
   ]
  },
  {
   "cell_type": "code",
   "execution_count": 37,
   "metadata": {
    "collapsed": false
   },
   "outputs": [
    {
     "data": {
      "image/png": "[encoded data removed]",
      "text/plain": [
       "<IPython.core.display.Image object>"
      ]
     },
     "execution_count": 37,
     "metadata": {},
     "output_type": "execute_result"
    }
   ],
   "source": [
    "Image(filename='../../images/Lab2/a_simple_neuron_scope.png')"
   ]
  },
  {
   "cell_type": "markdown",
   "metadata": {},
   "source": [
    "## 4. Train neuron - Linear Regression\n",
    "Quay lại với neuron đơn giản của chúng ta với chỉ 2 thông số là $weight$ và $bias$ và các thông số này có giá trị ban đầu lần lượt là là $0.8$ và $0.5$. Với $input\\_value$ là $1.0$, neuron tính giá trị $output$ là $1.3$. Tuy nhiên, giả sử $expected\\_output$ chúng ta mong muốn lại là $1.6$, thay vì $0.8$, ta cần giúp neuron biết: 1) giá trị $output$ nó tính được là chưa chuẩn (lý do là vì $weight$ và $bias$ chưa chuẩn!), và 2) chỉ cho neuron biết cách điều chỉnh $weight$ và $bias$ để giảm sai số giữa $output$ neuron tính được và $expected\\_output$ thực tế.\n"
   ]
  },
  {
   "cell_type": "markdown",
   "metadata": {
    "collapsed": true
   },
   "source": [
    "### 4.1 Hàm sai số\n",
    "Ta cần định nghĩa một hàm sai số để tính được độ lệch của $output$ và $expected\\_output$. Trong trường hợp này chúng đều là 2 số thực, nên các tính sai số hiển nhiên nhất là hiệu giữa 2 số. Ta dùng $cost$ để chỉ sai số:\n",
    "$$cost = expected\\_output - output$$\n",
    "Tuy nhiên như đã giải thích trong bài giảng, thông thường ta sẽ sử dụng hàm sai số least squares hơn là chỉ tính hiệu.\n",
    "$$cost = (expected\\_output - output)^2$$"
   ]
  },
  {
   "cell_type": "code",
   "execution_count": 46,
   "metadata": {
    "collapsed": false
   },
   "outputs": [],
   "source": [
    "y_expected = tf.constant(1.6, name=\"expected_output\")"
   ]
  },
  {
   "cell_type": "code",
   "execution_count": 48,
   "metadata": {
    "collapsed": false
   },
   "outputs": [],
   "source": [
    "with tf.name_scope(\"cost_function\") as scope:\n",
    "    cost = (y_expected - output)**2"
   ]
  },
  {
   "cell_type": "markdown",
   "metadata": {},
   "source": [
    "Ta có thể đánh giá $cost$ với session hiện tại."
   ]
  },
  {
   "cell_type": "code",
   "execution_count": 32,
   "metadata": {
    "collapsed": false
   },
   "outputs": [
    {
     "data": {
      "text/plain": [
       "0.090000041"
      ]
     },
     "execution_count": 32,
     "metadata": {},
     "output_type": "execute_result"
    }
   ],
   "source": [
    "cost.eval()"
   ]
  },
  {
   "cell_type": "markdown",
   "metadata": {},
   "source": [
    ">Kết quả này có hợp lý không?\n",
    "\n",
    "><b>Trả lời:</b>"
   ]
  },
  {
   "cell_type": "markdown",
   "metadata": {},
   "source": [
    "### 4.2 Điều chỉnh tham số\n",
    "Từ giá trị hiện tại của $cost$, ta cần điều chỉnh $weight$ và $bias$. Hiển nhiên nếu sai số $cost$ càng lớn thì ta nên thay đổi càng nhiều $weight$ và $bias$.\n",
    "\n",
    "Trong bài giảng, ta đã biết đến cách dùng Gradient Descent để điều chỉnh tham số dựa vào đạo hàm của $cost$. TensorFlow cung cấp hàm $GradientDescentOptimizer()$ cho việc này, lấy $learning_rate$ là giá trị thể hiện tốc độ học nhanh hay chậm của quá trình học. Nếu tốc độ học quá lớn, khả năng cao ta sẽ không đạt được giá trị nhỏ nhất của sai số. Tốc độ học quá chậm lại dẫn đến việc quá trình học quá lâu, qua nhiều bước mà sai số vẫn lớn.\n",
    "\n",
    "Để bắt đầu, ta sẽ thử với tốc độ học là $0.025$. Và định nghĩa một bước học là quá trình điều chỉnh $weight$ và $bias$ dựa vào sai số $cost$, sử dụng Gradient Descent Optimizer của TensorFlow với tốc độ học $0.025$.\n",
    ">Gradient Descent Optimizer: https://www.tensorflow.org/api_docs/python/tf/train/GradientDescentOptimizer"
   ]
  },
  {
   "cell_type": "code",
   "execution_count": 2,
   "metadata": {
    "collapsed": false
   },
   "outputs": [],
   "source": [
    "with tf.name_scope(\"train_step\") as scope:\n",
    "    train_step = tf.train.GradientDescentOptimizer(0.025).minimize(cost)"
   ]
  },
  {
   "cell_type": "markdown",
   "metadata": {},
   "source": [
    "Chúng ta sẽ điều chỉnh thông số 100 lần (100 bước học). Hàm $tf.summary.scalar$ giúp ta biết được các biến thay đổi thế nào trong quá trình học."
   ]
  },
  {
   "cell_type": "code",
   "execution_count": 84,
   "metadata": {
    "collapsed": false
   },
   "outputs": [],
   "source": [
    "file_writer = tf.summary.FileWriter(\"Lab2_Tutorial1\", sess.graph)\n",
    "sess.run(tf.global_variables_initializer())\n",
    "\n",
    "# Tạo các đồ thị thể hiện sự biến thiên của weight, bias, cost, và output\n",
    "summary_weight = tf.summary.scalar('weight', weight)\n",
    "summary_bias = tf.summary.scalar('bias', bias)\n",
    "summary_cost = tf.summary.scalar('cost', cost)\n",
    "summary_y = tf.summary.scalar('output', output)\n",
    "\n",
    "# Thực hiện quá trình học\n",
    "for i in range(100):\n",
    "    # Tính và log các giá trị hiện tại của weight, bias, cost, và output\n",
    "    summaries = sess.run([summary_weight, summary_bias, summary_cost, summary_y])\n",
    "    for summary in summaries:\n",
    "        file_writer.add_summary(summary, i)\n",
    "        \n",
    "    # Gọi bước học tiếp theo\n",
    "    sess.run(train_step)"
   ]
  },
  {
   "cell_type": "markdown",
   "metadata": {},
   "source": [
    ">Hãy sử dụng TensorBoard để trả lời các câu hỏi sau:\n",
    "- Giá trị cuối cùng của weight, bias, và cost?\n",
    "- Giá trị cuối cùng của output có hợp lý không?\n",
    "- Đến khoảng bước nào thì cost giảm không đáng kể?\n",
    "- Tại sao sau bước này thì giá trị của weight, bias, cost, và output không thay đổi nhiều?\n",
    "\n",
    "><b>Trả lời:</b>"
   ]
  },
  {
   "cell_type": "code",
   "execution_count": 53,
   "metadata": {
    "collapsed": false
   },
   "outputs": [
    {
     "data": {
      "image/png": "[encoded data removed]",
      "text/plain": [
       "<IPython.core.display.Image object>"
      ]
     },
     "execution_count": 53,
     "metadata": {},
     "output_type": "execute_result"
    }
   ],
   "source": [
    "Image(filename='../../images/Lab2/a_simple_neuron_one_data_point.png')"
   ]
  },
  {
   "cell_type": "markdown",
   "metadata": {},
   "source": [
    ">Hãy thay đổi learning_rate và lặp lại các bước trên\n",
    "- learning_rate = 0.4\n",
    "- learning_rate = 0.5\n",
    "- learning_rate = 0.001\n",
    "- learning_rate = 0.00001\n",
    "\n",
    ">Kết quả cuối cùng của $weight$ và $bias$ sẽ thế nào nếu ta thay đổi giá trị ban đầu của chúng?\n",
    "\n",
    "><b>Trả lời:</b>\n"
   ]
  },
  {
   "cell_type": "markdown",
   "metadata": {},
   "source": [
    "### 4.3 Kết luận\n",
    "Chúng ta vừa xây dựng một neuron đơn giản bằng TensorFlow với 2 thông số $weight$ và $bias$. Với một cặp giá trị $(input, expected_output)$ cho sẵn, neuron đã biết cách học và tự điều chỉnh $weight$ và $bias$ sao cho $output$ mà neuron tính được càng gần với $expected_output$. Số bước học và sai số của $output$ phụ thuộc nhiều vào tốc độ học, hàm sai số, và optimizer.\n",
    "\n",
    "Trong lab tiếp theo, chúng ta sẽ cho neuron học dựa trên nhiều cặp giá trị $(input, expected_output)$ khác nhau, thay vì một cặp $(0.8, 1.6)$ như trên (vô số nghiệm thỏa mãn cho hệ phương trình 2 ẩn, 1 phương trình). Ví dụ:\n",
    "\n",
    "$x = [ 0.69818965,  0.03600568,  0.38004098,  0.54867665,  0.77140362,\n",
    "        0.14180334,  0.79793543,  0.62246678,  0.83741225,  0.35568029,\n",
    "        0.50941244,  0.35629587,  0.30729451,  0.79838528,  0.15345702,\n",
    "        0.51881063,  0.36676517,  0.37895616,  0.32881045,  0.05895714,\n",
    "        0.88217842,  0.98285312,  0.77286511,  0.63268851,  0.21075436,\n",
    "        0.38381641,  0.719504  ,  0.04006471,  0.68526506,  0.43028117,\n",
    "        0.18095321,  0.57466665,  0.25489683,  0.73533942,  0.75925032,\n",
    "        0.98209417,  0.33751455,  0.14896683,  0.19882339,  0.17733215,\n",
    "        0.2921697 ,  0.16130439,  0.59056498,  0.54991829,  0.58480317,\n",
    "        0.76033344,  0.89624513,  0.21760338,  0.31829866,  0.14802099]$\n",
    "        \n",
    "$y = [  8.08547501,   1.39327444,   4.85622766,   6.49788741,\n",
    "         8.79965048,   2.45163163,   9.04843162,   7.25194377,\n",
    "         9.44707918,   4.60137047,   6.17227011,   4.64572935,\n",
    "         4.11230941,   9.09402535,   2.54751761,   6.24180985,\n",
    "         4.7271495 ,   4.8372221 ,   4.32824772,   1.63130206,\n",
    "         9.84149227,  10.88639699,   8.80739298,   7.35862825,\n",
    "         3.16449296,   4.92269619,   8.24764643,   1.43612695,\n",
    "         7.87799429,   5.32425571,   2.835729  ,   6.79168412,\n",
    "         3.58991078,   8.40987512,   8.60362513,  10.89046363,\n",
    "         4.43198107,   2.5277707 ,   3.00061629,   2.79709814,\n",
    "         3.95075638,   2.63390985,   6.96654605,   6.50899219,\n",
    "         6.88854502,   8.70440389,  10.08665379,   3.21517247,\n",
    "         4.21780963,   2.50088878]$\n",
    "\n",
    "Mặt khác mỗi input có thể không phải là một số thực như trên (thể hiện 1 thuộc tính), mà có nhiều thuộc tính và input khi đó sẽ được biếu diễn bởi 1 vector.\n",
    "\n",
    "Hiển nhiên với nhiều cặp giá trị $(input, expected\\_output)$, khả năng lớn ta sẽ không tìm được một giá trị chính xác của $weight$ và $bias$ thỏa mãn cho tất cả các cặp giá trị. Điều này không phải là vấn đề lớn, vì thứ nhất, ta luôn tìm được nghiệm sao cho sai số giữa tất cả $output$ và $expected\\_output$ là bé nhất, và thứ hai, nếu mục đích của quá trình học là để dự đoán gần đúng $expected\\_output$ của các $input$ mới trong test set mà neuron chưa bao giờ gặp, thì việc sai số quá bé trong train set là dấu hiệu của overfitting - neuron \"học thuộc lòng\" train set và khó dự đoán đúng $expected\\_output$ của test set."
   ]
  }
 ],
 "metadata": {
  "kernelspec": {
   "display_name": "Python 3",
   "language": "python",
   "name": "python3"
  },
  "language_info": {
   "codemirror_mode": {
    "name": "ipython",
    "version": 3
   },
   "file_extension": ".py",
   "mimetype": "text/x-python",
   "name": "python",
   "nbconvert_exporter": "python",
   "pygments_lexer": "ipython3",
   "version": "3.5.2"
  }
 },
 "nbformat": 4,
 "nbformat_minor": 2
}
