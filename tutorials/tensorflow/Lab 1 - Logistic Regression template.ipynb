{
 "cells": [
  {
   "cell_type": "markdown",
   "metadata": {},
   "source": [
    "# Lab 1 - Logistic Regression\n",
    "## Trại hè Toán và Khoa học MaSSP\n",
    "Trong lab này, chúng ta sẽ học cách dùng logistic regression để phân loại 2 nhóm chữ số viết tay \"0\" và \"1\".\n",
    "\n",
    "Cách viết code trong Phần 1 dựa vào công thức đã học trong bài giảng về logistic regression, đặc biệt dành cho trường hợp có 2 nhóm cần phân loại.\n",
    "\n",
    "Cách viết code trong Phần 2 chỉ thay đổi một chút cách tính hàm loss function, chiều của tensor, nhưng có thể áp dụng cho phân loại nhiều hơn 2 nhóm.\n",
    "\n",
    "Phần bài tập sẽ là thay đổi code và thông số của Phần 2 để có thể phân loại tất cả 10 nhóm chữ số viết tay từ \"0\" đến \"9\" với độ chính xác cao."
   ]
  },
  {
   "cell_type": "markdown",
   "metadata": {},
   "source": [
    "# 1. Logistic Regression cho 2 nhóm\n",
    "## 1.1 Tóm tắt\n",
    "<b>0. Lấy dữ liệu cho training set và test set</b>\n",
    "\n",
    "Sử dụng MNIST dataset có thể download qua thư viện TensorFlow, lọc ra các hình ảnh của chữ số \"0\" và \"1\".\n",
    "\n",
    "<b>1. Tính output</b>\n",
    "\n",
    "Thay $\\theta$ bằng $W$, $\\theta_0$ bằng $b$. Các giá trị ban đầu của $W$ và $b$ gán bằng 0.\n",
    "$$z = x* W + b$$\n",
    "\n",
    "$$y = sigmoid(z) = \\frac{1}{1 + exp(-z)}$$  \n",
    "\n",
    "<b>2. Tính loss function, so sánh output với label chuẩn</b>\n",
    "\n",
    "$$cost = -\\frac{1}{m}(y\\_correct*log(y) + (1-y\\_correct)*log(1-y))$$\n",
    "\n",
    "<b>3. Dùng Gradient descent để điều chỉnh $W$ và $b$ sao cho $cost$ nhỏ nhất</b>\n",
    "\n",
    "Sử dụng hàm $GradientDescentOptimizer$ của TensorFlow!\n",
    "\n",
    "<b>4. Lặp lại các bước 1-3 cho đến khi đạt được độ chính xác mong muốn</b>\n",
    "\n",
    "* Training error: tỉ lệ phân loại sai trong training set\n",
    "* Test error: tỉ lệ phân loại sai trong test set"
   ]
  },
  {
   "cell_type": "markdown",
   "metadata": {},
   "source": [
    "## 1.2 Tải dữ liệu\n",
    "MNIST dataset chứa các ảnh của các chữ số viết tay có kích thước 28x28."
   ]
  },
  {
   "cell_type": "code",
   "execution_count": 99,
   "metadata": {
    "collapsed": true
   },
   "outputs": [],
   "source": [
    "import tensorflow as tf\n",
    "import matplotlib.pyplot as plt\n",
    "import numpy as np"
   ]
  },
  {
   "cell_type": "markdown",
   "metadata": {},
   "source": [
    "https://github.com/tensorflow/tensorflow/tree/master/tensorflow/examples/tutorials/mnist "
   ]
  },
  {
   "cell_type": "code",
   "execution_count": 100,
   "metadata": {
    "collapsed": true
   },
   "outputs": [],
   "source": [
    "from tensorflow.examples.tutorials.mnist import input_data"
   ]
  },
  {
   "cell_type": "markdown",
   "metadata": {},
   "source": [
    "Hàm $read_data_sets$ dùng để tải dữ liệu, tùy vào arguments mà format của dữ liệu sẽ khác nhau. Ví dụ nếu ta đặt $one\\_hot=True$, thì mỗi label nhận được sẽ có chiều 1x10, với giá trị 1 tại vị trí tương ứng với chữ số đó, và 0 cho các vị trí còn lại. Ví dụ, số \"1\" sẽ được biếu diễn bởi array sau:\n",
    "$$[0, 1, 0, 0, 0, 0, 0, 0, 0, 0]$$\n",
    "\n",
    "Tuy nhiên trong phần 1, chúng ta chỉ làm việc với 2 chữ số \"0\" và \"1\", nên chỉ cần label có giá trị 0 ứng với chữ số \"0\" và giá trị 1 với chữ số \"1\" là được. Chúng ta thậm chí không cần cung cấp giá trị $one\\_hot=False$, vì đây là giá trị default của $one\\_hot$ trong hàm $read_data_sets$ rồi.\n",
    "\n",
    ">Hãy kiểm chính bằng cách tìm hàm $read\\_data\\_sets$ trong https://github.com/tensorflow/tensorflow/tree/master/tensorflow/examples/tutorials/mnist "
   ]
  },
  {
   "cell_type": "code",
   "execution_count": 101,
   "metadata": {
    "collapsed": false
   },
   "outputs": [
    {
     "name": "stdout",
     "output_type": "stream",
     "text": [
      "Extracting MNIST_data/train-images-idx3-ubyte.gz\n",
      "Extracting MNIST_data/train-labels-idx1-ubyte.gz\n",
      "Extracting MNIST_data/t10k-images-idx3-ubyte.gz\n",
      "Extracting MNIST_data/t10k-labels-idx1-ubyte.gz\n"
     ]
    },
    {
     "data": {
      "text/plain": [
       "Datasets(train=<tensorflow.contrib.learn.python.learn.datasets.mnist.DataSet object at 0x00000048EE338908>, validation=<tensorflow.contrib.learn.python.learn.datasets.mnist.DataSet object at 0x00000048EE338978>, test=<tensorflow.contrib.learn.python.learn.datasets.mnist.DataSet object at 0x00000048EE4045C0>)"
      ]
     },
     "execution_count": 101,
     "metadata": {},
     "output_type": "execute_result"
    }
   ],
   "source": [
    "#mnist = input_data.read_data_sets(\"MNIST_data/\", one_hot=True)\n",
    "mnist = input_data.read_data_sets(\"MNIST_data/\")\n",
    "mnist"
   ]
  },
  {
   "cell_type": "markdown",
   "metadata": {},
   "source": [
    "Dữ liệu tải về được chứa trong thư mục MNIST_data/ và được load vào $mnist$. $mnist$ chứa 3 Dataset: train, validation, và test. \n",
    ">Tìm hiểu thêm về TensorFLow's Dataset class:\n",
    "https://github.com/tensorflow/tensorflow/blob/master/tensorflow/contrib/learn/python/learn/datasets/mnist.py "
   ]
  },
  {
   "cell_type": "code",
   "execution_count": 102,
   "metadata": {
    "collapsed": false
   },
   "outputs": [],
   "source": [
    "(train_data, validation_data, test_data) = (mnist.train, mnist.validation, mnist.test)"
   ]
  },
  {
   "cell_type": "markdown",
   "metadata": {},
   "source": [
    "Mỗi Dataset này đều có $images$ và $labels$, chứa các hình ảnh 28x28 và loại tương ứng (cũng là các số từ 0-9).\n",
    "\n",
    ">Hãy tìm size của mỗi Dataset."
   ]
  },
  {
   "cell_type": "code",
   "execution_count": null,
   "metadata": {
    "collapsed": false
   },
   "outputs": [],
   "source": []
  },
  {
   "cell_type": "markdown",
   "metadata": {},
   "source": [
    "Hãy lọc ra hình ảnh và label tương ứng của các chữ số \"0\" và \"1\" trong training và test set."
   ]
  },
  {
   "cell_type": "code",
   "execution_count": 108,
   "metadata": {
    "collapsed": false
   },
   "outputs": [],
   "source": [
    "#train_images = \n",
    "#train_labels = \n",
    "\n",
    "#test_images = \n",
    "#test_labels = "
   ]
  },
  {
   "cell_type": "markdown",
   "metadata": {},
   "source": [
    "Hãy plot hình ảnh đầu tiên trong training set và kiểm tra xem label tương ứng có phù hợp với hình ảnh thu được hay không."
   ]
  },
  {
   "cell_type": "code",
   "execution_count": 156,
   "metadata": {
    "collapsed": false
   },
   "outputs": [
    {
     "data": {
      "image/png": "[encoded data removed]",
      "text/plain": [
       "<matplotlib.figure.Figure at 0x488034ada0>"
      ]
     },
     "metadata": {},
     "output_type": "display_data"
    }
   ],
   "source": [
    "plt.imshow(train_images[0].reshape((28,28)), cmap='Greys')\n",
    "plt.show()"
   ]
  },
  {
   "cell_type": "code",
   "execution_count": 159,
   "metadata": {
    "collapsed": true
   },
   "outputs": [],
   "source": [
    "# Các thay đổi khác nếu cần thiết\n"
   ]
  },
  {
   "cell_type": "markdown",
   "metadata": {},
   "source": [
    "## 1.3 Viết chương trình phân loại"
   ]
  },
  {
   "cell_type": "markdown",
   "metadata": {},
   "source": [
    "### Inputs\n",
    "Để thể hiện graph trên Tensorboard rõ ràng hơn, hãy định nghĩa các tensors sau trong scope \"Inputs\":\n",
    "- $x$: chứa tất cả các ảnh trong training set, $tf.placeholder$ có type là $float32$\n",
    "- $y\\_corect$: chứa labels của các ảnh trong training set, $tf.placeholder$ có type là $float32$\n",
    "- $W$: chứa các hệ số tương ứng với từng điểm ảnh, $tf.Variable$\n",
    "- $b$: bias hay $\\theta_0$ trong bài giảng, $tf.Variable$"
   ]
  },
  {
   "cell_type": "code",
   "execution_count": 161,
   "metadata": {
    "collapsed": false
   },
   "outputs": [],
   "source": [
    "with tf.name_scope(\"Inputs\") as scope:\n",
    "    #x = tf.placeholder(...)\n",
    "    #y_correct = tf.placeholder(...)\n",
    "    #W = tf.Variable(...)\n",
    "    #b = tf.Variable(...)"
   ]
  },
  {
   "cell_type": "markdown",
   "metadata": {},
   "source": [
    "### Hypothesis function\n",
    "Hãy viết công thức tính $y$ dựa vào $W$ và $b$.\n",
    "\n",
    "$$z = x* W + b$$\n",
    "\n",
    "$$y = sigmoid(z) = \\frac{1}{1 + exp(-z)}$$\n",
    "\n",
    "Lưu ý $y$ không phải chỉ bao gồm các số 0 và 1 - tương ứng với label \"0\" và \"1\", mà là các giá trị số thực từ 0 đến 1. Giá trị càng gần 1 thì khả năng label là \"1\" càng cao, và giá trị càng gần 0 thì khả năng label là \"1\" càng thấp (hay nói cách khác khả năng label là \"0\" càng cao)."
   ]
  },
  {
   "cell_type": "code",
   "execution_count": 116,
   "metadata": {
    "collapsed": false
   },
   "outputs": [],
   "source": [
    "with tf.name_scope(\"Outputs\") as scope:\n",
    "    #y = ..."
   ]
  },
  {
   "cell_type": "markdown",
   "metadata": {},
   "source": [
    "### Cost function\n",
    "Hãy viết công thức tính $cost$ thể hiện sai số giữa kết quả dự đoán $y$ và label thật $y\\_corect$. Lưu ý rằng giá trị thu được từ operation $cost$ không phải là một array như $y$ hay $y\\_correct$ mà là một số thực."
   ]
  },
  {
   "cell_type": "code",
   "execution_count": 138,
   "metadata": {
    "collapsed": false
   },
   "outputs": [],
   "source": [
    "with tf.name_scope(\"Cost\") as scope:\n",
    "    #cost = ..."
   ]
  },
  {
   "cell_type": "markdown",
   "metadata": {},
   "source": [
    "### Gradient Descent\n",
    "Hãy dùng $GradientDescentOptimizer()$ của TensorFlow để viết operation $train\\_step$ tương tự như trong lab đầu tiên về TensorFlow."
   ]
  },
  {
   "cell_type": "code",
   "execution_count": 133,
   "metadata": {
    "collapsed": false
   },
   "outputs": [],
   "source": [
    "with tf.name_scope('Train') as scope:\n",
    "    #train_step = ..."
   ]
  },
  {
   "cell_type": "markdown",
   "metadata": {},
   "source": [
    "### Evaluate model\n",
    "Trong quá trình training, chúng ta cần biết độ chính xác của phân loại để điều chỉnh thuật toán và tham số cho phù hợp. Như đã nói ở trên, các giá trị trong $y$ dao động từ 0 đến 1, ta cần quyết định label dự đoán cho mỗi ảnh là 0 hoặc 1 dựa vào các giá trị này.\n",
    "\n",
    "Hãy viết một operation có thể tính được độ chính xác của một dataset khi cho biết $y$ và label thật $y\\_correct$ của dataset."
   ]
  },
  {
   "cell_type": "code",
   "execution_count": 124,
   "metadata": {
    "collapsed": false
   },
   "outputs": [],
   "source": [
    "with tf.name_scope(\"Accuracy\") as scope:\n",
    "    #..."
   ]
  },
  {
   "cell_type": "markdown",
   "metadata": {},
   "source": [
    "### Run session\n",
    "Vậy là chúng ta đã sẵn sàng chạy thuật toán logistic regression!\n",
    "Để kiểm tra phần code trên không mắc các lỗi thường gặp, hãy chạy thử 1 bước $train\\_step$ ở trên. Đừng quên tạo một $InteractiveSession$ và khởi tạo tất cả các biến trước khi chạy bất kì operation nào.\n",
    "\n",
    "Với các tensor được khởi tạo bởi $tf.placeholder$, hãy nhớ cung cấp các giá trị thật cho chúng, ví dụ:"
   ]
  },
  {
   "cell_type": "raw",
   "metadata": {},
   "source": [
    "sess.run(operation_name, feed_dict = {x: input_for_x, y: input_for_y}"
   ]
  },
  {
   "cell_type": "code",
   "execution_count": null,
   "metadata": {
    "collapsed": false
   },
   "outputs": [],
   "source": []
  },
  {
   "cell_type": "markdown",
   "metadata": {},
   "source": [
    "Sau khi đảm bảo bước $train\\_step$ chạy như ý, hãy thêm vào các $summary$ tương tự như lab đầu tiên về TensorFlow để theo dõi sự biến thiên của các biến trong TensorBoard, nhất là độ chính xác của thuật toán."
   ]
  },
  {
   "cell_type": "code",
   "execution_count": null,
   "metadata": {
    "collapsed": true
   },
   "outputs": [],
   "source": []
  },
  {
   "cell_type": "markdown",
   "metadata": {},
   "source": [
    "# 2. Logistic Regression cho nhiều nhóm\n",
    "## 2.1 Tóm tắt\n",
    "Trong phần 1, $y_{(i)}$ thể hiện khả năng một hình ảnh $i$ có label là chữ số \"1\". Do chỉ có 2 nhóm, ta có thể coi $1-y_{(i)}$ là khả năng hình này này có label là chữ số \"0\" và chỉ cần dùng một giá trị $y_{(i)}$ là có thể tính được cả 2 khả năng.\n",
    "\n",
    "Một cách khác để phân loại 2 nhóm là tính hai giá trị $y_{(i)}^0$ và $y_{(i)}^1$ cho mỗi ảnh, giá trị nào cao hơn đồng nghĩa với việc label tương ứng có khả năng đúng cao hơn. Để các giá trị này tương ứng với xác suất, ta có thể dùng $softmax$ để làm $y_{(i)}^0, y_{(i)}^1>0$ và $y_{(i)}^0+y_{(i)}^1 = 1$.\n",
    "\n",
    "Cách này có thể áp dụng cho phân loại nhiều hơn 2 nhóm. Ví dụ nếu có 3 nhóm, ta sẽ tính 3 giá trị $y_{(i)}^0$, $y_{(i)}^1$, và $y_{(i)}^2$, dùng hàm $softmax$ để biến đổi sao cho $y_{(i)}^0, y_{(i)}^1, y_{(i)}^2>0$ và $y_{(i)}^0+y_{(i)}^1+y_{(i)}^2 = 1$. Ảnh sẽ được phân loại theo giá trị cao nhất trong 3 giá trị này.\n",
    "\n",
    "## 2.2 Bài tập\n",
    "1. Dựa theo cách phân loại ở phần 1, viết thuật toán phân loại mới như đã mô tả ở trên để phân loại chữ số \"0\" và \"1\"\n",
    "2. Thay đổi thuật toán ở câu trên một lần nữa để phân loại tất cả 10 nhóm các chữ số trong MNIST dataset. Độ chính xác thu được là bao nhiêu?"
   ]
  }
 ],
 "metadata": {
  "kernelspec": {
   "display_name": "Python 3",
   "language": "python",
   "name": "python3"
  },
  "language_info": {
   "codemirror_mode": {
    "name": "ipython",
    "version": 3
   },
   "file_extension": ".py",
   "mimetype": "text/x-python",
   "name": "python",
   "nbconvert_exporter": "python",
   "pygments_lexer": "ipython3",
   "version": "3.5.2"
  }
 },
 "nbformat": 4,
 "nbformat_minor": 2
}
