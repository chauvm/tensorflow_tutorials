{
 "cells": [
  {
   "cell_type": "markdown",
   "metadata": {
    "collapsed": true,
    "slideshow": {
     "slide_type": "slide"
    }
   },
   "source": [
    "# Ôn tập"
   ]
  },
  {
   "cell_type": "markdown",
   "metadata": {
    "slideshow": {
     "slide_type": "slide"
    }
   },
   "source": [
    "# Các thuật toán\n",
    "* Linear Regression\n",
    "* Logistic Regression\n",
    "* Neural Network\n",
    "* Convolutional Neural Network"
   ]
  },
  {
   "cell_type": "markdown",
   "metadata": {
    "slideshow": {
     "slide_type": "subslide"
    }
   },
   "source": [
    "# Các thuật toán phân loại\n",
    "* ~~Linear Regression~~\n",
    "* <b>Logistic Regression\n",
    "* Neural Network\n",
    "* Convolutional Neural Network</b>"
   ]
  },
  {
   "cell_type": "markdown",
   "metadata": {
    "slideshow": {
     "slide_type": "slide"
    }
   },
   "source": [
    "# Cấu trúc\n",
    "* Input\n",
    "* Model\n",
    "* Optimization\n",
    "* Testing"
   ]
  },
  {
   "cell_type": "markdown",
   "metadata": {
    "slideshow": {
     "slide_type": "slide"
    }
   },
   "source": [
    "# Input\n",
    "TODO: ví dụ input dataset hoa iris - đặc điểm hoa, dataset bộ bài poker\n",
    "- categorical\n",
    "- numerical\n",
    "Chú ý việc scale input - gradient descent"
   ]
  },
  {
   "cell_type": "markdown",
   "metadata": {
    "slideshow": {
     "slide_type": "slide"
    }
   },
   "source": [
    "# Model\n",
    "* Parameters\n",
    "    * $W$, $b$\n",
    "    * Hyperparameters: tốc độ học $\\alpha$, số layers, số neurons ở mỗi layer\n",
    "* Operations\n",
    "    * nhân, chia, cộng, trừ, log, sigmoid...\n",
    "* Cost function\n",
    "    * MSE, cross-entropy"
   ]
  },
  {
   "cell_type": "markdown",
   "metadata": {
    "slideshow": {
     "slide_type": "slide"
    }
   },
   "source": [
    "# Model - Linear Regression\n",
    "<img style=\"width: 360px; height: 240px;\" src=\"../../images/Review/linear_regression_2d.png\" />\n",
    "### <center>Nhân mỗi feature với một trọng số rồi cộng thêm intercept cho kết quả dự đoán.</center>\n"
   ]
  },
  {
   "cell_type": "markdown",
   "metadata": {
    "slideshow": {
     "slide_type": "slide"
    }
   },
   "source": [
    "# Model - Linear Regression\n",
    "<img style=\"width: 360px; height: 240px;\" src=\"../../images/Review/linear_regression_2d.png\" />\n",
    "* Parameters\n",
    "    * $W$, $b$\n"
   ]
  },
  {
   "cell_type": "markdown",
   "metadata": {
    "slideshow": {
     "slide_type": "subslide"
    }
   },
   "source": [
    "# Model - Linear Regression\n",
    "<img style=\"width: 360px; height: 240px;\" src=\"../../images/Review/linear_regression_2d.png\" />\n",
    "* Operations\n",
    "    * $prediction = W * x + b$"
   ]
  },
  {
   "cell_type": "code",
   "execution_count": null,
   "metadata": {
    "collapsed": false,
    "slideshow": {
     "slide_type": "fragment"
    }
   },
   "outputs": [],
   "source": [
    "y = tf.add(tf.matmul(x, W), b)"
   ]
  },
  {
   "cell_type": "markdown",
   "metadata": {
    "slideshow": {
     "slide_type": "subslide"
    }
   },
   "source": [
    "# Model - Linear Regression\n",
    "<img style=\"width: 360px; height: 240px;\" src=\"../../images/Review/linear_regression_2d.png\" />\n",
    "* Cost function\n",
    "    * MSE: $cost = \\frac{1}{m}(y - y\\_correct)^2$"
   ]
  },
  {
   "cell_type": "code",
   "execution_count": null,
   "metadata": {
    "collapsed": true,
    "slideshow": {
     "slide_type": "fragment"
    }
   },
   "outputs": [],
   "source": [
    "# MSE\n",
    "cost = tf.reduce_mean(tf.squared_difference(y, y_correct))"
   ]
  },
  {
   "cell_type": "markdown",
   "metadata": {
    "slideshow": {
     "slide_type": "subslide"
    }
   },
   "source": [
    "# <center>Linear Regression = Neural Network đơn giản nhất!</center>"
   ]
  },
  {
   "cell_type": "markdown",
   "metadata": {
    "slideshow": {
     "slide_type": "subslide"
    }
   },
   "source": [
    "<img style=\"width: 500px; height: 500px;\" src=\"../../images/Review/linear_regression_as_neural_network.png\" />\n"
   ]
  },
  {
   "cell_type": "markdown",
   "metadata": {
    "slideshow": {
     "slide_type": "subslide"
    }
   },
   "source": [
    "# Logistic Regression\n",
    "## <center>Lấy mỗi feature nhân với trọng số tương ứng cho <i>weighted sum</i>, sau đó cộng với thiên lệch cho <i>logit</i>.</center>\n",
    "## <center>Khác Linear Regression, biến <i>logit</i> thành một giá trị xác suất qua hàm <b>logistic function</b></center>"
   ]
  },
  {
   "cell_type": "markdown",
   "metadata": {
    "slideshow": {
     "slide_type": "subslide"
    }
   },
   "source": [
    "# Model - Logistic Regression\n",
    "<img style=\"width: 500px; height: 500px;\" src=\"../../images/Review/logistic_regression_as_neural_network.png\" />"
   ]
  },
  {
   "cell_type": "markdown",
   "metadata": {
    "slideshow": {
     "slide_type": "subslide"
    }
   },
   "source": [
    "# Model - Logistic Regression\n",
    "<img style=\"width: 500px; height: 500px;\" src=\"../../images/Review/multinomial_logistic_regression_as_neural_network.png\" />"
   ]
  },
  {
   "cell_type": "markdown",
   "metadata": {
    "slideshow": {
     "slide_type": "subslide"
    }
   },
   "source": [
    "# Model - Logistic Regression\n",
    "## Softmax\n",
    "<img style=\"width: 1000px; height: 350px;\" src=\"../../images/Review/softmax.png\" />"
   ]
  },
  {
   "cell_type": "markdown",
   "metadata": {
    "slideshow": {
     "slide_type": "subslide"
    }
   },
   "source": [
    "# Model - Logistic Regression\n",
    "<img style=\"width: 275px; height: 300px;\" src=\"../../images/Review/multinomial_logistic_regression_as_neural_network.png\" />\n",
    "* Parameters\n",
    "    * $W$, $b$"
   ]
  },
  {
   "cell_type": "markdown",
   "metadata": {
    "slideshow": {
     "slide_type": "subslide"
    }
   },
   "source": [
    "# Model - Logistic Regression\n",
    "<img style=\"width: 225px; height: 250px;\" src=\"../../images/Review/multinomial_logistic_regression_as_neural_network.png\" /> \n",
    "* Operations\n",
    "    * $z = W * x + b$    \n",
    "    * $prediction = softmax(z)$"
   ]
  },
  {
   "cell_type": "code",
   "execution_count": null,
   "metadata": {
    "collapsed": true,
    "slideshow": {
     "slide_type": "fragment"
    }
   },
   "outputs": [],
   "source": [
    "y = tf.nn.softmax(tf.add(tf.matmul(x, W), b))"
   ]
  },
  {
   "cell_type": "markdown",
   "metadata": {
    "slideshow": {
     "slide_type": "subslide"
    }
   },
   "source": [
    "# Model - Logistic Regression\n",
    "<img style=\"width: 225px; height: 250px;\" src=\"../../images/Review/multinomial_logistic_regression_as_neural_network.png\" />\n",
    "* Cost function\n",
    "    * Cross-entropy: $cost = -\\sum_i y'_i \\log(y_i)$"
   ]
  },
  {
   "cell_type": "code",
   "execution_count": null,
   "metadata": {
    "collapsed": true,
    "slideshow": {
     "slide_type": "fragment"
    }
   },
   "outputs": [],
   "source": [
    "cost = tf.reduce_mean(\n",
    "    tf.nn.softmax_cross_entropy_with_logits(\n",
    "         logits=y_logits, labels=y_correct))"
   ]
  },
  {
   "cell_type": "markdown",
   "metadata": {
    "slideshow": {
     "slide_type": "subslide"
    }
   },
   "source": [
    "# Hạn chế của các mô hình tuyến tính\n",
    "<img style=\"width: 275px; height: 300px;\" src=\"../../images/Review/xor.png\" />"
   ]
  },
  {
   "cell_type": "markdown",
   "metadata": {
    "slideshow": {
     "slide_type": "subslide"
    }
   },
   "source": [
    "# Hạn chế của các mô hình tuyến tính\n",
    "### Kết quả phân loại bằng Logistic Regression\n",
    "<img style=\"width: 275px; height: 300px;\" src=\"../../images/Review/xor_linear_regression.png\" />"
   ]
  },
  {
   "cell_type": "markdown",
   "metadata": {
    "slideshow": {
     "slide_type": "subslide"
    }
   },
   "source": [
    "# Hạn chế của các mô hình tuyến tính\n",
    "<img style=\"width: 275px; height: 300px;\" src=\"../../images/Review/concentric_circles.png\" />"
   ]
  },
  {
   "cell_type": "markdown",
   "metadata": {
    "slideshow": {
     "slide_type": "subslide"
    }
   },
   "source": [
    "# Hạn chế của các mô hình tuyến tính\n",
    "### Kết quả phân loại bằng Logistic Regression\n",
    "\n",
    "<img style=\"width: 275px; height: 300px;\" src=\"../../images/Review/concentric_circles_logistic_regression.png\" />"
   ]
  },
  {
   "cell_type": "markdown",
   "metadata": {
    "slideshow": {
     "slide_type": "slide"
    }
   },
   "source": [
    "# Model - Neural Network\n",
    "## Let's go deep!\n",
    "<img style=\"width: 400px; height: 400px;\" src=\"../../images/Review/multinomial_logistic_regression_as_neural_network.png\" />"
   ]
  },
  {
   "cell_type": "markdown",
   "metadata": {
    "slideshow": {
     "slide_type": "subslide"
    }
   },
   "source": [
    "# Model - Neural Network\n",
    "<img style=\"width: 500px; height: 400px;\" src=\"../../images/Review/hidden_layer_neural_network_linear.png\" />\n",
    "<b>Thêm một lớp <i>linear neuron</i> ở giữa.</b>"
   ]
  },
  {
   "cell_type": "code",
   "execution_count": null,
   "metadata": {
    "collapsed": true,
    "slideshow": {
     "slide_type": "fragment"
    }
   },
   "outputs": [],
   "source": [
    "h  = tf.matmul(X, W1) + b1\n",
    "y_logits = tf.matmul(h, W2) + b2"
   ]
  },
  {
   "cell_type": "markdown",
   "metadata": {
    "slideshow": {
     "slide_type": "subslide"
    }
   },
   "source": [
    "# Model - Neural Network\n",
    "<img style=\"width: 500px; height: 400px;\" src=\"../../images/Review/hidden_layer_neural_network_linear.png\" />\n",
    "\n",
    "<b>Thêm một lớp <i>linear neuron</i> ở giữa.</b>\n",
    "> Tốt hơn Logistic Regression?"
   ]
  },
  {
   "cell_type": "markdown",
   "metadata": {
    "slideshow": {
     "slide_type": "subslide"
    }
   },
   "source": [
    "# Model - Neural Network\n",
    "<img style=\"width: 450px; height: 375px;\" src=\"../../images/Review/hidden_layer_neural_network_linear.png\" />\n",
    "\n",
    "<b>Thêm một lớp <i>linear neuron</i> ở giữa.</b>\n",
    "> ~~Tốt hơn~~ Không tốt hơn, thậm chí kém hơn Logistic Regression!\n",
    "* $linear(linear(x)) = linear(x)$\n",
    "* nhiều parameter phải học hơn"
   ]
  },
  {
   "cell_type": "markdown",
   "metadata": {
    "slideshow": {
     "slide_type": "subslide"
    }
   },
   "source": [
    "# Model - Neural Network\n",
    "<img style=\"width: 500px; height: 400px;\" src=\"../../images/Review/hidden_layer_neural_network_relu.png\" />\n",
    "\n",
    "### Cần thêm Activation function!\n",
    "\n",
    "* Non-linear: step, sigmoid, ReLU"
   ]
  },
  {
   "cell_type": "markdown",
   "metadata": {
    "slideshow": {
     "slide_type": "subslide"
    }
   },
   "source": [
    "# Model - Deep Neural Network\n",
    "## Let's go deeper!\n",
    "<img style=\"width: 320px; height: 300px;\" src=\"../../images/Review/nnz_mlp.png\" />\n"
   ]
  },
  {
   "cell_type": "markdown",
   "metadata": {
    "slideshow": {
     "slide_type": "subslide"
    }
   },
   "source": [
    "# Model - Deep Neural Network\n",
    "## Let's go deeper => Deep Neural Network\n",
    "<img style=\"width: 320px; height: 300px;\" src=\"../../images/Review/nnz_mlp.png\" />\n"
   ]
  },
  {
   "cell_type": "markdown",
   "metadata": {
    "slideshow": {
     "slide_type": "subslide"
    }
   },
   "source": [
    "# Các loại Neural Network\n",
    "<img style=\"width: 400px; height: 600px;\" src=\"../../images/Review/neural_network_zoo.png\" />\n"
   ]
  },
  {
   "cell_type": "markdown",
   "metadata": {
    "slideshow": {
     "slide_type": "subslide"
    }
   },
   "source": [
    "# Các loại Neural Network\n",
    "<img style=\"width: 300px; height: 280px;\" src=\"../../images/Review/nnz_mlp.png\" />\n",
    "<img style=\"width: 320px; height: 210px;\" src=\"../../images/Review/nnz_cnn.png\" />"
   ]
  },
  {
   "cell_type": "markdown",
   "metadata": {
    "slideshow": {
     "slide_type": "subslide"
    }
   },
   "source": [
    "# Model - Deep Neural Network\n",
    "* Parameters và hyperparameters\n"
   ]
  },
  {
   "cell_type": "markdown",
   "metadata": {
    "slideshow": {
     "slide_type": "subslide"
    }
   },
   "source": [
    "# Model - Deep Neural Network\n",
    "<img style=\"width: 320px; height: 320px;\" src=\"../../images/graphs/neural_network_1.gv.png\" />\n",
    "* Parameters\n",
    "    * $W$, $b$ cho mỗi lớp\n",
    "    * Hyperparameters\n",
    "        * số lớp\n",
    "        * số neurons mỗi lớp"
   ]
  },
  {
   "cell_type": "markdown",
   "metadata": {
    "slideshow": {
     "slide_type": "subslide"
    }
   },
   "source": [
    "# Model - Deep Neural Network\n",
    "<img style=\"width: 320px; height: 320px;\" src=\"../../images/graphs/neural_network_1.gv.png\" />\n",
    "* Operations\n",
    "    * Activation function: sigmoid, ReLU, tanh\n"
   ]
  },
  {
   "cell_type": "markdown",
   "metadata": {
    "slideshow": {
     "slide_type": "subslide"
    }
   },
   "source": [
    "# Model - Deep Neural Network\n",
    "<img style=\"width: 320px; height: 320px;\" src=\"../../images/graphs/neural_network_1.gv.png\" />\n",
    "* Operations\n",
    "    * Hidden layer 1\n",
    "        * $z_1 = W_1*x + b_1$\n",
    "        * $a_1 = activation\\_function(z_1)$"
   ]
  },
  {
   "cell_type": "code",
   "execution_count": null,
   "metadata": {
    "collapsed": true,
    "slideshow": {
     "slide_type": "fragment"
    }
   },
   "outputs": [],
   "source": [
    "z_1 = tf.add(tf.matmul(x, W_1), b_1)\n",
    "a_1 = tf.nn.relu(z_1)"
   ]
  },
  {
   "cell_type": "markdown",
   "metadata": {
    "slideshow": {
     "slide_type": "subslide"
    }
   },
   "source": [
    "# Model - Deep Neural Network\n",
    "<img style=\"width: 320px; height: 320px;\" src=\"../../images/graphs/neural_network_1.gv.png\" />\n",
    "* Operations\n",
    "    * Hidden layer 1\n",
    "        * $z_1 = W_1*x + b_1$\n",
    "        * $a_1 = activation\\_function(z_1)$\n",
    "    * Hidden layer 2"
   ]
  },
  {
   "cell_type": "markdown",
   "metadata": {
    "slideshow": {
     "slide_type": "subslide"
    }
   },
   "source": [
    "# Model - Deep Neural Network\n",
    "<img style=\"width: 320px; height: 320px;\" src=\"../../images/graphs/neural_network_1.gv.png\" />\n",
    "* Operations\n",
    "    * Hidden layer 1\n",
    "        * $z_1 = W_1*x + b_1$\n",
    "        * $a_1 = activation\\_function(z_1)$\n",
    "    * Hidden layer 2\n",
    "        * $z_2 = W_2*z_1 + b_2$\n",
    "        * $a_2 = activation\\_function(z_2)$"
   ]
  },
  {
   "cell_type": "code",
   "execution_count": null,
   "metadata": {
    "collapsed": true,
    "slideshow": {
     "slide_type": "subslide"
    }
   },
   "outputs": [],
   "source": [
    "# Hidden layer 1\n",
    "z_1 = tf.add(tf.matmul(x, W_1), b_1)\n",
    "a_1 = tf.nn.relu(z_1)\n",
    "\n",
    "# Hidden layer 2\n",
    "z_2 = tf.add(tf.matmul(a_1, W_2), b_2)\n",
    "a_2 = tf.nn.relu(z_2)"
   ]
  },
  {
   "cell_type": "markdown",
   "metadata": {
    "slideshow": {
     "slide_type": "subslide"
    }
   },
   "source": [
    "# Model - Deep Neural Network\n",
    "<img style=\"width: 320px; height: 320px;\" src=\"../../images/graphs/neural_network_1.gv.png\" />\n",
    "* Operations\n",
    "    * Hidden layer 1\n",
    "        * $z_1 = W_1*x + b_1$\n",
    "        * $a_1 = activation\\_function(z_1)$\n",
    "    * Hidden layer 2\n",
    "        * $z_2 = W_2*z_1 + b_2$\n",
    "        * $a_2 = activation\\_function(z_2)$\n",
    "    * Output layer\n",
    "        * $prediction = softmax(a_2)$"
   ]
  },
  {
   "cell_type": "markdown",
   "metadata": {
    "slideshow": {
     "slide_type": "subslide"
    }
   },
   "source": [
    "# Model - Deep Neural Network\n",
    "<img style=\"width: 320px; height: 320px;\" src=\"../../images/graphs/neural_network_1.gv.png\" />\n",
    "* Cost function\n",
    "    * cross_entropy"
   ]
  },
  {
   "cell_type": "code",
   "execution_count": null,
   "metadata": {
    "collapsed": true
   },
   "outputs": [],
   "source": []
  },
  {
   "cell_type": "markdown",
   "metadata": {
    "slideshow": {
     "slide_type": "subslide"
    }
   },
   "source": [
    "# Model - Deep Neural Network\n",
    "## Let's go deeper => Deep Neural Network\n",
    "TODO: Hình vẽ Neural Network có 2 hidden layer, 2 hidden layer cũng đỏ\n"
   ]
  },
  {
   "cell_type": "markdown",
   "metadata": {
    "slideshow": {
     "slide_type": "slide"
    }
   },
   "source": []
  }
 ],
 "metadata": {
  "celltoolbar": "Slideshow",
  "kernelspec": {
   "display_name": "Python 3",
   "language": "python",
   "name": "python3"
  },
  "language_info": {
   "codemirror_mode": {
    "name": "ipython",
    "version": 3
   },
   "file_extension": ".py",
   "mimetype": "text/x-python",
   "name": "python",
   "nbconvert_exporter": "python",
   "pygments_lexer": "ipython3",
   "version": "3.5.2"
  }
 },
 "nbformat": 4,
 "nbformat_minor": 2
}
