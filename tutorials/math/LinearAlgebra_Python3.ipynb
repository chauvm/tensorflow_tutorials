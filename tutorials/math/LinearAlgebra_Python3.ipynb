{
 "cells": [
  {
   "cell_type": "markdown",
   "metadata": {
    "slideshow": {
     "slide_type": "slide"
    }
   },
   "source": [
    "# Bài giảng về Đại số tuyến tính\n",
    "## MaSSP 2017, Computer Science\n",
    "__Chuẩn bị: Nguyễn Vương Linh, MIT Class of 2017__\n",
    "\n",
    "__Chỉnh sửa: Vũ Minh Châu, MIT Class of 2014__"
   ]
  },
  {
   "cell_type": "markdown",
   "metadata": {
    "slideshow": {
     "slide_type": "slide"
    }
   },
   "source": [
    "Bài giảng sau đây giới thiệu một số kiến thức cơ bản về đại số tuyến tính cần thiết để hiểu và thực hiện chương trình <b>Deep Learning</b>.\n",
    "\n",
    "Bài giảng này bỏ qua một số kiến thức quan trọng (ví dụ như vector riêng), và không đi sâu vào phân tích tính chất của các khái niệm."
   ]
  },
  {
   "cell_type": "markdown",
   "metadata": {
    "slideshow": {
     "slide_type": "slide"
    }
   },
   "source": [
    "Bài giảng này sử dụng thư viện <b>numpy</b> trong Python để thực hiện các ví dụ minh hoạ.\n",
    "\n",
    "Numpy là một trong những thư viện mã nguồn mở nổi tiếng nhất của Python và được sử dụng rộng rãi trong nhiều chương trình <b>Machine Learning</b> nói chung và <b>Deep Learning</b> nói riêng.\n",
    "\n",
    "Mục tiêu chính của Numpy là tối ưu và đơn giản hoá các phép toán liên quan đến đại số tuyến tính. Trước khi bắt đầu, hãy cài đặt numpy, và bắt đầu chương trình Python (hoặc notebook) bằng lệnh sau:"
   ]
  },
  {
   "cell_type": "code",
   "execution_count": null,
   "metadata": {
    "collapsed": true,
    "slideshow": {
     "slide_type": "fragment"
    }
   },
   "outputs": [],
   "source": [
    "import numpy as np"
   ]
  },
  {
   "cell_type": "markdown",
   "metadata": {
    "slideshow": {
     "slide_type": "notes"
    }
   },
   "source": [
    "Lưu ý: khi bạn tải lại notebook này, bạn phải chạy lại lệnh import nói trên."
   ]
  },
  {
   "cell_type": "markdown",
   "metadata": {
    "slideshow": {
     "slide_type": "slide"
    }
   },
   "source": [
    "# 0. Ví dụ cơ bản\n",
    "\n",
    "Đối tượng cơ bản trong đại số tuyến tính là <b>ma trận</b> và <b>vector</b>. Ví dụ cơ bản sau đây giới thiệu cách thức tương tác với ma trận trong numpy và được thực hiện với ma trận 2 chiều, tuy nhiên các phép toán cơ bản là không thay đổi nếu với số chiều khác."
   ]
  },
  {
   "cell_type": "markdown",
   "metadata": {
    "slideshow": {
     "slide_type": "notes"
    }
   },
   "source": [
    "Các ví dụ chi tiết hơn sẽ được đề cập khi đi sâu vào từng phép toán / trường hợp cụ thể."
   ]
  },
  {
   "cell_type": "markdown",
   "metadata": {
    "slideshow": {
     "slide_type": "slide"
    }
   },
   "source": [
    "Chúng ta bắt đầu với việc khởi tạo một ma trận A và in ra các thông tin cơ bản của A. Khi mới bắt đầu, các bạn hãy trực tiếp thử những lệnh này trên môi trường Python terminal để làm quen với numpy.\n",
    "\n",
    "Khởi tạo ma trận kích thước 3 x 5, các phần tử từ 0 đến 14, theo thứ tự tăng dần từ trái qua phải và từ trên xuống.\n",
    "\n",
    "$$ A = \n",
    "    \\begin{bmatrix}\n",
    "        0 & 1 & 2 & 3 & 4 \\\\\n",
    "        5 & 6 & 7 & 8 & 9 \\\\\n",
    "        10 & 11 & 12 & 13 & 14\n",
    "    \\end{bmatrix}\n",
    "$$"
   ]
  },
  {
   "cell_type": "code",
   "execution_count": null,
   "metadata": {
    "collapsed": false,
    "scrolled": true,
    "slideshow": {
     "slide_type": "fragment"
    }
   },
   "outputs": [],
   "source": [
    "A = np.arange(15).reshape(3, 5)\n",
    "print(A)"
   ]
  },
  {
   "cell_type": "markdown",
   "metadata": {
    "slideshow": {
     "slide_type": "slide"
    }
   },
   "source": [
    "In các thông tin cơ bản về ma trận A\n",
    "$$ A = \n",
    "    \\begin{bmatrix}\n",
    "        0 & 1 & 2 & 3 & 4 \\\\\n",
    "        5 & 6 & 7 & 8 & 9 \\\\\n",
    "        10 & 11 & 12 & 13 & 14\n",
    "    \\end{bmatrix}\n",
    "$$"
   ]
  },
  {
   "cell_type": "code",
   "execution_count": null,
   "metadata": {
    "collapsed": false,
    "slideshow": {
     "slide_type": "fragment"
    }
   },
   "outputs": [],
   "source": [
    "print(\"Shape: {}\".format(A.shape))      # In thông tin về các chiều của A\n",
    "\n",
    "# Để truy cập thông tin của A theo từng chiều, sử dụng chỉ số với A.shape\n",
    "print(A.shape[0])  \n",
    "print(A.shape[1])"
   ]
  },
  {
   "cell_type": "code",
   "execution_count": null,
   "metadata": {
    "collapsed": false,
    "slideshow": {
     "slide_type": "subslide"
    }
   },
   "outputs": [],
   "source": [
    "\"\"\" A\n",
    "[[ 0  1  2  3  4]\n",
    " [ 5  6  7  8  9]\n",
    " [10 11 12 13 14]]\n",
    "\"\"\"\n",
    "print(\"Dimension: {}\".format(A.ndim))   # In số chiều của A\n",
    "\n",
    "print(\"Type: {}\".format(A.dtype))       # In kiểu dữ liệu của các phần từ trong A\n",
    "\n",
    "print(\"Size: {}\".format(A.size))        # In số phần tử có trong A"
   ]
  },
  {
   "cell_type": "markdown",
   "metadata": {
    "slideshow": {
     "slide_type": "slide"
    }
   },
   "source": [
    "Trong numpy (và Python), các phần tử được đánh số từ 0. Numpy cho phép đọc và thay đổi từng phần tử trong ma trận.\n",
    "\n",
    "$$ A = \n",
    "    \\begin{bmatrix}\n",
    "        0 & 1 & 2 & 3 & 4 \\\\\n",
    "        5 & 6 & 7 & 8 & 9 \\\\\n",
    "        10 & 11 & 12 & 13 & 14\n",
    "    \\end{bmatrix}\n",
    "$$"
   ]
  },
  {
   "cell_type": "code",
   "execution_count": null,
   "metadata": {
    "collapsed": false,
    "slideshow": {
     "slide_type": "fragment"
    }
   },
   "outputs": [],
   "source": [
    "# Có thể truy cập một phần tử của A bằng lệnh A[i0, i1]\n",
    "print(A[0, 0])      # Kết quả: 0\n",
    "print(A[1, 2])      # Kết quả: 7\n",
    "\n",
    "# numpy cho phép thay đổi thông tin lưu trữ trong ma trận\n",
    "A[0, 0] = 10\n",
    "A[1, 1] = -1\n",
    "print(A)"
   ]
  },
  {
   "cell_type": "markdown",
   "metadata": {
    "slideshow": {
     "slide_type": "slide"
    }
   },
   "source": [
    "__Checkpoint 1__: Khởi tạo 1 vector b và thực hiện các phép toán tương tự như ở trên. Sử dụng vector sau đây:\n",
    "$$ b = (6.0, 7.0, 8.0) $$"
   ]
  },
  {
   "cell_type": "code",
   "execution_count": null,
   "metadata": {
    "collapsed": false,
    "slideshow": {
     "slide_type": "fragment"
    }
   },
   "outputs": [],
   "source": [
    "# Khởi tạo b\n",
    "\n",
    "# In thông tin về các chiều, số chiều, kiểu dữ liệu, số phần tử của b\n",
    "\n",
    "# Truy cập 1 phần tử tồn tại trong b\n",
    "\n",
    "# Thử truy cập 1 phần tử không tồn tại trong b - quan sát lỗi\n",
    "\n",
    "# Thay đổi một phần tử trong b và in giá trị mới\n"
   ]
  },
  {
   "cell_type": "markdown",
   "metadata": {
    "slideshow": {
     "slide_type": "slide"
    }
   },
   "source": [
    "# 1. Khởi tạo ma trận và vector\n",
    "\n",
    "Chúng ta sẽ khởi tạo một vài ma trận với các định dạng khác nhau để minh hoạ.\n",
    "$$ A1 = \n",
    "    \\begin{bmatrix}\n",
    "        1 & 2 & 3 \\\\\n",
    "        6 & 5 & 4\n",
    "    \\end{bmatrix}\n",
    "$$"
   ]
  },
  {
   "cell_type": "markdown",
   "metadata": {
    "slideshow": {
     "slide_type": "slide"
    }
   },
   "source": [
    "Để khởi tạo 1 ma trận với các phần tử được biết trước, sử dụng $np.array$"
   ]
  },
  {
   "cell_type": "code",
   "execution_count": null,
   "metadata": {
    "collapsed": true,
    "slideshow": {
     "slide_type": "fragment"
    }
   },
   "outputs": [],
   "source": [
    "A1 = np.array([[1, 2, 3], [6, 5, 4]])\n",
    "print(A1)\n",
    "\n",
    "\"\"\" Kết quả:\n",
    "[[1 2 3]\n",
    " [6 5 4]]\n",
    "\"\"\""
   ]
  },
  {
   "cell_type": "markdown",
   "metadata": {
    "slideshow": {
     "slide_type": "slide"
    }
   },
   "source": [
    "$$ A2 = \n",
    "    \\begin{bmatrix}\n",
    "        3 & 4 \\\\\n",
    "        5 & 6\n",
    "    \\end{bmatrix}\n",
    "$$\n",
    "\n",
    "np.array tự động xác định kiểu dữ liệu trong ma trận.\n",
    "\n",
    "Sử dụng __dtype__ để ép kiểu dữ liệu trong ma trận:"
   ]
  },
  {
   "cell_type": "code",
   "execution_count": null,
   "metadata": {
    "collapsed": false,
    "slideshow": {
     "slide_type": "fragment"
    }
   },
   "outputs": [],
   "source": [
    "A2 = np.array([[3, 4], [5, 6]], dtype=float)  # Sử dụng kiểu số thực\n",
    "\n",
    "print(A2)\n",
    "\"\"\" Kết quả:\n",
    "[[ 3.  4.]\n",
    " [ 5.  6.]]\n",
    "\"\"\"\n",
    "\n",
    "print(A2.dtype)  # Kết quả: float64"
   ]
  },
  {
   "cell_type": "markdown",
   "metadata": {
    "slideshow": {
     "slide_type": "slide"
    }
   },
   "source": [
    "Luôn luôn phải có $[\\ ]$ để xác định các phần tử trong ma trận.\n",
    "\n",
    "Ví dụ sau đây là <span style=\"color: red\">SAI</span>"
   ]
  },
  {
   "cell_type": "code",
   "execution_count": null,
   "metadata": {
    "collapsed": true,
    "slideshow": {
     "slide_type": "fragment"
    }
   },
   "outputs": [],
   "source": [
    "B1 = np.array(1,2,3,4)"
   ]
  },
  {
   "cell_type": "markdown",
   "metadata": {
    "slideshow": {
     "slide_type": "slide"
    }
   },
   "source": [
    "## Các ma trận đặc biệt\n",
    "\n",
    "* Nếu cần khởi tạo ma trận toàn 0, sử dụng __np.zeros__, kèm theo thông tin về kích thước ma trận"
   ]
  },
  {
   "cell_type": "code",
   "execution_count": null,
   "metadata": {
    "collapsed": true,
    "slideshow": {
     "slide_type": "fragment"
    }
   },
   "outputs": [],
   "source": [
    "A3 = np.zeros((6, 5), dtype=int)\n",
    "print(A3)\n",
    "\n",
    "\"\"\" Kết quả:\n",
    "[[0 0 0 0 0]\n",
    " [0 0 0 0 0]\n",
    " [0 0 0 0 0]\n",
    " [0 0 0 0 0]\n",
    " [0 0 0 0 0]\n",
    " [0 0 0 0 0]]\n",
    "\"\"\""
   ]
  },
  {
   "cell_type": "markdown",
   "metadata": {
    "slideshow": {
     "slide_type": "subslide"
    }
   },
   "source": [
    "* Tương tự như thế, bạn có thể khởi tạo ma trận toàn 1 bằng __np.ones__:"
   ]
  },
  {
   "cell_type": "code",
   "execution_count": null,
   "metadata": {
    "collapsed": false,
    "slideshow": {
     "slide_type": "fragment"
    }
   },
   "outputs": [],
   "source": [
    "A4 = np.ones((4, 2))\n",
    "print(A4)\n",
    "\"\"\" Kết quả:\n",
    "[[ 1.  1.]\n",
    " [ 1.  1.]\n",
    " [ 1.  1.]\n",
    " [ 1.  1.]]\n",
    "\"\"\""
   ]
  },
  {
   "cell_type": "markdown",
   "metadata": {
    "slideshow": {
     "slide_type": "subslide"
    }
   },
   "source": [
    "* Ma trận đơn vị được khởi tạo bằng __np.eye__\n",
    "\n",
    "_Lưu ý ma trận đơn vị chỉ có 2 chiều và luôn là ma trận vuông._"
   ]
  },
  {
   "cell_type": "code",
   "execution_count": null,
   "metadata": {
    "collapsed": true,
    "slideshow": {
     "slide_type": "fragment"
    }
   },
   "outputs": [],
   "source": [
    "A5 = np.eye(3)\n",
    "print(A5)"
   ]
  },
  {
   "cell_type": "markdown",
   "metadata": {
    "slideshow": {
     "slide_type": "subslide"
    }
   },
   "source": [
    "* Cuối cùng, __np.arange__ tạo ra ma trận với các phần tử kế tiếp nhau\n",
    "\n",
    "    __reshape__ được sử dụng để thay đổi kích thước ma trận."
   ]
  },
  {
   "cell_type": "code",
   "execution_count": null,
   "metadata": {
    "collapsed": true,
    "slideshow": {
     "slide_type": "fragment"
    }
   },
   "outputs": [],
   "source": [
    "A6 = np.arange(10, 20).reshape(2, 5)\n",
    "print(A6)\n",
    "\n",
    "\"\"\" Kết quả:\n",
    "[[10 11 12 13 14]\n",
    " [15 16 17 18 19]]\n",
    "\"\"\""
   ]
  },
  {
   "cell_type": "markdown",
   "metadata": {
    "slideshow": {
     "slide_type": "slide"
    }
   },
   "source": [
    "# 2. Truy cập và thay đổi phần tử trong ma trận\n",
    "\n",
    "Mặc dù hầu hết các phép toán trong Deep Learning không cần truy cập từng phần tử của ma trận, bạn cũng nên biết một vài cách thức cơ bản để thao tác với từng phần tử trong ma trận."
   ]
  },
  {
   "cell_type": "markdown",
   "metadata": {
    "slideshow": {
     "slide_type": "slide"
    }
   },
   "source": [
    "Chúng ta sẽ sử dụng lại ma trận A để minh hoạ\n",
    "\n",
    "$$ A = \n",
    "    \\begin{bmatrix}\n",
    "        0 & 1 & 2 & 3 & 4 \\\\\n",
    "        5 & 6 & 7 & 8 & 9 \\\\\n",
    "        10 & 11 & 12 & 13 & 14\n",
    "    \\end{bmatrix}\n",
    "$$"
   ]
  },
  {
   "cell_type": "code",
   "execution_count": null,
   "metadata": {
    "collapsed": true,
    "slideshow": {
     "slide_type": "fragment"
    }
   },
   "outputs": [],
   "source": [
    "A = np.arange(20).reshape(4, 5)"
   ]
  },
  {
   "cell_type": "markdown",
   "metadata": {
    "slideshow": {
     "slide_type": "slide"
    }
   },
   "source": [
    "Như đã nói, bạn có thể truy cập và thay đổi phần tử bằng $A[i, j]$..."
   ]
  },
  {
   "cell_type": "code",
   "execution_count": null,
   "metadata": {
    "collapsed": true,
    "slideshow": {
     "slide_type": "fragment"
    }
   },
   "outputs": [],
   "source": [
    "print(A[0, 0])\n",
    "print(A[3, 4])"
   ]
  },
  {
   "cell_type": "markdown",
   "metadata": {
    "slideshow": {
     "slide_type": "slide"
    }
   },
   "source": [
    "... và thay đổi những phần tử này bằng cách gán chúng với một giá trị khác."
   ]
  },
  {
   "cell_type": "code",
   "execution_count": null,
   "metadata": {
    "collapsed": true,
    "slideshow": {
     "slide_type": "fragment"
    }
   },
   "outputs": [],
   "source": [
    "A[0, 0] = 19\n",
    "A[3, 4] = 0\n",
    "print(A)\n",
    "\"\"\" Kết quả:\n",
    "[[19  1  2  3  4]\n",
    " [ 5  6  7  8  9]\n",
    " [10 11 12 13 14]\n",
    " [15 16 17 18  0]]\n",
    "\"\"\"\n",
    "\n",
    "# khôi phục lại giá trị ban đầu của ma trận A\n",
    "A[0, 0] = 0\n",
    "A[3, 4] = 19"
   ]
  },
  {
   "cell_type": "markdown",
   "metadata": {
    "slideshow": {
     "slide_type": "slide"
    }
   },
   "source": [
    "Để truy cập cả một dòng hay một cột, sử dụng dấu 2 chấm __\":\"__ thay cho chỉ số không cần thiết\n",
    "\n",
    "$$ A = \n",
    "    \\begin{bmatrix}\n",
    "        0 & 1 & 2 & 3 & 4 \\\\\n",
    "        5 & 6 & 7 & 8 & 9 \\\\\n",
    "        10 & 11 & 12 & 13 & 14\n",
    "    \\end{bmatrix}\n",
    "$$"
   ]
  },
  {
   "cell_type": "code",
   "execution_count": null,
   "metadata": {
    "collapsed": true,
    "slideshow": {
     "slide_type": "fragment"
    }
   },
   "outputs": [],
   "source": [
    "print(A[0, :])  # In ra dòng đầu tiên. Kết quả: [0 1 2 3 4]\n",
    "print(A[:, 0])  # In ra cột đầu tiên. Kết quả: [0  5 10 15]"
   ]
  },
  {
   "cell_type": "markdown",
   "metadata": {
    "slideshow": {
     "slide_type": "slide"
    }
   },
   "source": [
    "Để truy cập một ma trận con, sử dụng $a:b$ để lấy ra phần chỉ số cần thiết.\n",
    "\n",
    "_Lưu ý: dùng $a:b$ để kí hiệu các phần tử từ $a$ đến $b - 1$._"
   ]
  },
  {
   "cell_type": "markdown",
   "metadata": {
    "slideshow": {
     "slide_type": "slide"
    }
   },
   "source": [
    "$$ A = \n",
    "    \\begin{bmatrix}\n",
    "        0 & 1 & 2 & 3 & 4 \\\\\n",
    "        5 & 6 & 7 & 8 & 9 \\\\\n",
    "        10 & 11 & 12 & 13 & 14\n",
    "    \\end{bmatrix}\n",
    "$$"
   ]
  },
  {
   "cell_type": "code",
   "execution_count": null,
   "metadata": {
    "collapsed": false,
    "slideshow": {
     "slide_type": "fragment"
    }
   },
   "outputs": [],
   "source": [
    "print(A[2:4, 2:5])\n",
    "\"\"\" Kết quả\n",
    "[[12 13 14]\n",
    " [17 18 19]]\n",
    "\"\"\""
   ]
  },
  {
   "cell_type": "code",
   "execution_count": null,
   "metadata": {
    "collapsed": true,
    "slideshow": {
     "slide_type": "fragment"
    }
   },
   "outputs": [],
   "source": [
    "print(A[0:3, :])\n",
    "\"\"\" Kết quả\n",
    "[[ 0  1  2  3  4]\n",
    " [ 5  6  7  8  9]\n",
    " [10 11 12 13 14]]\n",
    "\"\"\""
   ]
  },
  {
   "cell_type": "markdown",
   "metadata": {
    "slideshow": {
     "slide_type": "slide"
    }
   },
   "source": [
    "Ma trận / vector con có thể được gán sang biến khác và truy cập / thay đổi tương ứng.\n",
    "\n",
    "**CẢNH BÁO**: Python không sao chép ma trận trong phép gán =, cho nên LUÔN LUÔN sử dụng copy để tạo ra một ma trận mới và gán = với ma trận đó."
   ]
  },
  {
   "cell_type": "code",
   "execution_count": null,
   "metadata": {
    "collapsed": false,
    "slideshow": {
     "slide_type": "subslide"
    }
   },
   "outputs": [],
   "source": [
    "# Ví dụ SAI\n",
    "B1 = A[0:1, 0:3]\n",
    "B1[0, 0] = -1   # Phép toán này thay đổi giá trị tương ứng trong A\n",
    "print(B1)\n",
    "\"\"\" Kết quả\n",
    "[[-1  1  2]]\n",
    "\"\"\"\n",
    "\n",
    "print(A)\n",
    "\"\"\" Kết quả\n",
    "[[-1  1  2  3  4]\n",
    " [ 5  6  7  8  9]\n",
    " [10 11 12 13 14]\n",
    " [15 16 17 18 19]]\n",
    "\"\"\""
   ]
  },
  {
   "cell_type": "code",
   "execution_count": null,
   "metadata": {
    "collapsed": true,
    "slideshow": {
     "slide_type": "subslide"
    }
   },
   "outputs": [],
   "source": [
    "# Khôi phục lại giá trị đúng của A\n",
    "A[0, 0] = 0"
   ]
  },
  {
   "cell_type": "code",
   "execution_count": null,
   "metadata": {
    "collapsed": true,
    "slideshow": {
     "slide_type": "fragment"
    }
   },
   "outputs": [],
   "source": [
    "# Ví dụ đúng\n",
    "B2 = A[0:1, 0:3].copy()\n",
    "B2[0, 0] = -1\n",
    "print(B2)\n",
    "\"\"\" Kết quả\n",
    "[[-1  1  2]]\n",
    "\"\"\"\n",
    "\n",
    "print(A)\n",
    "\"\"\" Kết quả\n",
    "[[ 0  1  2  3  4]\n",
    " [ 5  6  7  8  9]\n",
    " [10 11 12 13 14]\n",
    " [15 16 17 18 19]]\n",
    "\"\"\""
   ]
  },
  {
   "cell_type": "markdown",
   "metadata": {
    "slideshow": {
     "slide_type": "slide"
    }
   },
   "source": [
    "Bạn có thể thay đổi nhiều hơn 1 phần tử trong 1 lệnh như sau"
   ]
  },
  {
   "cell_type": "code",
   "execution_count": null,
   "metadata": {
    "collapsed": true,
    "slideshow": {
     "slide_type": "fragment"
    }
   },
   "outputs": [],
   "source": [
    "A1 = A.copy()\n",
    "A1[0:2, 0:3] = -1\n",
    "print(A1)\n",
    "\"\"\" Kết quả\n",
    "[[-1 -1 -1  3  4]\n",
    " [-1 -1 -1  8  9]\n",
    " [10 11 12 13 14]\n",
    " [15 16 17 18 19]]\n",
    "\"\"\""
   ]
  },
  {
   "cell_type": "markdown",
   "metadata": {
    "slideshow": {
     "slide_type": "slide"
    }
   },
   "source": [
    "__Checkpoint 2__: Khởi tạo 1 ma trận kích thước 5 x 7, sau đó đảo ngược giá trị các phần tử trong từng dòng. Có một cách chậm và một cách nhanh; bạn có tìm ra được cách nhanh không?"
   ]
  },
  {
   "cell_type": "code",
   "execution_count": null,
   "metadata": {
    "collapsed": true,
    "slideshow": {
     "slide_type": "fragment"
    }
   },
   "outputs": [],
   "source": [
    "# code\n"
   ]
  },
  {
   "cell_type": "markdown",
   "metadata": {
    "slideshow": {
     "slide_type": "slide"
    }
   },
   "source": [
    "# 3. Tính toán trên ma trận\n",
    "\n",
    "Chúng ta khởi tạo 1 ma trận:\n",
    "$$ A = \n",
    "    \\begin{bmatrix}\n",
    "        1 & 2 & 3 \\\\\n",
    "        10 & 15 & 20\n",
    "    \\end{bmatrix}\n",
    "$$"
   ]
  },
  {
   "cell_type": "code",
   "execution_count": null,
   "metadata": {
    "collapsed": true,
    "slideshow": {
     "slide_type": "fragment"
    }
   },
   "outputs": [],
   "source": [
    "# code\n"
   ]
  },
  {
   "cell_type": "markdown",
   "metadata": {
    "slideshow": {
     "slide_type": "slide"
    }
   },
   "source": [
    "* Trong numpy, bạn có thể thực hiện các phép toán tác động lên __toàn bộ__ các phần tử của ma trận y như bạn thao tác trên một phần tử riêng biệt.\n",
    "\n",
    "Ví dụ, bạn có thể nhân hoặc chia ma trận cho 1 hằng số. $A * c$ hoặc $A / c$ sẽ nhân (chia) tất cả các phần tử của $A$ cho $c$."
   ]
  },
  {
   "cell_type": "code",
   "execution_count": null,
   "metadata": {
    "collapsed": false,
    "slideshow": {
     "slide_type": "fragment"
    }
   },
   "outputs": [],
   "source": [
    "A = np.array([[1, 2, 3], [10, 15, 20]], dtype=float)\n",
    "print(A * 3)\n",
    "print(A / 2)"
   ]
  },
  {
   "cell_type": "markdown",
   "metadata": {
    "slideshow": {
     "slide_type": "slide"
    }
   },
   "source": [
    "Hãy thử sử dụng $np.exp$ và $np.sin$ lên $A$ và giải thích xem 2 phép toán này làm gì?"
   ]
  },
  {
   "cell_type": "code",
   "execution_count": null,
   "metadata": {
    "collapsed": true,
    "slideshow": {
     "slide_type": "fragment"
    }
   },
   "outputs": [],
   "source": [
    "print(np.exp(A))\n",
    "print(np.sin(A))"
   ]
  },
  {
   "cell_type": "markdown",
   "metadata": {
    "slideshow": {
     "slide_type": "slide"
    }
   },
   "source": [
    "* Nhân hoặc chia một ma trận con của A được thực hiện tương tự."
   ]
  },
  {
   "cell_type": "code",
   "execution_count": null,
   "metadata": {
    "collapsed": true,
    "slideshow": {
     "slide_type": "fragment"
    }
   },
   "outputs": [],
   "source": [
    "A1 = A.copy()\n",
    "A1[:, 0] *= 3\n",
    "print(A1)"
   ]
  },
  {
   "cell_type": "markdown",
   "metadata": {
    "slideshow": {
     "slide_type": "slide"
    }
   },
   "source": [
    "* Chuyển vị một ma trận thay đổi chiều của ma trận và hoán đổi các phần tử qua đường chéo chính bằng hàm $np.transpose$\n",
    "\n",
    "$$\n",
    "    \\begin{bmatrix}\n",
    "        1 & 2 & 3 \\\\\n",
    "        10 & 15 & 20\n",
    "    \\end{bmatrix}\n",
    " ' => \n",
    "    \\begin{bmatrix}\n",
    "        1 & 10 \\\\\n",
    "        2 & 15 \\\\\n",
    "        3 & 20\n",
    "    \\end{bmatrix}\n",
    "$$"
   ]
  },
  {
   "cell_type": "code",
   "execution_count": null,
   "metadata": {
    "collapsed": false,
    "slideshow": {
     "slide_type": "fragment"
    }
   },
   "outputs": [],
   "source": [
    "print(np.transpose(A))"
   ]
  },
  {
   "cell_type": "markdown",
   "metadata": {
    "slideshow": {
     "slide_type": "slide"
    }
   },
   "source": [
    "* Với 2 ma trận, bạn có thể cộng, trừ hoặc nhân các ma trận với điều kiện số chiều của 2 ma trận phải khớp nhau\n",
    "    * Phép cộng / trừ yêu cầu số dòng và số cột của 2 ma trận là như nhau\n",
    "    * Nhân ma trận yêu cầu số cột của A bằng số dòng của B."
   ]
  },
  {
   "cell_type": "markdown",
   "metadata": {
    "slideshow": {
     "slide_type": "slide"
    }
   },
   "source": [
    "Hãy khởi tạo ma trận B như dưới đây, và thực hiện phép cộng $A+B$, và phép trừ $A-B$.\n",
    "\n",
    "$A = \\begin{bmatrix}\n",
    "        1 & 2 & 3 \\\\\n",
    "        10 & 15 & 20\n",
    "    \\end{bmatrix}; \n",
    " \\ \\ \\ B = \\begin{bmatrix}\n",
    "        1 & 1 & 1 \\\\\n",
    "        2 & 3 & 4\n",
    "    \\end{bmatrix}\n",
    "$"
   ]
  },
  {
   "cell_type": "code",
   "execution_count": null,
   "metadata": {
    "collapsed": true,
    "slideshow": {
     "slide_type": "fragment"
    }
   },
   "outputs": [],
   "source": [
    "# code\n"
   ]
  },
  {
   "cell_type": "code",
   "execution_count": null,
   "metadata": {
    "collapsed": false,
    "slideshow": {
     "slide_type": "subslide"
    }
   },
   "outputs": [],
   "source": [
    "B = np.array([[1, 1, 1], [2, 3, 4]], dtype=float)\n",
    "\n",
    "print(A + B)\n",
    "print(A - B)"
   ]
  },
  {
   "cell_type": "markdown",
   "metadata": {
    "slideshow": {
     "slide_type": "slide"
    }
   },
   "source": [
    "Làm thế nào để thực hiện phép nhân 2 ma trận này?\n",
    "\n",
    "$A = \\begin{bmatrix}\n",
    "        1 & 2 & 3 \\\\\n",
    "        10 & 15 & 20\n",
    "    \\end{bmatrix}; \n",
    " \\ \\ \\ B = \\begin{bmatrix}\n",
    "        1 & 1 & 1 \\\\\n",
    "        2 & 3 & 4\n",
    "    \\end{bmatrix}\n",
    "$"
   ]
  },
  {
   "cell_type": "code",
   "execution_count": null,
   "metadata": {
    "collapsed": true,
    "slideshow": {
     "slide_type": "fragment"
    }
   },
   "outputs": [],
   "source": [
    "# code\n"
   ]
  },
  {
   "cell_type": "markdown",
   "metadata": {
    "slideshow": {
     "slide_type": "subslide"
    }
   },
   "source": [
    "Nhân ma trận yêu cầu số cột của A bằng số dòng của B.\n",
    "    \n",
    "CẢNH BÁO: tuyệt đối không sử dụng $*$ để nhân ma trận. Chỉ sử dụng $*$ khi bạn hiểu chính xác nó làm gì. Thay vào đó, sử dụng $np.matmul$."
   ]
  },
  {
   "cell_type": "code",
   "execution_count": null,
   "metadata": {
    "collapsed": true,
    "slideshow": {
     "slide_type": "fragment"
    }
   },
   "outputs": [],
   "source": [
    "print(np.matmul(A, np.transpose(B)))"
   ]
  },
  {
   "cell_type": "markdown",
   "metadata": {
    "slideshow": {
     "slide_type": "slide"
    }
   },
   "source": [
    "__Checkpoint 3__: nhân ma trận không phải phép toán giao hoán: $np.matmul(A, B)$ không phải là $np.matmul(B, A)$. Hãy đưa ra 2 ma trận $A$ và $B$ làm phản ví dụ. Khẳng định trên có đúng không nếu như $A$ và $B$ đều là ma trận vuông và có cùng số chiều?"
   ]
  },
  {
   "cell_type": "code",
   "execution_count": null,
   "metadata": {
    "collapsed": true,
    "slideshow": {
     "slide_type": "fragment"
    }
   },
   "outputs": [],
   "source": [
    "# code\n"
   ]
  },
  {
   "cell_type": "markdown",
   "metadata": {
    "slideshow": {
     "slide_type": "slide"
    }
   },
   "source": [
    "## Hỏi đáp"
   ]
  },
  {
   "cell_type": "markdown",
   "metadata": {
    "collapsed": true,
    "slideshow": {
     "slide_type": "slide"
    }
   },
   "source": [
    "**Bài tập**: Sử dụng numpy để giải quyết hai bài toán cơ bản sau đây:\n",
    "\n",
    "* Cho ma trận $A$ và vector $b$, giải hệ phương trình $Ax = b$.\n",
    "* Cho ma trận $A$ và vector $b$, tìm vector x sao cho giá trị $||Ax - b||_2^2$ là nhỏ nhất.\n",
    "\n",
    "Giả sử $A$ và $b$ có số chiều khớp nhau và bài toán luôn có lời giải duy nhất.\n",
    "\n",
    "Để xem các lệnh bạn có thể sử dụng được trong Numpy, hãy truy cập https://docs.scipy.org/doc/numpy/user/. Hai bài tập trên có thể giải quyết được trong không quá 5 dòng lệnh Numpy."
   ]
  },
  {
   "cell_type": "code",
   "execution_count": null,
   "metadata": {
    "collapsed": true,
    "slideshow": {
     "slide_type": "fragment"
    }
   },
   "outputs": [],
   "source": [
    "# code\n"
   ]
  }
 ],
 "metadata": {
  "kernelspec": {
   "display_name": "Python 3",
   "language": "python",
   "name": "python3"
  },
  "language_info": {
   "codemirror_mode": {
    "name": "ipython",
    "version": 3
   },
   "file_extension": ".py",
   "mimetype": "text/x-python",
   "name": "python",
   "nbconvert_exporter": "python",
   "pygments_lexer": "ipython3",
   "version": "3.5.2"
  }
 },
 "nbformat": 4,
 "nbformat_minor": 0
}
