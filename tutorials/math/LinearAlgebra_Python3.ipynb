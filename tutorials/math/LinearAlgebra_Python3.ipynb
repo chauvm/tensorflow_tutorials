{
 "cells": [
  {
   "cell_type": "markdown",
   "metadata": {},
   "source": [
    "# Bài giảng về Đại số tuyến tính\n",
    "## MassP 2017, Computer Science\n",
    "### Chuẩn bị: Nguyễn Vương Linh, MIT Class of 2017\n",
    "\n",
    "Bài giảng sau đây giới thiệu một số kiến thức cơ bản về đại số tuyến tính cần thiết để hiểu và thực hiện chương trình Deep Learning. Bài giảng này bỏ qua một số kiến thức quan trọng (ví dụ như vector riêng), và không đi sâu vào phân tích tính chất của các khái niệm.\n",
    "\n",
    "Bài giảng này sử dụng thư viện numpy trong Python để thực hiện các ví dụ minh hoạ. Numpy là một trong những thư viện mã nguồn mở nổi tiếng nhất của Python và được sử dụng rộng rãi trong nhiều chương trình Machine Learning nói chung và Deep Learning nói riêng. Mục tiêu chính của Numpy là tối ưu và đơn giản hoá các phép toán liên quan đến đại số tuyến tính. Trước khi bắt đầu, hãy cài đặt numpy, và bắt đầu chương trình Python (hoặc notebook) bằng lệnh sau:"
   ]
  },
  {
   "cell_type": "code",
   "execution_count": 2,
   "metadata": {
    "collapsed": true
   },
   "outputs": [],
   "source": [
    "import numpy as np"
   ]
  },
  {
   "cell_type": "markdown",
   "metadata": {},
   "source": [
    "Lưu ý: khi bạn tải lại notebook này, bạn phải chạy lại lệnh import nói trên."
   ]
  },
  {
   "cell_type": "markdown",
   "metadata": {},
   "source": [
    "# 0. Ví dụ cơ bản\n",
    "\n",
    "Đối tượng cơ bản trong đại số tuyến tính là ma trận và vector. Ví dụ cơ bản sau đây giới thiệu cách thức tương tác với ma trận trong numpy. Ví dụ sau đây được thực hiện với ma trận 2 chiều, tuy nhiên các phép toán cơ bản là không thay đổi nếu với số chiều khác.\n",
    "\n",
    "Các ví dụ chi tiết hơn sẽ được đề cập khi đi sâu vào từng phép toán / trường hợp cụ thể."
   ]
  },
  {
   "cell_type": "markdown",
   "metadata": {},
   "source": [
    "Chúng ta bắt đầu với việc khởi tạo một ma trận A và in ra các thông tin cơ bản của A. Khi mới bắt đầu, các bạn hãy trực tiếp thử những lệnh này trên môi trường Python terminal để làm quen với numpy."
   ]
  },
  {
   "cell_type": "code",
   "execution_count": 3,
   "metadata": {
    "collapsed": false
   },
   "outputs": [
    {
     "name": "stdout",
     "output_type": "stream",
     "text": [
      "[[ 0  1  2  3  4]\n",
      " [ 5  6  7  8  9]\n",
      " [10 11 12 13 14]]\n",
      "(3, 5)\n",
      "2\n",
      "int64\n",
      "15\n",
      "3\n",
      "5\n"
     ]
    }
   ],
   "source": [
    "# Khởi tạo ma trận kích thước 3 x 5, các phần tử từ 0 đến 14\n",
    "# Theo thứ tự tăng dần từ trái qua phải và từ trên xuống\n",
    "\n",
    "A = np.arange(15).reshape(3, 5)\n",
    "print(A)\n",
    "\n",
    "\"\"\" Kết quả\n",
    "[[ 0  1  2  3  4]\n",
    " [ 5  6  7  8  9]\n",
    " [10 11 12 13 14]]\n",
    "\"\"\"\n",
    "\n",
    "# In các thông tin cơ bản về ma trận A\n",
    "print(A.shape)      # In thông tin về các chiều của A. Kết quả: (3, 5)\n",
    "\n",
    "print(A.ndim)       # In số chiều của A. Kết quả: 2\n",
    "\n",
    "print(A.dtype)      # In kiểu dữ liệu của các phần từ trong A. Kết quả: int64\n",
    "\n",
    "print(A.size)       # In số phần tử có trong A. Kết quả: 15\n",
    "\n",
    "# Để truy cập thông tin của A theo từng chiều, sử dụng chỉ số với A.shape\n",
    "print(A.shape[0])   # Kết quả: 3\n",
    "print(A.shape[1])   # Kết quả: 5"
   ]
  },
  {
   "cell_type": "markdown",
   "metadata": {},
   "source": [
    "Trong numpy (và Python), các phần tử được đánh số từ 0. Numpy cho phép đọc và thay đổi từng phần tử trong ma trận."
   ]
  },
  {
   "cell_type": "code",
   "execution_count": null,
   "metadata": {
    "collapsed": true
   },
   "outputs": [],
   "source": [
    "# Có thể truy cập một phần tử của A bằng lệnh A[i0, i1]\n",
    "print(A[0, 0])      # Kết quả: 1\n",
    "print(A[1, 2])      # Kết quả: 7\n",
    "\n",
    "# numpy cho phép thay đổi thông tin lưu trữ trong ma trận\n",
    "A[0, 0] = 10\n",
    "A[1, 1] = -1\n",
    "print(A)\n"
   ]
  },
  {
   "cell_type": "markdown",
   "metadata": {},
   "source": [
    "__Bài tập__: Khởi tạo 1 vector b và thực hiện các phép toán tương tự như ở trên. Sử dụng vector sau đây:"
   ]
  },
  {
   "cell_type": "code",
   "execution_count": 7,
   "metadata": {
    "collapsed": false
   },
   "outputs": [],
   "source": [
    "b = np.array([6.0, 7.0, 8.0])"
   ]
  },
  {
   "cell_type": "markdown",
   "metadata": {},
   "source": [
    "# 1. Khởi tạo ma trận và vector\n",
    "\n",
    "Chúng ta sẽ khởi tạo một vài ma trận với các định dạng khác nhau để minh hoạ."
   ]
  },
  {
   "cell_type": "code",
   "execution_count": 4,
   "metadata": {
    "collapsed": false
   },
   "outputs": [
    {
     "name": "stdout",
     "output_type": "stream",
     "text": [
      "[[1 2 3]\n",
      " [6 5 4]]\n",
      "[[ 3.  4.]\n",
      " [ 5.  6.]]\n",
      "float64\n",
      "[[0 0 0 0 0]\n",
      " [0 0 0 0 0]\n",
      " [0 0 0 0 0]\n",
      " [0 0 0 0 0]\n",
      " [0 0 0 0 0]\n",
      " [0 0 0 0 0]]\n"
     ]
    },
    {
     "data": {
      "text/plain": [
       "' Kết quả:\\n[[0 0 0 0 0]\\n [0 0 0 0 0]\\n [0 0 0 0 0]\\n [0 0 0 0 0]\\n [0 0 0 0 0]\\n [0 0 0 0 0]]\\n'"
      ]
     },
     "execution_count": 4,
     "metadata": {},
     "output_type": "execute_result"
    }
   ],
   "source": [
    "# Để khởi tạo 1 ma trận với các phần tử được biết trước, sử dụng np.array\n",
    "A1 = np.array([[1, 2, 3], [6, 5, 4]])\n",
    "print(A1)\n",
    "\n",
    "\"\"\" Kết quả:\n",
    "[[1 2 3]\n",
    " [6 5 4]]\n",
    "\"\"\"\n",
    "\n",
    "# np.array tự động xác định kiểu dữ liệu trong ma trận.\n",
    "# Sử dụng dtype để ép kiểu dữ liệu trong ma trận\n",
    "A2 = np.array([[3, 4], [5, 6]], dtype=float)  # Sử dụng kiểu số thực\n",
    "\n",
    "print(A2)\n",
    "\"\"\" Kết quả:\n",
    "[[ 3.  4.]\n",
    " [ 5.  6.]]\n",
    "\"\"\"\n",
    "\n",
    "print(A2.dtype)  # Kết quả: float64\n",
    "\n",
    "# Luôn luôn phải có [] để xác định các phần tử trong ma trận.\n",
    "# Ví dụ sau đây là SAI\n",
    "# B1 = np.array(1,2,3,4)\n",
    "\n",
    "# Nếu cần khởi tạo ma trận toàn 0, sử dụng np.zeros, kèm theo thông tin về kích thước ma trận\n",
    "A3 = np.zeros((6, 5), dtype=int)\n",
    "print(A3)\n",
    "\n",
    "\"\"\" Kết quả:\n",
    "[[0 0 0 0 0]\n",
    " [0 0 0 0 0]\n",
    " [0 0 0 0 0]\n",
    " [0 0 0 0 0]\n",
    " [0 0 0 0 0]\n",
    " [0 0 0 0 0]]\n",
    "\"\"\""
   ]
  },
  {
   "cell_type": "code",
   "execution_count": 5,
   "metadata": {
    "collapsed": false
   },
   "outputs": [
    {
     "name": "stdout",
     "output_type": "stream",
     "text": [
      "[[ 1.  1.]\n",
      " [ 1.  1.]\n",
      " [ 1.  1.]\n",
      " [ 1.  1.]]\n",
      "[[ 1.  0.  0.]\n",
      " [ 0.  1.  0.]\n",
      " [ 0.  0.  1.]]\n",
      "[[10 11 12 13 14]\n",
      " [15 16 17 18 19]]\n"
     ]
    },
    {
     "data": {
      "text/plain": [
       "' Kết quả:\\n[[10 11 12 13 14]\\n [15 16 17 18 19]]\\n'"
      ]
     },
     "execution_count": 5,
     "metadata": {},
     "output_type": "execute_result"
    }
   ],
   "source": [
    "# Tương tự như thế, bạn có thể khởi tạo ma trận toàn 1:\n",
    "A4 = np.ones((4, 2))\n",
    "print(A4)\n",
    "\"\"\" Kết quả:\n",
    "[[ 1.  1.]\n",
    " [ 1.  1.]\n",
    " [ 1.  1.]\n",
    " [ 1.  1.]]\n",
    "\"\"\"\n",
    "\n",
    "# Ma trận đơn vị được khởi tạo bằng np.eye.\n",
    "# Lưu ý ma trận đơn vị chỉ có 2 chiều và luôn là ma trận vuông.\n",
    "A5 = np.eye(3)\n",
    "print(A5)\n",
    "\n",
    "# Cuối cùng, np.arange tạo ra ma trận với các phần tử kế tiếp nhau\n",
    "# Reshape được sử dụng để thay đổi kích thước ma trận\n",
    "A6 = np.arange(10, 20).reshape(2, 5)\n",
    "print(A6)\n",
    "\n",
    "\"\"\" Kết quả:\n",
    "[[10 11 12 13 14]\n",
    " [15 16 17 18 19]]\n",
    "\"\"\""
   ]
  },
  {
   "cell_type": "markdown",
   "metadata": {},
   "source": [
    "# 2. Truy cập và thay đổi phần tử trong ma trận\n",
    "\n",
    "Mặc dù hầu hết các phép toán trong Deep Learning không cần truy cập từng phần tử của ma trận, bạn cũng nên biết một vài cách thức cơ bản để thao tác với từng phần tử trong ma trận."
   ]
  },
  {
   "cell_type": "code",
   "execution_count": 6,
   "metadata": {
    "collapsed": false
   },
   "outputs": [
    {
     "name": "stdout",
     "output_type": "stream",
     "text": [
      "[[ 0  1  2  3  4]\n",
      " [ 5  6  7  8  9]\n",
      " [10 11 12 13 14]\n",
      " [15 16 17 18 19]]\n",
      "0\n",
      "19\n",
      "[[19  1  2  3  4]\n",
      " [ 5  6  7  8  9]\n",
      " [10 11 12 13 14]\n",
      " [15 16 17 18  0]]\n",
      "[0 1 2 3 4]\n",
      "[ 0  5 10 15]\n",
      "[[12 13 14]\n",
      " [17 18 19]]\n",
      "[[ 0  1  2  3  4]\n",
      " [ 5  6  7  8  9]\n",
      " [10 11 12 13 14]]\n"
     ]
    },
    {
     "data": {
      "text/plain": [
       "' Kết quả\\n[[ 0  1  2  3  4]\\n [ 5  6  7  8  9]\\n [10 11 12 13 14]]\\n'"
      ]
     },
     "execution_count": 6,
     "metadata": {},
     "output_type": "execute_result"
    }
   ],
   "source": [
    "# Chúng ta sẽ sử dụng ma trận minh hoạ\n",
    "A = np.arange(20).reshape(4, 5)\n",
    "print(A)\n",
    "\n",
    "\"\"\" Kết quả:\n",
    "[[ 0  1  2  3  4]\n",
    " [ 5  6  7  8  9]\n",
    " [10 11 12 13 14]\n",
    " [15 16 17 18 19]]\n",
    "\"\"\"\n",
    "\n",
    "# Như đã nói, bạn có thể truy cập và thay đổi phần tử bằng A[i, j]\n",
    "print(A[0, 0])\n",
    "print(A[3, 4])\n",
    "\n",
    "A[0, 0] = 19\n",
    "A[3, 4] = 0\n",
    "\n",
    "print(A)\n",
    "\"\"\" Kết quả:\n",
    "[[19  1  2  3  4]\n",
    " [ 5  6  7  8  9]\n",
    " [10 11 12 13 14]\n",
    " [15 16 17 18  0]]\n",
    "\"\"\"\n",
    "\n",
    "A[0, 0] = 0\n",
    "A[3, 4] = 19\n",
    "\n",
    "# Để truy cập cả một dòng hay một cột, sử dụng : thay cho chỉ số không cần thiết\n",
    "print(A[0, :])  # In ra dòng đầu tiên. Kết quả: [0 1 2 3 4]\n",
    "print(A[:, 0])  # In ra cột đầu tiên. Kết quả: [ 0  5 10 15]\n",
    "\n",
    "# Để truy cập một ma trận con, sử dụng a:b để lấy ra phần chỉ số cần thiết.\n",
    "# Lưu ý: a:b kí hiệu các phần tử từ a đến b - 1.\n",
    "print(A[2:4, 2:5])\n",
    "\"\"\" Kết quả\n",
    "[[12 13 14]\n",
    " [17 18 19]]\n",
    "\"\"\"\n",
    "\n",
    "print(A[0:3, :])\n",
    "\"\"\" Kết quả\n",
    "[[ 0  1  2  3  4]\n",
    " [ 5  6  7  8  9]\n",
    " [10 11 12 13 14]]\n",
    "\"\"\""
   ]
  },
  {
   "cell_type": "markdown",
   "metadata": {},
   "source": [
    "Ma trận / vector con có thể được gán sang biến khác và truy cập / thay đổi tương ứng.\n",
    "\n",
    "**CẢNH BÁO**: Python không sao chép ma trận trong phép gán =, cho nên LUÔN LUÔN sử dụng copy để tạo ra một ma trận mới và gán = với ma trận đó."
   ]
  },
  {
   "cell_type": "code",
   "execution_count": 7,
   "metadata": {
    "collapsed": false
   },
   "outputs": [
    {
     "name": "stdout",
     "output_type": "stream",
     "text": [
      "[[-1  1  2]]\n",
      "[[-1  1  2  3  4]\n",
      " [ 5  6  7  8  9]\n",
      " [10 11 12 13 14]\n",
      " [15 16 17 18 19]]\n",
      "[[-1  1  2]]\n",
      "[[ 0  1  2  3  4]\n",
      " [ 5  6  7  8  9]\n",
      " [10 11 12 13 14]\n",
      " [15 16 17 18 19]]\n",
      "[[-1 -1 -1  3  4]\n",
      " [-1 -1 -1  8  9]\n",
      " [10 11 12 13 14]\n",
      " [15 16 17 18 19]]\n"
     ]
    },
    {
     "data": {
      "text/plain": [
       "' Kết quả\\n[[-1 -1 -1  3  4]\\n [-1 -1 -1  8  9]\\n [10 11 12 13 14]\\n [15 16 17 18 19]]\\n'"
      ]
     },
     "execution_count": 7,
     "metadata": {},
     "output_type": "execute_result"
    }
   ],
   "source": [
    "# Ví dụ SAI\n",
    "B1 = A[0:1, 0:3]\n",
    "B1[0, 0] = -1   # Phép toán này thay đổi giá trị tương ứng trong A\n",
    "print(B1)\n",
    "\"\"\" Kết quả\n",
    "[[-1  1  2]]\n",
    "\"\"\"\n",
    "\n",
    "print(A)\n",
    "\"\"\" Kết quả\n",
    "[[-1  1  2  3  4]\n",
    " [ 5  6  7  8  9]\n",
    " [10 11 12 13 14]\n",
    " [15 16 17 18 19]]\n",
    "\"\"\"\n",
    "\n",
    "# Khôi phục lại giá trị đúng của A\n",
    "A[0, 0] = 0\n",
    "\n",
    "# Ví dụ đúng\n",
    "B2 = A[0:1, 0:3].copy()\n",
    "B2[0, 0] = -1\n",
    "print(B2)\n",
    "\"\"\" Kết quả\n",
    "[[-1  1  2]]\n",
    "\"\"\"\n",
    "\n",
    "print(A)\n",
    "\"\"\" Kết quả\n",
    "[[ 0  1  2  3  4]\n",
    " [ 5  6  7  8  9]\n",
    " [10 11 12 13 14]\n",
    " [15 16 17 18 19]]\n",
    "\"\"\"\n",
    "\n",
    "# Bạn có thể thay đổi nhiều hơn 1 phần tử trong 1 lệnh\n",
    "A1 = A.copy()\n",
    "A1[0:2, 0:3] = -1\n",
    "print(A1)\n",
    "\"\"\" Kết quả\n",
    "[[-1 -1 -1  3  4]\n",
    " [-1 -1 -1  8  9]\n",
    " [10 11 12 13 14]\n",
    " [15 16 17 18 19]]\n",
    "\"\"\""
   ]
  },
  {
   "cell_type": "markdown",
   "metadata": {},
   "source": [
    "__Bài tập__: Khởi tạo 1 ma trận kích thước 5 x 7, sau đó đảo ngược giá trị các phần tử trong từng dòng. Có một cách chậm và một cách nhanh; bạn có tìm ra được cách nhanh không?"
   ]
  },
  {
   "cell_type": "code",
   "execution_count": null,
   "metadata": {
    "collapsed": true
   },
   "outputs": [],
   "source": []
  },
  {
   "cell_type": "markdown",
   "metadata": {},
   "source": [
    "# 3. Tính toán trên ma trận\n",
    "\n",
    "Chúng ta khởi tạo 1 ma trận:"
   ]
  },
  {
   "cell_type": "code",
   "execution_count": 8,
   "metadata": {
    "collapsed": false
   },
   "outputs": [
    {
     "name": "stdout",
     "output_type": "stream",
     "text": [
      "[[  3.   6.   9.]\n",
      " [ 30.  45.  60.]]\n",
      "[[  0.5   1.    1.5]\n",
      " [  5.    7.5  10. ]]\n",
      "[[  3.   2.   3.]\n",
      " [ 30.  15.  20.]]\n",
      "[[  1.  10.]\n",
      " [  2.  15.]\n",
      " [  3.  20.]]\n",
      "[[  2.71828183e+00   7.38905610e+00   2.00855369e+01]\n",
      " [  2.20264658e+04   3.26901737e+06   4.85165195e+08]]\n",
      "[[ 0.84147098  0.90929743  0.14112001]\n",
      " [-0.54402111  0.65028784  0.91294525]]\n",
      "[[  2.   3.   4.]\n",
      " [ 12.  18.  24.]]\n",
      "[[  0.   1.   2.]\n",
      " [  8.  12.  16.]]\n",
      "[[   6.   20.]\n",
      " [  45.  145.]]\n"
     ]
    }
   ],
   "source": [
    "A = np.array([[1, 2, 3], [10, 15, 20]], dtype=float)\n",
    "\n",
    "# Trong numpy, bạn có thể thực hiện các phép toán tác động lên toàn bộ các phần tử của ma trận.\n",
    "# y như bạn thao tác trên một phần tử riêng biệt.\n",
    "\n",
    "# Ví dụ, bạn có thể nhân hoặc chia ma trận cho 1 hằng số.\n",
    "# A * c hoặc A / c sẽ nhân (chia) tất cả các phần tử của A cho c.\n",
    "print(A * 3)\n",
    "print(A / 2)\n",
    "\n",
    "# Nhân hoặc chia một ma trận con của A được thực hiện tương tự.\n",
    "A1 = A.copy()\n",
    "A1[:, 0] *= 3\n",
    "print(A1)\n",
    "\n",
    "# Chuyển vị một ma trận thay đổi chiều của ma trận và hoán đổi các phần tử qua đường chéo chính.\n",
    "# Sử dụng np.transpose để chuyển vị ma trận.\n",
    "print(np.transpose(A))\n",
    "\n",
    "# Hãy thử np.exp và np.sin và giải thích xem 2 phép toán này làm gì?\n",
    "print(np.exp(A))\n",
    "print(np.sin(A))\n",
    "\n",
    "# Với 2 ma trận, bạn có thể cộng, trừ hoặc nhân các ma trận với điều kiện số chiều của 2 ma trận phải khớp nhau.\n",
    "B = np.array([[1, 1, 1], [2, 3, 4]], dtype=float)\n",
    "\n",
    "# Phép cộng / trừ yêu cầu số dòng và số cột của 2 ma trận là như nhau.\n",
    "print(A + B)\n",
    "print(A - B)\n",
    "\n",
    "# Nhân ma trận yêu cầu số cột của A bằng số dòng của B.\n",
    "# CẢNH BÁO: tuyệt đối không sử dụng * để nhân ma trận. Chỉ sử dụng * khi bạn hiểu chính xác nó làm gì.\n",
    "# Thay vào đó, sử dụng np.matmul\n",
    "print(np.matmul(A, np.transpose(B)))"
   ]
  },
  {
   "cell_type": "markdown",
   "metadata": {},
   "source": [
    "__Bài tập__: nhân ma trận không phải phép toán giao hoán: np.matmul(A, B) không phải là np.matmul(B, A). Hãy đưa ra 2 ma trận A và B làm phản ví dụ. Khẳng định trên có đúng không nếu như A và B đều là ma trận vuông và có cùng số chiều?"
   ]
  },
  {
   "cell_type": "markdown",
   "metadata": {
    "collapsed": true
   },
   "source": [
    "**Bài tập**: Sử dụng numpy để giải quyết hai bài toán cơ bản sau đây:\n",
    "\n",
    "* Cho ma trận $A$ và vector $b$, giải hệ phương trình $Ax = b$.\n",
    "* Cho ma trận $A$ và vector $b$, tìm vector x sao cho giá trị $||Ax - b||_2^2$ là nhỏ nhất.\n",
    "\n",
    "Giả sử $A$ và $b$ có số chiều khớp nhau và bài toán luôn có lời giải duy nhất.\n",
    "\n",
    "Để xem các lệnh bạn có thể sử dụng được trong Numpy, hãy truy cập https://docs.scipy.org/doc/numpy/user/. Hai bài tập trên có thể giải quyết được trong không quá 5 dòng lệnh Numpy."
   ]
  },
  {
   "cell_type": "code",
   "execution_count": null,
   "metadata": {
    "collapsed": true
   },
   "outputs": [],
   "source": []
  }
 ],
 "metadata": {
  "kernelspec": {
   "display_name": "Python 3",
   "language": "python",
   "name": "python3"
  },
  "language_info": {
   "codemirror_mode": {
    "name": "ipython",
    "version": 3
   },
   "file_extension": ".py",
   "mimetype": "text/x-python",
   "name": "python",
   "nbconvert_exporter": "python",
   "pygments_lexer": "ipython3",
   "version": "3.5.2"
  }
 },
 "nbformat": 4,
 "nbformat_minor": 0
}
