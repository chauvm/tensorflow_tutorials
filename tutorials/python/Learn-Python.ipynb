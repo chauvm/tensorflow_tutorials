{
 "metadata": {
  "kernelspec": {
   "display_name": "Python 3",
   "language": "python",
   "name": "python3"
  },
  "language_info": {
   "codemirror_mode": {
    "name": "ipython",
    "version": 3
   },
   "file_extension": ".py",
   "mimetype": "text/x-python",
   "name": "python",
   "nbconvert_exporter": "python",
   "pygments_lexer": "ipython3",
   "version": "3.6.0"
  },
  "name": "",
  "signature": "sha256:6e39566beb72cbbcd9a98f654f24b875701f3623707460f224432929b38a90db"
 },
 "nbformat": 3,
 "nbformat_minor": 0,
 "worksheets": [
  {
   "cells": [
    {
     "cell_type": "markdown",
     "metadata": {},
     "source": [
      "## [Python Basic Syntax](https://www.tutorialspoint.com/python/python_basic_syntax.htm)\n",
      "The Python language has many similarities to Perl, C, and Java. However, there are some definite differences between the languages."
     ]
    },
    {
     "cell_type": "markdown",
     "metadata": {},
     "source": [
      "** Python Identifiers **\n",
      "\n",
      "M\u1ed9t \u0111\u1ecbnh danh (identifier) trong Python l\u00e0 m\u1ed9t t\u00ean \u0111\u01b0\u1ee3c s\u1eed d\u1ee5ng \u0111\u1ec3 nh\u1eadn di\u1ec7n m\u1ed9t bi\u1ebfn (variable), m\u1ed9t h\u00e0m (function), m\u1ed9t l\u1edbp (class), ho\u1eb7c m\u1ed9t \u0111\u1ed1i t\u01b0\u1ee3ng (object). M\u1ed9t \u0111\u1ecbnh danh b\u1eaft \u0111\u1ea7u v\u1edbi m\u1ed9t ch\u1eef c\u00e1i t\u1eeb A t\u1edbi Z ho\u1eb7c t\u1eeb a t\u1edbi z ho\u1eb7c m\u1ed9t d\u1ea5u g\u1ea1ch d\u01b0\u1edbi (_) \u0111\u01b0\u1ee3c theo sau b\u1edfi 0 ho\u1eb7c nhi\u1ec1u k\u00fd t\u1ef1, d\u1ea5u g\u1ea1ch d\u01b0\u1edbi ho\u1eb7c c\u00e1c ch\u1eef s\u1ed1 (t\u1eeb 0 t\u1edbi 9).\n",
      "\n",
      "Python kh\u00f4ng h\u1ed7 tr\u1ee3 c\u00e1c Punctuation char ch\u1eb3ng h\u1ea1n nh\u01b0 @, $ v\u00e0 % b\u00ean trong c\u00e1c \u0111\u1ecbnh danh. Python l\u00e0 m\u1ed9t ng\u00f4n ng\u1eef l\u1eadp tr\u00ecnh ph\u00e2n bi\u1ec7t ch\u1eef hoa- ch\u1eef th\u01b0\u1eddng, do \u0111\u00f3 MaSSP v\u00e0 massp l\u00e0 hai \u0111\u1ecbnh danh kh\u00e1c nhau trong Python. D\u01b0\u1edbi \u0111\u00e2y l\u00e0 m\u1ed9t s\u1ed1 qui t\u1eafc n\u00ean \u0111\u01b0\u1ee3c s\u1eed d\u1ee5ng trong khi \u0111\u1eb7t t\u00ean c\u00e1c \u0111\u1ecbnh danh:\n",
      "- T\u00ean l\u1edbp (class) th\u01b0\u1eddng b\u1eaft \u0111\u1ea7u v\u1edbi m\u1ed9t ch\u1eef hoa, c\u00f2n l\u1ea1i th\u00ec b\u1eaft \u0111\u1ea7u v\u1edbi ch\u1eef th\u01b0\u1eddng\n",
      "- B\u1eaft \u0111\u1ea7u m\u1ed9t \u0111\u1ecbnh danh v\u1edbi m\u1ed9t d\u1ea5u g\u1ea1ch d\u01b0\u1edbi \u0111\u01a1n ch\u1ec9 r\u1eb1ng \u0111\u1ecbnh danh \u0111\u00f3 l\u00e0 private.\n",
      "- B\u1eaft \u0111\u1ea7u m\u1ed9t \u0111\u1ecbnh danh v\u1edbi hai d\u1ea5u g\u1ea1ch d\u01b0\u1edbi ch\u1ec9 r\u1eb1ng \u0111\u1ecbnh danh \u0111\u00f3 th\u1ef1c s\u1ef1 l\u00e0 private.\n",
      "- N\u1ebfu \u0111\u1ecbnh danh c\u0169ng k\u1ebft th\u00fac v\u1edbi hai d\u1ea5u g\u1ea1ch d\u01b0\u1edbi, th\u00ec \u0111\u1ecbnh danh n\u00e0y l\u00e0 m\u1ed9t t\u00ean \u0111\u1eb7c bi\u1ec7t \u0111\u01b0\u1ee3c \u0111\u1ecbnh ngh\u0129a b\u1edfi ng\u00f4n ng\u1eef (v\u00ed d\u1ee5 nh\u01b0 __name__ ch\u1eb3ng h\u1ea1n).\n",
      "\n"
     ]
    },
    {
     "cell_type": "markdown",
     "metadata": {},
     "source": [
      "** Reserved Words **\n",
      "\n",
      "C\u0169ng gi\u1ed1ng nh\u01b0 c\u00e1c ng\u00f4n ng\u1eef kh\u00e1c, khi s\u1eed d\u1ee5ng \u0111\u1ecbnh danh trong python c\u1ea7n ph\u1ea3i tr\u00e1nh nh\u1eefng [Keywords](https://www.programiz.com/python-programming/keyword-list) \u0111\u01b0\u1ee3c \u0111\u1ecbnh ngh\u0129a s\u1eb5n.\n"
     ]
    },
    {
     "cell_type": "markdown",
     "metadata": {},
     "source": [
      "** Lines and Indentation **\n",
      "\n",
      "Python kh\u00f4ng cung c\u1ea5p c\u00e1c d\u1ea5u ngo\u1eb7c \u00f4m ({}) \u0111\u1ec3 ch\u1ec9 c\u00e1c kh\u1ed1i code cho \u0111\u1ecbnh ngh\u0129a l\u1edbp ho\u1eb7c h\u00e0m ho\u1eb7c \u0111i\u1ec1u khi\u1ec3n lu\u1ed3ng. C\u00e1c kh\u1ed1i code \u0111\u01b0\u1ee3c nh\u1eadn bi\u1ebft b\u1edfi \u0111\u1ed9 th\u1ee5t d\u00f2ng code (indentation) trong Python v\u00e0 \u0111\u00e2y l\u00e0 \u0111i\u1ec1u b\u1eaft bu\u1ed9c.\n",
      "\n",
      "S\u1ed1 kho\u1ea3ng tr\u1ed1ng trong \u0111\u1ed9 th\u1ee5t d\u00f2ng l\u00e0 bi\u1ebfn \u0111\u1ed5i, nh\u01b0ng t\u1ea5t c\u1ea3 c\u00e1c l\u1ec7nh b\u00ean trong kh\u1ed1i ph\u1ea3i \u0111\u01b0\u1ee3c th\u1ee5t c\u00f9ng m\u1ed9t s\u1ed1 l\u01b0\u1ee3ng kho\u1ea3ng tr\u1ed1ng nh\u01b0 nhau. V\u00ed d\u1ee5:"
     ]
    },
    {
     "cell_type": "code",
     "collapsed": false,
     "input": [
      "if True:\n",
      "    print \"True\"\n",
      "else:\n",
      "  print \"False\""
     ],
     "language": "python",
     "metadata": {},
     "outputs": [
      {
       "output_type": "stream",
       "stream": "stdout",
       "text": [
        "True\n"
       ]
      }
     ],
     "prompt_number": 1
    },
    {
     "cell_type": "markdown",
     "metadata": {},
     "source": [
      "tuy nhi\u00ean \u0111o\u1ea1n code sau s\u1ebd b\u00e1o l\u1ed7i"
     ]
    },
    {
     "cell_type": "code",
     "collapsed": false,
     "input": [
      "if True:\n",
      "    print \"Answer\"\n",
      "    print \"True\"\n",
      "else:\n",
      "    print \"Answer\"\n",
      "  print \"False\""
     ],
     "language": "python",
     "metadata": {},
     "outputs": [
      {
       "ename": "IndentationError",
       "evalue": "unindent does not match any outer indentation level (<ipython-input-2-b9bf12a9aecd>, line 6)",
       "output_type": "pyerr",
       "traceback": [
        "\u001b[0;36m  File \u001b[0;32m\"<ipython-input-2-b9bf12a9aecd>\"\u001b[0;36m, line \u001b[0;32m6\u001b[0m\n\u001b[0;31m    print \"False\"\u001b[0m\n\u001b[0m                 ^\u001b[0m\n\u001b[0;31mIndentationError\u001b[0m\u001b[0;31m:\u001b[0m unindent does not match any outer indentation level\n"
       ]
      }
     ],
     "prompt_number": 2
    },
    {
     "cell_type": "markdown",
     "metadata": {},
     "source": [
      "** Multi-Line Statements **\n",
      "\n",
      "C\u00e1c l\u1ec7nh trong Python c\u00f3 m\u1ed9t n\u00e9t \u0111\u1eb7c tr\u01b0ng l\u00e0 k\u1ebft th\u00fac v\u1edbi m\u1ed9t newline (d\u00f2ng m\u1edbi). Tuy nhi\u00ean, Python cho ph\u00e9p s\u1eed d\u1ee5ng k\u00fd t\u1ef1 \\ \u0111\u1ec3 ch\u1ec9 r\u00f5 s\u1ef1 li\u00ean t\u1ee5c d\u00f2ng. V\u00ed d\u1ee5:"
     ]
    },
    {
     "cell_type": "code",
     "collapsed": false,
     "input": [
      "print \"This \\\n",
      "        is\\\n",
      "  gonna\\\n",
      "      be\\\\\n",
      "        something\""
     ],
     "language": "python",
     "metadata": {},
     "outputs": [
      {
       "output_type": "stream",
       "stream": "stdout",
       "text": [
        "This         is  gonna      be\\        something\n"
       ]
      }
     ],
     "prompt_number": 1
    },
    {
     "cell_type": "markdown",
     "metadata": {},
     "source": [
      "C\u00e1c l\u1ec7nh \u0111\u01b0\u1ee3c ch\u1ee9a b\u00ean trong c\u00e1c d\u1ea5u ngo\u1eb7c [], {}, ho\u1eb7c () th\u00ec kh\u00f4ng c\u1ea7n s\u1eed d\u1ee5ng k\u00fd t\u1ef1 \\. V\u00ed d\u1ee5:"
     ]
    },
    {
     "cell_type": "code",
     "collapsed": false,
     "input": [
      "days = ['Monday', 'Tuesday', 'Wednesday',\n",
      "        'Thursday', 'Friday']\n",
      "print days"
     ],
     "language": "python",
     "metadata": {},
     "outputs": [
      {
       "output_type": "stream",
       "stream": "stdout",
       "text": [
        "['Monday', 'Tuesday', 'Wednesday', 'Thursday', 'Friday']\n"
       ]
      }
     ],
     "prompt_number": 5
    },
    {
     "cell_type": "markdown",
     "metadata": {},
     "source": [
      "** Quotation in Python **\n",
      "\n",
      "Python ch\u1ea5p nh\u1eadn tr\u00edch d\u1eabn \u0111\u01a1n ('), k\u00e9p (\") v\u00e0 tr\u00edch d\u1eabn tam (''' ho\u1eb7c \"\"\") \u0111\u1ec3 bi\u1ec3u th\u1ecb c\u00e1c h\u1eb1ng chu\u1ed7i, mi\u1ec5n l\u00e0 c\u00e1c tr\u00edch d\u1eabn n\u00e0y c\u00f3 c\u00f9ng ki\u1ec3u m\u1edf v\u00e0 \u0111\u00f3ng."
     ]
    },
    {
     "cell_type": "code",
     "collapsed": false,
     "input": [
      "word = 'word'\n",
      "sentence = \"This is a sentence.\"\n",
      "paragraph = \"\"\"This is a paragraph. It is\n",
      "made up of multiple lines and sentences.\"\"\"\n",
      "print (word, sentence, paragraph)"
     ],
     "language": "python",
     "metadata": {},
     "outputs": [
      {
       "output_type": "stream",
       "stream": "stdout",
       "text": [
        "('word', 'This is a sentence.', 'This is a paragraph. It is\\nmade up of multiple lines and sentences.')\n"
       ]
      }
     ],
     "prompt_number": 4
    },
    {
     "cell_type": "markdown",
     "metadata": {},
     "source": [
      "** Multiple Statements on a Single Line **\n",
      "\n",
      "D\u1ea5u ch\u1ea5m ph\u1ea3y (;) cho ph\u00e9p xu\u1ea5t hi\u1ec7n nhi\u1ec1u l\u1ec7nh tr\u00ean m\u1ed9t d\u00f2ng \u0111\u01a1n. T\u1ea5t c\u1ea3 c\u00e1c l\u1ec7nh \u0111\u01b0\u1ee3c cung c\u1ea5p n\u00e0y kh\u00f4ng b\u1eaft \u0111\u1ea7u m\u1ed9t kh\u1ed1i code m\u1edbi. "
     ]
    },
    {
     "cell_type": "code",
     "collapsed": false,
     "input": [
      "print \"Hello\";print\"World\""
     ],
     "language": "python",
     "metadata": {},
     "outputs": [
      {
       "output_type": "stream",
       "stream": "stdout",
       "text": [
        "Hello\n",
        "World\n"
       ]
      }
     ],
     "prompt_number": 8
    },
    {
     "cell_type": "markdown",
     "metadata": {},
     "source": [
      "## [Variable Types](https://www.tutorialspoint.com/python/python_variable_types.htm)\n",
      "\n"
     ]
    },
    {
     "cell_type": "markdown",
     "metadata": {},
     "source": [
      "** Assigning Values to Variables **\n",
      "\n",
      "Trong Python, ch\u00fang ta kh\u00f4ng c\u1ea7n khai b\u00e1o bi\u1ebfn m\u1ed9t c\u00e1ch t\u01b0\u1eddng minh. Khi b\u1ea1n g\u00e1n b\u1ea5t c\u1ee9 gi\u00e1 tr\u1ecb n\u00e0o cho bi\u1ebfn th\u00ec bi\u1ebfn \u0111\u00f3 \u0111\u01b0\u1ee3c khai b\u00e1o m\u1ed9t c\u00e1ch t\u1ef1 \u0111\u1ed9ng. Ph\u00e9p g\u00e1n \u0111\u01b0\u1ee3c th\u1ef1c hi\u1ec7n b\u1edfi to\u00e1n t\u1eed =."
     ]
    },
    {
     "cell_type": "code",
     "collapsed": false,
     "input": [
      "counter = 100          # An integer assignment\n",
      "miles   = 1000.0       # A floating point\n",
      "name    = \"John\"       # A string\n",
      "l = [1,2,3]\n",
      "print counter\n",
      "print miles\n",
      "print name\n",
      "counter = l\n",
      "print \"New counter: \", counter\n",
      "l.append(4)\n",
      "print \"New counter: \", counter"
     ],
     "language": "python",
     "metadata": {},
     "outputs": [
      {
       "output_type": "stream",
       "stream": "stdout",
       "text": [
        "100\n",
        "1000.0\n",
        "John\n",
        "New counter:  [1, 2, 3]\n",
        "New counter:  [1, 2, 3, 4]\n"
       ]
      }
     ],
     "prompt_number": 8
    },
    {
     "cell_type": "markdown",
     "metadata": {},
     "source": [
      "** Multiple Assignment ** "
     ]
    },
    {
     "cell_type": "code",
     "collapsed": false,
     "input": [
      "a = b = c = 1\n",
      "print a, b, c"
     ],
     "language": "python",
     "metadata": {},
     "outputs": [
      {
       "output_type": "stream",
       "stream": "stdout",
       "text": [
        "1 1 1\n"
       ]
      }
     ],
     "prompt_number": 10
    },
    {
     "cell_type": "markdown",
     "metadata": {},
     "source": [
      "** Standard Data Types **\n",
      "\n",
      "Numbers\n",
      "\n",
      "String\n",
      "\n",
      "List\n",
      "\n",
      "Tuple\n",
      "\n",
      "Dictionary"
     ]
    },
    {
     "cell_type": "markdown",
     "metadata": {},
     "source": [
      "## [Python Basic Operation](https://www.tutorialspoint.com/python/python_basic_operators.htm)\n",
      "\n",
      "V\u1ec1 c\u01a1 b\u1ea3n th\u00ec gi\u1ed1ng C++ ho\u1eb7c Java, ngo\u1ea1i tr\u1eeb m\u1ed9t s\u1ed1 to\u00e1n t\u1eed \u0111\u1eb7c bi\u1ec7t:\n",
      "\n"
     ]
    },
    {
     "cell_type": "code",
     "collapsed": false,
     "input": [
      "print 10**2"
     ],
     "language": "python",
     "metadata": {},
     "outputs": [
      {
       "output_type": "stream",
       "stream": "stdout",
       "text": [
        "100\n"
       ]
      }
     ],
     "prompt_number": 11
    },
    {
     "cell_type": "code",
     "collapsed": false,
     "input": [
      "print 10.0/3.0"
     ],
     "language": "python",
     "metadata": {},
     "outputs": [
      {
       "output_type": "stream",
       "stream": "stdout",
       "text": [
        "3.33333333333\n"
       ]
      }
     ],
     "prompt_number": 16
    },
    {
     "cell_type": "code",
     "collapsed": false,
     "input": [
      "print 10.0//3.0\n",
      "print 10.0//(-3.0)"
     ],
     "language": "python",
     "metadata": {},
     "outputs": [
      {
       "output_type": "stream",
       "stream": "stdout",
       "text": [
        "3.0\n",
        "-4.0\n"
       ]
      }
     ],
     "prompt_number": 9
    },
    {
     "cell_type": "code",
     "collapsed": false,
     "input": [
      "print (1&&0)"
     ],
     "language": "python",
     "metadata": {},
     "outputs": [
      {
       "ename": "SyntaxError",
       "evalue": "invalid syntax (<ipython-input-17-4ef2792d09ba>, line 1)",
       "output_type": "pyerr",
       "traceback": [
        "\u001b[0;36m  File \u001b[0;32m\"<ipython-input-17-4ef2792d09ba>\"\u001b[0;36m, line \u001b[0;32m1\u001b[0m\n\u001b[0;31m    print (1&&0)\u001b[0m\n\u001b[0m             ^\u001b[0m\n\u001b[0;31mSyntaxError\u001b[0m\u001b[0;31m:\u001b[0m invalid syntax\n"
       ]
      }
     ],
     "prompt_number": 17
    },
    {
     "cell_type": "code",
     "collapsed": false,
     "input": [
      "print (1 and 0)"
     ],
     "language": "python",
     "metadata": {},
     "outputs": [
      {
       "output_type": "stream",
       "stream": "stdout",
       "text": [
        "0\n"
       ]
      }
     ],
     "prompt_number": 18
    },
    {
     "cell_type": "code",
     "collapsed": false,
     "input": [
      "print (1 || 0)"
     ],
     "language": "python",
     "metadata": {},
     "outputs": [
      {
       "ename": "SyntaxError",
       "evalue": "invalid syntax (<ipython-input-19-2c08d50b5141>, line 1)",
       "output_type": "pyerr",
       "traceback": [
        "\u001b[0;36m  File \u001b[0;32m\"<ipython-input-19-2c08d50b5141>\"\u001b[0;36m, line \u001b[0;32m1\u001b[0m\n\u001b[0;31m    print (1 || 0)\u001b[0m\n\u001b[0m              ^\u001b[0m\n\u001b[0;31mSyntaxError\u001b[0m\u001b[0;31m:\u001b[0m invalid syntax\n"
       ]
      }
     ],
     "prompt_number": 19
    },
    {
     "cell_type": "code",
     "collapsed": false,
     "input": [
      "print (1 or 0)"
     ],
     "language": "python",
     "metadata": {},
     "outputs": [
      {
       "output_type": "stream",
       "stream": "stdout",
       "text": [
        "1\n"
       ]
      }
     ],
     "prompt_number": 20
    },
    {
     "cell_type": "code",
     "collapsed": false,
     "input": [
      "print !1"
     ],
     "language": "python",
     "metadata": {},
     "outputs": [
      {
       "ename": "SyntaxError",
       "evalue": "invalid syntax (<ipython-input-21-ebb113e83abb>, line 1)",
       "output_type": "pyerr",
       "traceback": [
        "\u001b[0;36m  File \u001b[0;32m\"<ipython-input-21-ebb113e83abb>\"\u001b[0;36m, line \u001b[0;32m1\u001b[0m\n\u001b[0;31m    print !1\u001b[0m\n\u001b[0m          ^\u001b[0m\n\u001b[0;31mSyntaxError\u001b[0m\u001b[0;31m:\u001b[0m invalid syntax\n"
       ]
      }
     ],
     "prompt_number": 21
    },
    {
     "cell_type": "code",
     "collapsed": false,
     "input": [
      "print not 1"
     ],
     "language": "python",
     "metadata": {},
     "outputs": [
      {
       "output_type": "stream",
       "stream": "stdout",
       "text": [
        "False\n"
       ]
      }
     ],
     "prompt_number": 22
    },
    {
     "cell_type": "code",
     "collapsed": false,
     "input": [
      "a = [1, 2, 3]\n",
      "print (1 in a)\n",
      "print (4 not in a)"
     ],
     "language": "python",
     "metadata": {},
     "outputs": [
      {
       "output_type": "stream",
       "stream": "stdout",
       "text": [
        "True\n",
        "True\n"
       ]
      }
     ],
     "prompt_number": 24
    },
    {
     "cell_type": "code",
     "collapsed": false,
     "input": [
      "a = 1\n",
      "b = 1\n",
      "c = 2\n",
      "print (a is b)\n",
      "print (a is not b)\n",
      "print (a is c)\n",
      "print id(a), id(b), id(c)"
     ],
     "language": "python",
     "metadata": {},
     "outputs": [
      {
       "output_type": "stream",
       "stream": "stdout",
       "text": [
        "True\n",
        "False\n",
        "False\n",
        "26063256 26063256 26063232\n"
       ]
      }
     ],
     "prompt_number": 10
    },
    {
     "cell_type": "code",
     "collapsed": false,
     "input": [
      "l = [1,2,3]\n",
      "n = [1,2,3]\n",
      "print (l is n) #check reference\n",
      "print id(l), id(n)\n",
      "print l == n #check value"
     ],
     "language": "python",
     "metadata": {},
     "outputs": [
      {
       "output_type": "stream",
       "stream": "stdout",
       "text": [
        "False\n",
        "139752941215544 139752941301200\n",
        "True\n"
       ]
      }
     ],
     "prompt_number": 14
    },
    {
     "cell_type": "code",
     "collapsed": false,
     "input": [
      "name = \"son\"\n",
      "newname = \"son\"\n",
      "print id(name), id(newname)"
     ],
     "language": "python",
     "metadata": {},
     "outputs": [
      {
       "output_type": "stream",
       "stream": "stdout",
       "text": [
        "139752941123624 139752941123624\n"
       ]
      }
     ],
     "prompt_number": 13
    },
    {
     "cell_type": "markdown",
     "metadata": {},
     "source": [
      "## [Decision Making](https://www.tutorialspoint.com/python/python_decision_making.htm)\n",
      "\n",
      "Ng\u00f4n ng\u1eef l\u1eadp tr\u00ecnh Python coi c\u00e1c gi\u00e1 tr\u1ecb kh\u00e1c null v\u00e0 kh\u00e1c 0 l\u00e0 true, v\u00e0 coi c\u00e1c gi\u00e1 tr\u1ecb l\u00e0 null ho\u1eb7c 0 l\u00e0 false."
     ]
    },
    {
     "cell_type": "code",
     "collapsed": false,
     "input": [
      "# if expression:\n",
      "#    statement(s)\n",
      "var1 = 100\n",
      "if var1:\n",
      "   print \"1 - Got a true expression value\"\n",
      "   print var1\n",
      "else:\n",
      "   print \"1 - Got a false expression value\"\n",
      "   print var1\n",
      "\n",
      "var2 = 0\n",
      "if var2:\n",
      "   print \"2 - Got a true expression value\"\n",
      "   print var2\n",
      "else:\n",
      "   print \"2 - Got a false expression value\"\n",
      "   print var2\n",
      "\n",
      "print \"Good bye!\""
     ],
     "language": "python",
     "metadata": {},
     "outputs": [
      {
       "output_type": "stream",
       "stream": "stdout",
       "text": [
        "1 - Got a true expression value\n",
        "100\n",
        "2 - Got a false expression value\n",
        "0\n",
        "Good bye!\n"
       ]
      }
     ],
     "prompt_number": 27
    },
    {
     "cell_type": "markdown",
     "metadata": {},
     "source": [
      "**The elif Statement**"
     ]
    },
    {
     "cell_type": "code",
     "collapsed": false,
     "input": [
      "# if expression1:\n",
      "#    statement(s)\n",
      "# elif expression2:\n",
      "#    statement(s)\n",
      "# elif expression3:\n",
      "#    statement(s)\n",
      "# else:\n",
      "#    statement(s)\n",
      "var = 100\n",
      "if var == 200:\n",
      "   print \"1 - Got a true expression value\"\n",
      "   print var\n",
      "elif var == 150:\n",
      "   print \"2 - Got a true expression value\"\n",
      "   print var\n",
      "elif var == 100:\n",
      "   print \"3 - Got a true expression value\"\n",
      "   print var\n",
      "else:\n",
      "   print \"4 - Got a false expression value\"\n",
      "   print var\n",
      "\n",
      "print \"Good bye!\""
     ],
     "language": "python",
     "metadata": {},
     "outputs": [
      {
       "output_type": "stream",
       "stream": "stdout",
       "text": [
        "3 - Got a true expression value\n",
        "100\n",
        "Good bye!\n"
       ]
      }
     ],
     "prompt_number": 29
    },
    {
     "cell_type": "markdown",
     "metadata": {},
     "source": [
      "**Python nested IF statements**"
     ]
    },
    {
     "cell_type": "code",
     "collapsed": false,
     "input": [
      "# if expression1:\n",
      "#    statement(s)\n",
      "#    if expression2:\n",
      "#       statement(s)\n",
      "#    elif expression3:\n",
      "#       statement(s)\n",
      "#    else:\n",
      "#       statement(s)\n",
      "# elif expression4:\n",
      "#    statement(s)\n",
      "# else:\n",
      "#    statement(s)"
     ],
     "language": "python",
     "metadata": {},
     "outputs": [],
     "prompt_number": 30
    },
    {
     "cell_type": "markdown",
     "metadata": {},
     "source": [
      "## [Loops](https://www.tutorialspoint.com/python/python_loops.htm)"
     ]
    },
    {
     "cell_type": "markdown",
     "metadata": {},
     "source": [
      "** For loop **"
     ]
    },
    {
     "cell_type": "code",
     "collapsed": false,
     "input": [
      "# for iterating_var in sequence:\n",
      "#    statements(s)\n",
      "for letter in \"MaSSP\":\n",
      "    print(letter)\n",
      "for i in range(1,1000000000,1):    \n",
      "    print(i)\n",
      "    if (i==3):\n",
      "        break"
     ],
     "language": "python",
     "metadata": {},
     "outputs": []
    },
    {
     "cell_type": "markdown",
     "metadata": {},
     "source": [
      "** While loop **"
     ]
    },
    {
     "cell_type": "code",
     "collapsed": false,
     "input": [
      "# while expression:\n",
      "#    statement(s)\n",
      "count = 0\n",
      "while (count < 9):\n",
      "   print 'The count is:', count\n",
      "#    count = count + 1\n",
      "   count+=1\n",
      "\n",
      "print \"Good bye!\""
     ],
     "language": "python",
     "metadata": {},
     "outputs": [
      {
       "output_type": "stream",
       "stream": "stdout",
       "text": [
        "The count is: 0\n",
        "The count is: 1\n",
        "The count is: 2\n",
        "The count is: 3\n",
        "The count is: 4\n",
        "The count is: 5\n",
        "The count is: 6\n",
        "The count is: 7\n",
        "The count is: 8\n",
        "Good bye!\n"
       ]
      }
     ],
     "prompt_number": 28
    },
    {
     "cell_type": "markdown",
     "metadata": {},
     "source": [
      "## [Python Numbers](https://www.tutorialspoint.com/python/python_numbers.htm)\n",
      "\n",
      "Python h\u1ed7 tr\u1ee3 4 ki\u1ec3u s\u1ed1 c\u01a1 b\u1ea3n:\n",
      "\n",
      "- Ki\u1ec3u int: ki\u1ec3u s\u1ed1 nguy\u00ean kh\u00f4ng c\u00f3 d\u1ea5u th\u1eadp ph\u00e2n.\n",
      "- Ki\u1ec3u long: l\u00e0 c\u00e1c s\u1ed1 nguy\u00ean kh\u00f4ng gi\u1edbi h\u1ea1n k\u00edch c\u1ee1, \u0111\u01b0\u1ee3c theo sau b\u1edfi m\u1ed9t ch\u1eef l ho\u1eb7c ch\u1eef L.\n",
      "- Ki\u1ec3u float: s\u1ed1 th\u1ef1c v\u1edbi d\u1ea5u th\u1eadp ph\u00e2n. Ki\u1ec3u n\u00e0y c\u0169ng c\u00f3 th\u1ec3 \u0111\u01b0\u1ee3c vi\u1ebft \u1edf d\u1ea1ng s\u1ed1 m\u0169 c\u1ee7a 10 v\u1edbi E ho\u1eb7c e nh\u01b0 (2.5e2 = 2.5 x 102 = 250).\n",
      "- Ki\u1ec3u s\u1ed1 ph\u1ee9c: l\u00e0 trong d\u1ea1ng a + bJ, v\u1edbi a v\u00e0 b l\u00e0 s\u1ed1 th\u1ef1c v\u00e0 J (ho\u1eb7c j) bi\u1ec3u di\u1ec5n c\u0103n b\u1eadc hai c\u1ee7a -1. Ph\u1ea7n th\u1ef1c l\u00e0 a v\u00e0 ph\u1ea7n \u1ea3o l\u00e0 b. N\u00f3i chung, s\u1ed1 ph\u1ee9c kh\u00f4ng \u0111\u01b0\u1ee3c s\u1eed d\u1ee5ng nhi\u1ec1u trong l\u1eadp tr\u00ecnh Python."
     ]
    },
    {
     "cell_type": "markdown",
     "metadata": {},
     "source": [
      "** Number Type Conversion **\n",
      "\n",
      "\u0110\u1ec3 chuy\u1ec3n \u0111\u1ed5i s\u1ed1 x th\u00e0nh s\u1ed1 thu\u1ea7n nguy\u00ean: int(x).\n",
      "\n",
      "\u0110\u1ec3 chuy\u1ec3n \u0111\u1ed5i s\u1ed1 x th\u00e0nh s\u1ed1 long: long(x).\n",
      "\n",
      "\u0110\u1ec3 chuy\u1ec3n \u0111\u1ed5i s\u1ed1 x th\u00e0nh s\u1ed1 th\u1ef1c: float(x).\n",
      "\n",
      "\u0110\u1ec3 chuy\u1ec3n \u0111\u1ed5i s\u1ed1 x th\u00e0nh s\u1ed1 ph\u1ee9c v\u1edbi ph\u1ea7n th\u1ef1c l\u00e0 x v\u00e0 ph\u1ea7n \u1ea3o l\u00e0 0: complex(x).\n",
      "\n",
      "\u0110\u1ec3 chuy\u1ec3n \u0111\u1ed5i s\u1ed1 x v\u00e0 y th\u00e0nh s\u1ed1 ph\u1ee9c v\u1edbi ph\u1ea7n th\u1ef1c l\u00e0 x v\u00e0 ph\u1ea7n \u1ea3o l\u00e0 y: complex(x, y)."
     ]
    },
    {
     "cell_type": "markdown",
     "metadata": {},
     "source": [
      "** Mathematical Functions **\n",
      "\n",
      "Python h\u1ed7 tr\u1ee3 nhi\u1ec1u h\u00e0m to\u00e1n [h\u00e0m to\u00e1n h\u1ecdc](https://www.tutorialspoint.com/python/python_numbers.htm) nh\u01b0 pow, sqrt, abs, log, round, ... \n"
     ]
    },
    {
     "cell_type": "markdown",
     "metadata": {},
     "source": [
      "## [Python String](https://www.tutorialspoint.com/python/python_strings.htm)\n",
      "\n",
      "String l\u00e0 m\u1ed9t trong c\u00e1c ki\u1ec3u ph\u1ed5 bi\u1ebfn nh\u1ea5t trong Python. String trong Python l\u00e0 immutable. \n"
     ]
    },
    {
     "cell_type": "markdown",
     "metadata": {},
     "source": [
      "** Accessing Values in Strings **\n"
     ]
    },
    {
     "cell_type": "code",
     "collapsed": false,
     "input": [
      "title = \"MaSSP is fun\"\n",
      "print title[0]\n",
      "print title[3:-1]\n",
      "print title[3:-0]\n",
      "print title[:5]\n",
      "print title[3:]\n",
      "print title[:]\n",
      "for i in range(len(title)):\n",
      "    print title[i],"
     ],
     "language": "python",
     "metadata": {},
     "outputs": [
      {
       "output_type": "stream",
       "stream": "stdout",
       "text": [
        "M\n",
        "SP is fu\n",
        "\n",
        "MaSSP\n",
        "SP is fun\n",
        "MaSSP is fun\n",
        "M a S S P   i s   f u n\n"
       ]
      }
     ],
     "prompt_number": 5
    },
    {
     "cell_type": "markdown",
     "metadata": {},
     "source": [
      "** String Formatting Operator **\n",
      "\n",
      "M\u1ed9t trong nh\u1eefng \u0111\u1eb7c \u0111i\u1ec3m hay nh\u1ea5t trong Python l\u00e0 to\u00e1n t\u1eed \u0111\u1ecbnh d\u1ea1ng chu\u1ed7i %. To\u00e1n t\u1eed n\u00e0y l\u00e0 duy nh\u1ea5t cho c\u00e1c String v\u00e0 \u0111\u01b0\u1ee3c s\u1eed d\u1ee5ng v\u1edbi h\u00e0m print(). V\u00ed d\u1ee5:"
     ]
    },
    {
     "cell_type": "code",
     "collapsed": false,
     "input": [
      "print(\"My name is %s and weight is %d kg!\" % ('Long', 52) )\n",
      "# %c\tcharacter\n",
      "# %s\tstring conversion via str() prior to formatting\n",
      "# %i\tsigned decimal integer\n",
      "# %d\tsigned decimal integer\n",
      "# %u\tunsigned decimal integer\n",
      "# %o\toctal integer\n",
      "# %x\thexadecimal integer (lowercase letters)\n",
      "# %X\thexadecimal integer (UPPERcase letters)\n",
      "# %e\texponential notation (with lowercase 'e')\n",
      "# %E\texponential notation (with UPPERcase 'E')\n",
      "# %f\tfloating point real number\n",
      "# %g\tthe shorter of %f and %e\n",
      "# %G\tthe shorter of %f and %E"
     ],
     "language": "python",
     "metadata": {},
     "outputs": [
      {
       "output_type": "stream",
       "stream": "stdout",
       "text": [
        "My name is Long and weight is 52 kg!\n"
       ]
      }
     ],
     "prompt_number": 6
    },
    {
     "cell_type": "markdown",
     "metadata": {},
     "source": [
      "Python c\u00f2n h\u1ed7 tr\u1ee3 nh\u1eefng to\u00e1n t\u1eed c\u01a1 b\u1ea3n v\u1edbi string nh\u01b0:\n"
     ]
    },
    {
     "cell_type": "code",
     "collapsed": false,
     "input": [
      "laugh = \"ha\"\n",
      "cry  = \"hu\"\n",
      "fullLaugh = \"hahaha\"\n",
      "print(laugh*3 + \" \" + cry*3)\n",
      "print(laugh in fullLaugh)\n",
      "print(cry in fullLaugh)\n"
     ],
     "language": "python",
     "metadata": {},
     "outputs": [
      {
       "output_type": "stream",
       "stream": "stdout",
       "text": [
        "hahaha huhuhu\n",
        "True\n",
        "False\n"
       ]
      }
     ],
     "prompt_number": 53
    },
    {
     "cell_type": "code",
     "collapsed": false,
     "input": [
      "name = \"dat\"\n",
      "print(name + 69)"
     ],
     "language": "python",
     "metadata": {},
     "outputs": [
      {
       "ename": "TypeError",
       "evalue": "cannot concatenate 'str' and 'int' objects",
       "output_type": "pyerr",
       "traceback": [
        "\u001b[0;31m---------------------------------------------------------------------------\u001b[0m\n\u001b[0;31mTypeError\u001b[0m                                 Traceback (most recent call last)",
        "\u001b[0;32m<ipython-input-51-42933d78f948>\u001b[0m in \u001b[0;36m<module>\u001b[0;34m()\u001b[0m\n\u001b[1;32m      1\u001b[0m \u001b[0mname\u001b[0m \u001b[0;34m=\u001b[0m \u001b[0;34m\"dat\"\u001b[0m\u001b[0;34m\u001b[0m\u001b[0m\n\u001b[0;32m----> 2\u001b[0;31m \u001b[0;32mprint\u001b[0m\u001b[0;34m(\u001b[0m\u001b[0mname\u001b[0m \u001b[0;34m+\u001b[0m \u001b[0;36m69\u001b[0m\u001b[0;34m)\u001b[0m\u001b[0;34m\u001b[0m\u001b[0m\n\u001b[0m",
        "\u001b[0;31mTypeError\u001b[0m: cannot concatenate 'str' and 'int' objects"
       ]
      }
     ],
     "prompt_number": 51
    },
    {
     "cell_type": "markdown",
     "metadata": {},
     "source": [
      "**Built-in String Methods**\n",
      "\n",
      "Sau \u0111\u00e2y l\u00e0 m\u1ed9t s\u1ed1 method c\u01a1 b\u1ea3n hay d\u00f9ng:\n",
      "- isdecimal() Returns true if a unicode string contains only decimal characters and false otherwise.\n",
      "\n",
      "- isalnum() Returns true if string has at least 1 character and all characters are alphanumeric and false otherwise.\n",
      "\n",
      "- isalpha() Returns true if string has at least 1 character and all characters are alphabetic and false otherwise.\n",
      "\t\n",
      "- isdigit() Returns true if string contains only digits and false otherwise.\n",
      "\t\n",
      "- islower() Returns true if string has at least 1 cased character and all cased characters are in lowercase and false otherwise.\n",
      "\t\n",
      "- isnumeric() Returns true if a unicode string contains only numeric characters and false otherwise.\n",
      "\n",
      "- isupper() Returns true if string has at least one cased character and all cased characters are in uppercase and false otherwise.\n",
      "\n",
      "- join(seq) Merges (concatenates) the string representations of elements in sequence seq into a string, with separator string.\n",
      "- find(str, beg=0 end=len(string)) Determine if str occurs in string or in a substring of string if starting index beg and ending index end are given returns index if found and -1 otherwise.\n",
      "\n",
      "- len(string) Returns the length of the string\n",
      "\n",
      "- lower() Converts all uppercase letters in string to lowercase.\n",
      "\n",
      "- upper() Converts lowercase letters in string to uppercase.\n",
      "- swapcase() Inverts case for all letters in string.\n",
      "- split(str=\"\", num=string.count(str)) Splits string according to delimiter str (space if not provided) and returns list of substrings; split into at most num substrings if given."
     ]
    },
    {
     "cell_type": "code",
     "collapsed": false,
     "input": [
      "name = \"Long\"\n",
      "newName = \"|\".join(name)\n",
      "print(newName)\n",
      "print(newName.split('|'))"
     ],
     "language": "python",
     "metadata": {},
     "outputs": [
      {
       "output_type": "stream",
       "stream": "stdout",
       "text": [
        "L|o|n|g\n",
        "['L', 'o', 'n', 'g']\n"
       ]
      }
     ],
     "prompt_number": 8
    },
    {
     "cell_type": "markdown",
     "metadata": {
      "collapsed": true,
      "deletable": true,
      "editable": true
     },
     "source": [
      "## [List](https://www.tutorialspoint.com/python/python_lists.htm)\n",
      "\n",
      "- gi\u1ed1ng nh\u01b0 array trong c++\n",
      "- c\u00e1c ph\u1ea7n t\u1eed kh\u00f4ng nh\u1ea5t thi\u1ebft ph\u1ea3i c\u00f9ng lo\u1ea1i\n",
      "- list \u0111\u00e1nh s\u1ed1 t\u1eeb 0"
     ]
    },
    {
     "cell_type": "code",
     "collapsed": true,
     "input": [
      "list1 = ['physics', 'chemistry', 1997, 2000]\n",
      "list2 = [0, 1, 2, 3, 4]\n",
      "list3 = [\"a\", \"b\", \"c\", \"d\"]"
     ],
     "language": "python",
     "metadata": {},
     "outputs": [],
     "prompt_number": 1
    },
    {
     "cell_type": "markdown",
     "metadata": {},
     "source": [
      "** Truy c\u1eadp: **\n"
     ]
    },
    {
     "cell_type": "code",
     "collapsed": false,
     "input": [
      "print(list1[-1])\n",
      "print(list2[1:4])\n",
      "print(list2[1:-1])"
     ],
     "language": "python",
     "metadata": {},
     "outputs": [
      {
       "output_type": "stream",
       "stream": "stdout",
       "text": [
        "2000\n",
        "[1, 2, 3]\n",
        "[1, 2, 3]\n"
       ]
      }
     ],
     "prompt_number": 2
    },
    {
     "cell_type": "markdown",
     "metadata": {},
     "source": [
      "** Th\u00eam v\u00e0 x\u00f3a ph\u1ea7n t\u1eed **"
     ]
    },
    {
     "cell_type": "code",
     "collapsed": false,
     "input": [
      "list1[3] = 'computer science'\n",
      "list1.append(1997) #th\u00eam 1997 v\u00e0o cu\u1ed1i list\n",
      "print(list1)"
     ],
     "language": "python",
     "metadata": {
      "scrolled": true
     },
     "outputs": [
      {
       "output_type": "stream",
       "stream": "stdout",
       "text": [
        "['physics', 'chemistry', 1997, 'computer science', 1997]\n"
       ]
      }
     ],
     "prompt_number": 3
    },
    {
     "cell_type": "code",
     "collapsed": false,
     "input": [
      "del list1[0]\n",
      "list1.remove(1997) #remove object 1997 \u0111\u1ea7u ti\u00ean\n",
      "print(list1)"
     ],
     "language": "python",
     "metadata": {},
     "outputs": [
      {
       "output_type": "stream",
       "stream": "stdout",
       "text": [
        "['chemistry', 'computer science', 1997]\n"
       ]
      }
     ],
     "prompt_number": 4
    },
    {
     "cell_type": "markdown",
     "metadata": {},
     "source": [
      "** C\u00e1c thao t\u00e1c c\u01a1 b\u1ea3n kh\u00e1c: **\n"
     ]
    },
    {
     "cell_type": "code",
     "collapsed": false,
     "input": [
      "print(len([1, 2, 3]))\n",
      "print([1, 2, 3] + [4, 5, 6])\n",
      "print(['Hi!'] * 4)\n",
      "print(3 in [1, 2, 3])\n",
      "for x in [1, 2, 3]: print(x)"
     ],
     "language": "python",
     "metadata": {
      "scrolled": true
     },
     "outputs": [
      {
       "output_type": "stream",
       "stream": "stdout",
       "text": [
        "3\n",
        "[1, 2, 3, 4, 5, 6]\n",
        "['Hi!', 'Hi!', 'Hi!', 'Hi!']\n",
        "True\n",
        "1\n",
        "2\n",
        "3\n"
       ]
      }
     ],
     "prompt_number": 5
    },
    {
     "cell_type": "markdown",
     "metadata": {},
     "source": [
      "** Comprehension for loop**\n",
      "\n",
      "C\u00f3 th\u1ec3 nh\u00e9t for loop v\u00e0o th\u00e2n c\u1ee7a m\u1ed9t c\u00e2u l\u1ec7nh \u0111\u1ec3 s\u1eed d\u1ee5ng\n"
     ]
    },
    {
     "cell_type": "code",
     "collapsed": false,
     "input": [
      "print [x for x in range(5)]\n",
      "print [ (x, y) for x in range(3) for y in range(4)]\n",
      "print [x+y for x in range(5) if x%3 ==0 for y in range(3) if (x + y) % 2 == 0 if (x==y)]"
     ],
     "language": "python",
     "metadata": {},
     "outputs": [
      {
       "output_type": "stream",
       "stream": "stdout",
       "text": [
        "[0, 1, 2, 3, 4]\n",
        "[(0, 0), (0, 1), (0, 2), (0, 3), (1, 0), (1, 1), (1, 2), (1, 3), (2, 0), (2, 1), (2, 2), (2, 3)]\n",
        "[0]\n"
       ]
      }
     ],
     "prompt_number": 11
    },
    {
     "cell_type": "markdown",
     "metadata": {},
     "source": [
      "---\n",
      "## [Tuples](https://www.tutorialspoint.com/python/python_tuples.htm)\n",
      "\n",
      "- gi\u1ed1ng h\u1ec7t v\u1edbi list, ch\u1ec9 kh\u00e1c \u1edf ch\u1ed7 c\u00e1c ph\u1ea7n t\u1eed l\u00e0 b\u1ea5t bi\u1ebfn do \u0111\u00f3 kh\u00f4ng c\u00f3 thao t\u00e1c th\u00eam v\u00e0 x\u00f3a ph\u1ea7n t\u1eed\n",
      "- syntax kh\u00e1c v\u1edbi list l\u00e0 tuple d\u00f9ng ngo\u1eb7c () thay v\u00ec ngo\u1eb7c [] ho\u1eb7c kh\u00f4ng c\u00f3 ngo\u1eb7c (xem v\u00ed d\u1ee5 \u0111\u1ec3 hi\u1ec3u r\u00f5 h\u01a1n)\n",
      "- khi tuple ch\u1ec9 c\u00f3 1 ph\u1ea7n t\u1eed th\u00ec ph\u1ea3i c\u00f3 d\u1ea5u ph\u1ea9y (xem v\u00ed d\u1ee5 \u0111\u1ec3 r\u00f5 h\u01a1n)"
     ]
    },
    {
     "cell_type": "code",
     "collapsed": true,
     "input": [
      "tup1 = ('physics', 'chemistry', 1997, 2000)\n",
      "tup2 = (1, 2, 3, 4, 5 )\n",
      "tup3 = \"a\", \"b\", \"c\", \"d\"\n",
      "tup4 = (1,)"
     ],
     "language": "python",
     "metadata": {},
     "outputs": [],
     "prompt_number": 6
    },
    {
     "cell_type": "markdown",
     "metadata": {},
     "source": [
      "**Truy c\u1eadp:** gi\u1ed1ng h\u1ec7t list"
     ]
    },
    {
     "cell_type": "code",
     "collapsed": false,
     "input": [
      "L = ('MASSP', '2017', 'Summer!')\n",
      "print(L[2])\n",
      "print(L[-2])\n",
      "print(L[1:])"
     ],
     "language": "python",
     "metadata": {
      "scrolled": true
     },
     "outputs": [
      {
       "output_type": "stream",
       "stream": "stdout",
       "text": [
        "Summer!\n",
        "2017\n",
        "('2017', 'Summer!')\n"
       ]
      }
     ],
     "prompt_number": 7
    },
    {
     "cell_type": "markdown",
     "metadata": {},
     "source": [
      "** C\u00e1c thao t\u00e1c c\u01a1 b\u1ea3n kh\u00e1c: **\n"
     ]
    },
    {
     "cell_type": "code",
     "collapsed": false,
     "input": [
      "print(len((1, 2, 3)))\n",
      "print((1, 2, 3) + (4, 5, 6))\n",
      "print(('Hi!',) * 4)\n",
      "print(3 in (1, 2, 3))\n",
      "for x in (1, 2, 3): \n",
      "    print(x)"
     ],
     "language": "python",
     "metadata": {},
     "outputs": [
      {
       "output_type": "stream",
       "stream": "stdout",
       "text": [
        "3\n",
        "(1, 2, 3, 4, 5, 6)\n",
        "('Hi!', 'Hi!', 'Hi!', 'Hi!')\n",
        "True\n",
        "1\n",
        "2\n",
        "3\n"
       ]
      }
     ],
     "prompt_number": 8
    },
    {
     "cell_type": "markdown",
     "metadata": {},
     "source": [
      "---\n",
      "## [Dictionary](https://www.tutorialspoint.com/python/python_dictionary.htm)\n",
      "- gi\u1ed1ng v\u1edbi map c\u1ee7a c++ v\u1edbi syntax l\u00e0 {key: value, ...}\n",
      "- key kh\u00f4ng \u0111c ph\u00e9p tr\u00f9ng, c\u00e1c key trong 1 dictionary ph\u1ea3i c\u00f9ng lo\u1ea1i (strings, numbers, tuples, ...) "
     ]
    },
    {
     "cell_type": "code",
     "collapsed": false,
     "input": [
      "dict = {'Name': 'Zara', 'Age': 7, 'Class': 'First'}"
     ],
     "language": "python",
     "metadata": {},
     "outputs": [],
     "prompt_number": 9
    },
    {
     "cell_type": "markdown",
     "metadata": {},
     "source": [
      "** Truy c\u1eadp: **\n"
     ]
    },
    {
     "cell_type": "code",
     "collapsed": false,
     "input": [
      "print (\"dict['Name']: \", dict['Name'])\n",
      "print (\"dict['Age']: \", dict['Age'])"
     ],
     "language": "python",
     "metadata": {},
     "outputs": [
      {
       "output_type": "stream",
       "stream": "stdout",
       "text": [
        "dict['Name']:  Zara\n",
        "dict['Age']:  7\n"
       ]
      }
     ],
     "prompt_number": 10
    },
    {
     "cell_type": "markdown",
     "metadata": {},
     "source": [
      "N\u1ebfu key kh\u00f4ng t\u1ed3n t\u1ea1i th\u00ec python s\u1ebd hi\u1ec7n traceback l\u1ed7i (KeyError)"
     ]
    },
    {
     "cell_type": "code",
     "collapsed": false,
     "input": [
      "print (\"dict['Alice']: \", dict['Alice'])"
     ],
     "language": "python",
     "metadata": {},
     "outputs": [
      {
       "ename": "KeyError",
       "evalue": "'Alice'",
       "output_type": "pyerr",
       "traceback": [
        "\u001b[0;31m---------------------------------------------------------------------------\u001b[0m",
        "\u001b[0;31mKeyError\u001b[0m                                  Traceback (most recent call last)",
        "\u001b[0;32m<ipython-input-11-004567b210e2>\u001b[0m in \u001b[0;36m<module>\u001b[0;34m()\u001b[0m\n\u001b[0;32m----> 1\u001b[0;31m \u001b[0mprint\u001b[0m \u001b[0;34m(\u001b[0m\u001b[0;34m\"dict['Alice']: \"\u001b[0m\u001b[0;34m,\u001b[0m \u001b[0mdict\u001b[0m\u001b[0;34m[\u001b[0m\u001b[0;34m'Alice'\u001b[0m\u001b[0;34m]\u001b[0m\u001b[0;34m)\u001b[0m\u001b[0;34m\u001b[0m\u001b[0m\n\u001b[0m",
        "\u001b[0;31mKeyError\u001b[0m: 'Alice'"
       ]
      }
     ],
     "prompt_number": 11
    },
    {
     "cell_type": "markdown",
     "metadata": {},
     "source": [
      "**Th\u00eam v\u00e0 x\u00f3a key, value:**"
     ]
    },
    {
     "cell_type": "code",
     "collapsed": false,
     "input": [
      "dict['Age'] = 8; # c\u1eadp nh\u1eadp key c\u00f3 s\u1eb5n\n",
      "dict['School'] = \"DPS School\"; # Th\u00eam key m\u1edbi\n",
      "\n",
      "print (\"dict['Age']: \", dict['Age'])\n",
      "print (\"dict['School']: \", dict['School'])"
     ],
     "language": "python",
     "metadata": {},
     "outputs": [
      {
       "output_type": "stream",
       "stream": "stdout",
       "text": [
        "dict['Age']:  8\n",
        "dict['School']:  DPS School\n"
       ]
      }
     ],
     "prompt_number": 12
    },
    {
     "cell_type": "code",
     "collapsed": false,
     "input": [
      "del dict['Name'] # x\u00f3a key 'Name'\n",
      "print (dict)\n",
      "dict.clear()     # x\u00f3a t\u1ea5t c\u1ea3 c\u00e1c key\n",
      "print (dict)\n",
      "del dict         # x\u00f3a dict\n",
      "print (dict)"
     ],
     "language": "python",
     "metadata": {},
     "outputs": [
      {
       "output_type": "stream",
       "stream": "stdout",
       "text": [
        "{'Age': 8, 'Class': 'First', 'School': 'DPS School'}\n",
        "{}\n",
        "<class 'dict'>\n"
       ]
      }
     ],
     "prompt_number": 13
    },
    {
     "cell_type": "markdown",
     "metadata": {},
     "source": [
      "Trong tr\u01b0\u1eddng h\u1ee3p tr\u00f9ng key, th\u00ec value c\u1ee7a key s\u1ebd l\u00e0 value cu\u1ed1i c\u00f9ng \u0111\u01b0\u1ee3c g\u00e1n cho key \u0111\u00f3"
     ]
    },
    {
     "cell_type": "code",
     "collapsed": false,
     "input": [
      "dict = {'Name': 'Zara', 'Age': 7, 'Name': 'Manni'}\n",
      "\n",
      "print (\"dict['Name']: \", dict['Name'])"
     ],
     "language": "python",
     "metadata": {},
     "outputs": [
      {
       "output_type": "stream",
       "stream": "stdout",
       "text": [
        "dict['Name']:  Manni\n"
       ]
      }
     ],
     "prompt_number": 14
    },
    {
     "cell_type": "markdown",
     "metadata": {},
     "source": [
      "---\n",
      "## [Function](https://www.tutorialspoint.com/python/python_functions.htm)\n"
     ]
    },
    {
     "cell_type": "markdown",
     "metadata": {},
     "source": [
      "**Syntax:**"
     ]
    },
    {
     "cell_type": "code",
     "collapsed": false,
     "input": [
      "def functionname( parameters ):\n",
      "    \"function_docstring\"\n",
      "    function_suite\n",
      "    return [expression]"
     ],
     "language": "python",
     "metadata": {},
     "outputs": [],
     "prompt_number": 15
    },
    {
     "cell_type": "markdown",
     "metadata": {},
     "source": [
      "- Tham s\u1ed1 \u0111\u01b0\u1ee3c truy\u1ec1n v\u00e0o d\u1ea1ng tham chi\u1ebfu (reference) n\u00ean m\u1ecdi t\u00e1c \u0111\u1ed9ng l\u00ean bi\u1ebfn trong function s\u1ebd \u1ea3nh h\u01b0\u1edbng \u0111\u1ebfn \u0111\u1ed1i t\u01b0\u1ee3ng \u0111\u01b0\u1ee3c tham chi\u1ebfu\n",
      "- Bi\u1ebfn trong h\u00e0m l\u00e0 local, ngo\u00e0i h\u00e0m global"
     ]
    },
    {
     "cell_type": "code",
     "collapsed": false,
     "input": [
      "total = 0; # Bi\u1ebfn to\u00e0n c\u1ee5c\n",
      "def sum( arg1, arg2 ):\n",
      "    # Add both the parameters and return them.\"\n",
      "    total = arg1 + arg2; # Bi\u1ebfn c\u1ee5c b\u1ed9\n",
      "    print (\"Inside the function local total : \", total)\n",
      "    return total;\n",
      "\n",
      "sum( 10, 20 );\n",
      "print (\"Outside the function global total : \", total) "
     ],
     "language": "python",
     "metadata": {},
     "outputs": [
      {
       "output_type": "stream",
       "stream": "stdout",
       "text": [
        "Inside the function local total :  30\n",
        "Outside the function global total :  0\n"
       ]
      }
     ],
     "prompt_number": 16
    },
    {
     "cell_type": "code",
     "collapsed": false,
     "input": [
      "def changeme( mylist ):\n",
      "    \"This changes a passed list into this function\"\n",
      "    mylist.append([1,2,3,4]);\n",
      "    print (\"Values inside the function: \", mylist)\n",
      "    return\n",
      "\n",
      "mylist = [10,20,30];\n",
      "changeme( mylist );\n",
      "print (\"Values outside the function: \", mylist)"
     ],
     "language": "python",
     "metadata": {},
     "outputs": [
      {
       "output_type": "stream",
       "stream": "stdout",
       "text": [
        "Values inside the function:  [10, 20, 30, [1, 2, 3, 4]]\n",
        "Values outside the function:  [10, 20, 30, [1, 2, 3, 4]]\n"
       ]
      }
     ],
     "prompt_number": 17
    },
    {
     "cell_type": "code",
     "collapsed": false,
     "input": [
      "def changeme( mylist ):\n",
      "    \"This changes a passed list into this function\"\n",
      "    mylist = [1,2,3,4]; # Tham chi\u1ebfu mylist sang \u0111\u1ed1i t\u01b0\u1ee3ng m\u1edbi [1,2,3,4]\n",
      "    print (\"Values inside the function: \", mylist)\n",
      "    return\n",
      "\n",
      "mylist = [10,20,30];\n",
      "changeme( mylist );\n",
      "print (\"Values outside the function: \", mylist)"
     ],
     "language": "python",
     "metadata": {},
     "outputs": [
      {
       "output_type": "stream",
       "stream": "stdout",
       "text": [
        "Values inside the function:  [1, 2, 3, 4]\n",
        "Values outside the function:  [10, 20, 30]\n"
       ]
      }
     ],
     "prompt_number": 18
    },
    {
     "cell_type": "markdown",
     "metadata": {},
     "source": [
      "\u0110\u1ec3 c\u00f3 th\u1ec3 g\u00e1n ```mylist = [1,2,3,4]``` \n",
      "cho ```mylist``` \u1edf ngo\u00e0i function c\u1ea7n khai b\u00e1o ```global``` v\u00e0 s\u1eeda nh\u01b0 sau"
     ]
    },
    {
     "cell_type": "code",
     "collapsed": false,
     "input": [
      "def changeme():\n",
      "    \"This changes a passed list into this function\"\n",
      "    global mylist \n",
      "    mylist = [1,2,3,4]; # G\u00e1n mylist b\u1eb1ng [1,2,3,4]\n",
      "    print (\"Values inside the function: \", mylist)\n",
      "    return\n",
      "\n",
      "mylist = [10,20,30];\n",
      "changeme();\n",
      "print (\"Values outside the function: \", mylist)"
     ],
     "language": "python",
     "metadata": {},
     "outputs": [
      {
       "output_type": "stream",
       "stream": "stdout",
       "text": [
        "Values inside the function:  [1, 2, 3, 4]\n",
        "Values outside the function:  [1, 2, 3, 4]\n"
       ]
      }
     ],
     "prompt_number": 19
    },
    {
     "cell_type": "markdown",
     "metadata": {},
     "source": [
      "**Tham s\u1ed1 c\u1ee7a h\u00e0m:**\n",
      "\n",
      "*Required arguments:* \n",
      "\n",
      "- l\u01b0\u1ee3ng tham s\u1ed1 khi g\u1ecdi ph\u1ea3i b\u1eb1ng v\u1edbi \u0111\u1ecbnh ngh\u0129a h\u00e0m"
     ]
    },
    {
     "cell_type": "code",
     "collapsed": false,
     "input": [
      "def printme(str):\n",
      "    print(str)\n",
      "    return\n",
      "printme('Massp2017')\n",
      "printme() # l\u1ed7i "
     ],
     "language": "python",
     "metadata": {},
     "outputs": [
      {
       "output_type": "stream",
       "stream": "stdout",
       "text": [
        "Massp2017\n"
       ]
      },
      {
       "ename": "TypeError",
       "evalue": "printme() missing 1 required positional argument: 'str'",
       "output_type": "pyerr",
       "traceback": [
        "\u001b[0;31m---------------------------------------------------------------------------\u001b[0m",
        "\u001b[0;31mTypeError\u001b[0m                                 Traceback (most recent call last)",
        "\u001b[0;32m<ipython-input-20-927b5cfb7ae7>\u001b[0m in \u001b[0;36m<module>\u001b[0;34m()\u001b[0m\n\u001b[1;32m      3\u001b[0m     \u001b[0;32mreturn\u001b[0m\u001b[0;34m\u001b[0m\u001b[0m\n\u001b[1;32m      4\u001b[0m \u001b[0mprintme\u001b[0m\u001b[0;34m(\u001b[0m\u001b[0;34m'Massp2017'\u001b[0m\u001b[0;34m)\u001b[0m\u001b[0;34m\u001b[0m\u001b[0m\n\u001b[0;32m----> 5\u001b[0;31m \u001b[0mprintme\u001b[0m\u001b[0;34m(\u001b[0m\u001b[0;34m)\u001b[0m \u001b[0;31m# l\u1ed7i\u001b[0m\u001b[0;34m\u001b[0m\u001b[0m\n\u001b[0m",
        "\u001b[0;31mTypeError\u001b[0m: printme() missing 1 required positional argument: 'str'"
       ]
      }
     ],
     "prompt_number": 20
    },
    {
     "cell_type": "markdown",
     "metadata": {},
     "source": [
      "*Keyword arguments:* \n",
      "\n",
      "- truy\u1ec1n tham s\u1ed1 v\u1edbi t\u00ean tham s\u1ed1\n",
      "- th\u1ee9 t\u1ef1 tham s\u1ed1 kh\u00f4ng quan tr\u1ecdng"
     ]
    },
    {
     "cell_type": "code",
     "collapsed": false,
     "input": [
      "def printme(name, age):\n",
      "    print(name, age)\n",
      "    return\n",
      "printme(age = 18, name = 'Python')"
     ],
     "language": "python",
     "metadata": {},
     "outputs": [
      {
       "output_type": "stream",
       "stream": "stdout",
       "text": [
        "Python 18\n"
       ]
      }
     ],
     "prompt_number": 21
    },
    {
     "cell_type": "markdown",
     "metadata": {},
     "source": [
      "*Default arguments:* \n",
      "\n",
      "- khi tham s\u1ed1 \u0111\u01b0\u1ee3c g\u00e1n gi\u00e1 tr\u1ecb m\u1eb7c \u0111\u1ecbnh \u1edf \u0111\u1ecbnh ngh\u0129a h\u00e0m th\u00ec c\u00f3 th\u1ec3 kh\u00f4ng c\u1ea7n truy\u1ec1n tham s\u1ed1 \u0111\u00f3 v\u00e0o v\u1eabn \u0111\u01b0\u1ee3c"
     ]
    },
    {
     "cell_type": "code",
     "collapsed": false,
     "input": [
      "def printme(name, age = 19):\n",
      "    print(name, age)\n",
      "    return\n",
      "printme('Boo')\n",
      "printme('Boo', 20)"
     ],
     "language": "python",
     "metadata": {},
     "outputs": [
      {
       "output_type": "stream",
       "stream": "stdout",
       "text": [
        "Boo 19\n",
        "Boo 20\n"
       ]
      }
     ],
     "prompt_number": 22
    },
    {
     "cell_type": "markdown",
     "metadata": {},
     "source": [
      "*Variable-length arguments:*\n",
      "\n",
      "- c\u00e1c tham s\u1ed1 b\u1ed5 sung v\u00e0o h\u00e0m s\u1ebd \u0111\u01b0\u1ee3c l\u01b0u l\u1ea1i v\u00e0o m\u1ed9t tuple (nh\u01b0 vartuple d\u01b0\u1edbi \u0111\u00e2y, ch\u00fa \u00fd c\u1ea7n ph\u1ea3i c\u00f3 d\u1ea5u (*) tr\u01b0\u1edbc t\u00ean bi\u1ebfn)"
     ]
    },
    {
     "cell_type": "code",
     "collapsed": false,
     "input": [
      "def printinfo( arg1, *vartuple ):\n",
      "    \"This prints a variable passed arguments\"\n",
      "    print (\"Output is: \")\n",
      "    print (arg1)\n",
      "    print (\"Additional arguments: \")\n",
      "    for var in vartuple:\n",
      "        print (var)\n",
      "    return;\n",
      "\n",
      "printinfo( 10 )\n",
      "printinfo( 70, 'xxx', 50 )"
     ],
     "language": "python",
     "metadata": {},
     "outputs": [
      {
       "output_type": "stream",
       "stream": "stdout",
       "text": [
        "Output is: \n",
        "10\n",
        "Additional arguments: \n",
        "Output is: \n",
        "70\n",
        "Additional arguments: \n",
        "xxx\n",
        "50\n"
       ]
      }
     ],
     "prompt_number": 23
    },
    {
     "cell_type": "markdown",
     "metadata": {},
     "source": [
      "** H\u00e0m \u1ea9n danh (Anonymous function hay lambda function): **"
     ]
    },
    {
     "cell_type": "code",
     "collapsed": false,
     "input": [
      "sum = lambda arg1, arg2: arg1 + arg2;\n",
      "\n",
      "print (\"Value of total : \", sum( 10, 20 ))\n",
      "print (\"Value of total : \", sum( 20, 20 ))"
     ],
     "language": "python",
     "metadata": {},
     "outputs": [
      {
       "output_type": "stream",
       "stream": "stdout",
       "text": [
        "Value of total :  30\n",
        "Value of total :  40\n"
       ]
      }
     ],
     "prompt_number": 24
    },
    {
     "cell_type": "markdown",
     "metadata": {},
     "source": [
      "**L\u1ec7nh return:** c\u00f3 th\u1ec3 return 1 bi\u1ebfn, 1 tuple hay kh\u00f4ng g\u00ec c\u1ea3"
     ]
    },
    {
     "cell_type": "code",
     "collapsed": false,
     "input": [
      "def sum(a,b):\n",
      "    return a+b\n",
      "def sumAndSub(a,b):\n",
      "    return a+b, a-b\n",
      "def doNothing():\n",
      "    return\n",
      "print(sum(1,2))\n",
      "print(sumAndSub(1,2))\n",
      "print(doNothing())"
     ],
     "language": "python",
     "metadata": {},
     "outputs": [
      {
       "output_type": "stream",
       "stream": "stdout",
       "text": [
        "3\n",
        "(3, -1)\n",
        "None\n"
       ]
      }
     ],
     "prompt_number": 25
    },
    {
     "cell_type": "markdown",
     "metadata": {},
     "source": [
      "---\n",
      "## [Modules](https://www.tutorialspoint.com/python/python_modules.htm)\n",
      "\n",
      "C\u00f3 1 file source code hello.py nh\u01b0 sau:\n",
      "```python\n",
      "#hello.py\n",
      "yourname = 'Python'\n",
      "def print_func(name):\n",
      "    print (\"Hello \" + name)\n",
      "    return\n",
      "```\n",
      "T\u1ea1i c\u00f9ng 1 th\u01b0 m\u1ee5c ch\u1ee9a hello.py ta c\u00f3 file main.py\n",
      "```python\n",
      "# main.py\n",
      "import hello\n",
      "\n",
      "hello.print_func(hello.yourname)\n",
      "```\n",
      "V\u00e0 output s\u1ebd l\u00e0\n",
      "```\n",
      "Hello Python\n",
      "```\n",
      "\u1ede tr\u00ean l\u00e0 m\u1ed9t v\u00ed d\u1ee5 v\u1ec1 module v\u00e0 c\u00e1ch import module. hello.py \u1edf tr\u00ean l\u00e0 m\u1ed9t module. M\u1ed9t module c\u00f3 th\u1ec3 \u0111\u1ecbnh ngh\u0129a l\u00e0 1 file code python, trong \u0111\u00f3 c\u00f3 \u0111\u1ecbnh ngh\u0129a function, class v\u00e0 bi\u1ebfn\n",
      "\n",
      "\u0110\u1ec3 import module ch\u00fang ta c\u00f3 th\u1ec3 \u00e1p d\u1ee5ng c\u00e1ch tr\u00ean ho\u1eb7c s\u1eed d\u00f9ng ```from ... import ```\n",
      "```python\n",
      "# main.py\n",
      "from hello import print_function\n",
      "\n",
      "print_func(hello.yourname)\n",
      "```\n",
      "ho\u1eb7c c\u0169ng c\u00f3 th\u1ec3 d\u00f9ng ```from ... import *``` \u0111\u1ec3 import t\u1ea5t c\u00e1c m\u1ecdi th\u1ee9 trong module\n",
      "```python\n",
      "# main.py\n",
      "from hello import *\n",
      "\n",
      "print_func(yourname)\n",
      "```\n",
      "**V\u1ecb tr\u00ed c\u1ee7a module:**\n",
      "\n",
      "Khi import m\u1ed9t module, python s\u1ebd t\u00ecm module theo th\u1ee9 t\u1ef1 sau:\n",
      "\n",
      "- Python s\u1ebd t\u00ecm \u1edf th\u01b0 m\u1ee5c hi\u1ec7n t\u1ea1i\n",
      "- N\u1ebfu kh\u00f4ng t\u00ecm th\u1ea5y, n\u00f3 s\u1ebd t\u00ecm trong shell variable PYTHONPATH\n",
      "- Cu\u1ed1i c\u00f9ng, python s\u1ebd t\u00ecm \u1edf trong defaul path m\u00e0 \u1edf trong UNIX th\u01b0\u1eddng l\u00e0  /usr/local/lib/python/.\n",
      "**Python Packet:**\n",
      "\n",
      "Python packet c\u00f3 th\u1ec3 hi\u1ec3u l\u00e0 m\u1ed9t t\u1eadp h\u1ee3p c\u00e1c module, subpackage, sub-subpacket, ...\n",
      "\n",
      "Gi\u1ea3 s\u1eed ch\u00fang ta c\u00f3 c\u00e1c module Pots, Isdn, G3 trong c\u00f9ng m\u1ed9t folder l\u00e0 Phone. Trong Phone, ta t\u1ea1o th\u00eam file __init__.py nh\u01b0 sau:\n",
      "```python\n",
      "from Pots import Pots\n",
      "from Isdn import Isdn\n",
      "from G3 import G3\n",
      "```\n",
      "\u0110\u1ec3 s\u1eed d\u1ee5ng pakage Phone ta c\u00f3 th\u1ec3 implement nh\u01b0 sau:\n",
      "```python\n",
      "# main.py\n",
      "# Now import your Phone Package.\n",
      "import Phone\n",
      "\n",
      "Phone.Pots()\n",
      "Phone.Isdn()\n",
      "Phone.G3()\n",
      "```\n",
      "\n",
      "---\n",
      "## [Files I/O](https://www.tutorialspoint.com/python/python_files_io.htm)\n",
      "\n",
      "**\u0110\u1ecdc, ghi t\u1eeb b\u00e0n ph\u00edm:**\n",
      "\n",
      "In ra m\u00e0n h\u00ecnh: print(string)\n",
      "\n",
      "Nh\u1eadp t\u1eeb b\u00e0n ph\u00edm: input()"
     ]
    },
    {
     "cell_type": "code",
     "collapsed": false,
     "input": [
      "str = input('Enter your input: ')\n",
      "print(str)"
     ],
     "language": "python",
     "metadata": {},
     "outputs": [
      {
       "output_type": "stream",
       "stream": "stdout",
       "text": [
        "Enter your input: 123321 Massp\n",
        "123321 Massp\n"
       ]
      }
     ],
     "prompt_number": 26
    },
    {
     "cell_type": "code",
     "collapsed": false,
     "input": [],
     "language": "python",
     "metadata": {},
     "outputs": []
    },
    {
     "cell_type": "markdown",
     "metadata": {},
     "source": [
      "**\u0110\u1ecdc, ghi t\u1eeb file:**\n",
      "```python\n",
      "# fileobject = open('filename','mode')\n",
      "fin = open('input.txt', 'r')\n",
      "fou = open('output.txt', 'w')\n",
      "input = fin.read() \n",
      "output = 'Write something!'\n",
      "fou.write(output)\n",
      "fin.close()\n",
      "fou.close()\n",
      "```"
     ]
    }
   ],
   "metadata": {}
  }
 ]
}