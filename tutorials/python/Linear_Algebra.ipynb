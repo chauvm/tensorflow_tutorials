{
 "cells": [
  {
   "cell_type": "markdown",
   "metadata": {
    "slideshow": {
     "slide_type": "slide"
    }
   },
   "source": [
    "# Bài giảng về Đại số tuyến tính\n",
    "## MaSSP 2017, Computer Science\n",
    "__Chuẩn bị: Nguyễn Vương Linh__\n",
    "\n",
    "__Chỉnh sửa: Vũ Minh Châu__"
   ]
  },
  {
   "cell_type": "markdown",
   "metadata": {
    "slideshow": {
     "slide_type": "slide"
    }
   },
   "source": [
    "Bài giảng sau đây giới thiệu một số kiến thức cơ bản về đại số tuyến tính cần thiết để hiểu và thực hiện chương trình <b>Deep Learning</b>.\n",
    "\n",
    "Bài giảng này bỏ qua một số kiến thức quan trọng (ví dụ như vector riêng - eigen vector), và không đi sâu vào phân tích tính chất của các khái niệm."
   ]
  },
  {
   "cell_type": "markdown",
   "metadata": {
    "slideshow": {
     "slide_type": "slide"
    }
   },
   "source": [
    "Đối tượng cơ bản trong đại số tuyến tính là __ma trận__ và __vector__. \n",
    "\n",
    "Ví dụ cơ bản sau đây giới thiệu cách thức tương tác với ma trận trong numpy và được thực hiện với __ma trận 2 chiều__, tuy nhiên các phép toán cơ bản là không thay đổi nếu với số chiều khác."
   ]
  },
  {
   "cell_type": "markdown",
   "metadata": {
    "slideshow": {
     "slide_type": "slide"
    }
   },
   "source": [
    "Bài giảng này sử dụng thư viện <b>numpy</b> trong Python để thực hiện các ví dụ minh hoạ.\n",
    "\n",
    "Numpy là một trong những thư viện mã nguồn mở nổi tiếng nhất của Python và được sử dụng rộng rãi trong nhiều chương trình <b>Machine Learning</b> nói chung và <b>Deep Learning</b> nói riêng.\n",
    "\n",
    "Mục tiêu chính của numpy là tối ưu và đơn giản hoá các phép toán liên quan đến đại số tuyến tính. Trước khi bắt đầu, hãy cài đặt numpy, và bắt đầu chương trình Python (hoặc notebook) bằng lệnh sau:"
   ]
  },
  {
   "cell_type": "code",
   "execution_count": null,
   "metadata": {
    "collapsed": true,
    "slideshow": {
     "slide_type": "fragment"
    }
   },
   "outputs": [],
   "source": [
    "import numpy as np"
   ]
  },
  {
   "cell_type": "markdown",
   "metadata": {
    "slideshow": {
     "slide_type": "notes"
    }
   },
   "source": [
    "Lưu ý: khi bạn tải lại notebook này, bạn phải chạy lại lệnh import nói trên."
   ]
  },
  {
   "cell_type": "markdown",
   "metadata": {
    "slideshow": {
     "slide_type": "slide"
    }
   },
   "source": [
    "# 0. Khởi tạo ma trận và vector\n",
    "Chúng ta bắt đầu với việc khởi tạo một ma trận A và in ra các thông tin cơ bản của A.\n",
    "\n",
    "Ma trận A có kích thước 2 x 5, các phần tử từ 0 đến 9, theo thứ tự tăng dần từ trái qua phải và từ trên xuống.\n",
    "\n",
    "$$ A = \n",
    "    \\begin{bmatrix}\n",
    "        0 & 1 & 2 & 3 & 4 \\\\\n",
    "        5 & 6 & 7 & 8 & 9\n",
    "    \\end{bmatrix}\n",
    "$$"
   ]
  },
  {
   "cell_type": "markdown",
   "metadata": {
    "slideshow": {
     "slide_type": "slide"
    }
   },
   "source": [
    "Để khởi tạo 1 ma trận với các phần tử được biết trước, sử dụng $np.array$ và nhóm các phần tử trong cùng một hàng vào một list, và nhóm các hàng vào thành một list lớn hơn."
   ]
  },
  {
   "cell_type": "code",
   "execution_count": null,
   "metadata": {
    "collapsed": false,
    "scrolled": true,
    "slideshow": {
     "slide_type": "fragment"
    }
   },
   "outputs": [],
   "source": [
    "A = np.array([[0, 1, 2, 3, 4],\n",
    "              [5, 6, 7, 8, 9]])\n",
    "print(A)"
   ]
  },
  {
   "cell_type": "markdown",
   "metadata": {
    "slideshow": {
     "slide_type": "slide"
    }
   },
   "source": [
    "Hãy thử khởi tạo ma trận sau đây:\n",
    "$$ A2 = \n",
    "    \\begin{bmatrix}\n",
    "        3 & 4 \\\\\n",
    "        5 & 6 \\\\\n",
    "        7 & 8\n",
    "    \\end{bmatrix}\n",
    "$$"
   ]
  },
  {
   "cell_type": "code",
   "execution_count": null,
   "metadata": {
    "collapsed": true,
    "slideshow": {
     "slide_type": "fragment"
    }
   },
   "outputs": [],
   "source": [
    "# code\n"
   ]
  },
  {
   "cell_type": "markdown",
   "metadata": {
    "slideshow": {
     "slide_type": "slide"
    }
   },
   "source": [
    "_Lưu ý:_ Luôn luôn phải có $[\\ ]$ để xác định các phần tử trong ma trận.\n",
    "\n",
    "Ví dụ sau đây là <span style=\"color: red\">SAI</span>. Hãy chạy cell này và quan sát lỗi nhận được"
   ]
  },
  {
   "cell_type": "code",
   "execution_count": null,
   "metadata": {
    "collapsed": false,
    "slideshow": {
     "slide_type": "fragment"
    }
   },
   "outputs": [],
   "source": [
    "B1 = np.array(1,2,3,4)"
   ]
  },
  {
   "cell_type": "markdown",
   "metadata": {
    "slideshow": {
     "slide_type": "slide"
    }
   },
   "source": [
    "Quay lại với ma trận $A$ có kích thước 2x5 ban đầu, ta sẽ in các thông tin cơ bản của $A$.\n",
    "\n",
    "Trước hết, $A.shape$ sẽ cho thông tin về kích thước của ma trận."
   ]
  },
  {
   "cell_type": "code",
   "execution_count": null,
   "metadata": {
    "collapsed": false,
    "slideshow": {
     "slide_type": "fragment"
    }
   },
   "outputs": [],
   "source": [
    "\"\"\" A\n",
    "[[ 0  1  2  3  4]\n",
    " [ 5  6  7  8  9]]\n",
    "\"\"\"\n",
    "print(\"Shape: {}\".format(A.shape))      # In thông tin về kích thước của A"
   ]
  },
  {
   "cell_type": "markdown",
   "metadata": {
    "slideshow": {
     "slide_type": "subslide"
    }
   },
   "source": [
    "Kết quả thu được là một $tuple$. Để truy cập thông tin của A theo từng chiều, ta sử dụng chỉ số với $A.shape$."
   ]
  },
  {
   "cell_type": "code",
   "execution_count": null,
   "metadata": {
    "collapsed": false,
    "slideshow": {
     "slide_type": "fragment"
    }
   },
   "outputs": [],
   "source": [
    "\"\"\" A\n",
    "[[ 0  1  2  3  4]\n",
    " [ 5  6  7  8  9]]\n",
    "\"\"\"\n",
    "print(A.shape[0])  \n",
    "print(A.shape[1])"
   ]
  },
  {
   "cell_type": "markdown",
   "metadata": {
    "slideshow": {
     "slide_type": "slide"
    }
   },
   "source": [
    "Ngoài ra, $A.ndim$ sẽ cho biết số chiều của ma trận, và $A.size$ cho biết số phần tử có trong A."
   ]
  },
  {
   "cell_type": "code",
   "execution_count": null,
   "metadata": {
    "collapsed": false,
    "slideshow": {
     "slide_type": "fragment"
    }
   },
   "outputs": [],
   "source": [
    "\"\"\" A\n",
    "[[ 0  1  2  3  4]\n",
    " [ 5  6  7  8  9]]\n",
    "\"\"\"\n",
    "print(\"Dimension: {}\".format(A.ndim))   # In số chiều của A\n",
    "\n",
    "print(\"Size: {}\".format(A.size))        # In số phần tử có trong A"
   ]
  },
  {
   "cell_type": "markdown",
   "metadata": {
    "slideshow": {
     "slide_type": "slide"
    }
   },
   "source": [
    "$np.array$ tự động xác định kiểu dữ liệu của ma trận khi khởi tạo. Hãy in thông tin từ $A.dtype$ để biết kiểu dữ liệu hiện tại của các phần tử trong A."
   ]
  },
  {
   "cell_type": "code",
   "execution_count": null,
   "metadata": {
    "collapsed": true,
    "slideshow": {
     "slide_type": "fragment"
    }
   },
   "outputs": [],
   "source": [
    "# code\n"
   ]
  },
  {
   "cell_type": "markdown",
   "metadata": {
    "slideshow": {
     "slide_type": "slide"
    }
   },
   "source": [
    "Tuy vậy ta có thể sử dụng __dtype__ để ép kiểu dữ liệu trong ma trận khi khởi tạo. Ví dụ nếu muốn khởi tạo ma trận $A2$ sao cho các phần tử của $A2$ có kiểu số thực, ta làm như sau:"
   ]
  },
  {
   "cell_type": "code",
   "execution_count": null,
   "metadata": {
    "collapsed": false,
    "slideshow": {
     "slide_type": "fragment"
    }
   },
   "outputs": [],
   "source": [
    "A2 = np.array([[3, 4], [5, 6]], dtype=float)  # Sử dụng kiểu số thực\n",
    "\n",
    "print(A2)\n",
    "\"\"\" Kết quả:\n",
    "[[ 3.  4.]\n",
    " [ 5.  6.]]\n",
    "\"\"\"\n",
    "\n",
    "print(A2.dtype)  # Kết quả: float64"
   ]
  },
  {
   "cell_type": "markdown",
   "metadata": {
    "slideshow": {
     "slide_type": "slide"
    }
   },
   "source": [
    "__Checkpoint 1__: Cho vector $b$, bạn hãy in ra các thông tin của $b$ tương tự như đã làm với ma trận $A$.\n",
    "$$ b = (6.0, 7.0, 8.0, 9.0, 10.0) $$"
   ]
  },
  {
   "cell_type": "code",
   "execution_count": null,
   "metadata": {
    "collapsed": false,
    "slideshow": {
     "slide_type": "fragment"
    }
   },
   "outputs": [],
   "source": [
    "# Khởi tạo b\n",
    "b = np.array([6., 7., 8., 9., 10.])\n",
    "# In thông tin về kích thước\n",
    "\n",
    "# số chiều\n",
    "\n",
    "# kiểu dữ liệu\n",
    "\n",
    "# số phần tử\n"
   ]
  },
  {
   "cell_type": "markdown",
   "metadata": {
    "slideshow": {
     "slide_type": "slide"
    }
   },
   "source": [
    "# 1. Các ma trận đặc biệt\n",
    "\n",
    "* Nếu cần khởi tạo ma trận toàn 0, sử dụng __np.zeros__, kèm theo thông tin về kích thước ma trận"
   ]
  },
  {
   "cell_type": "code",
   "execution_count": null,
   "metadata": {
    "collapsed": true,
    "slideshow": {
     "slide_type": "fragment"
    }
   },
   "outputs": [],
   "source": [
    "A3 = np.zeros((6, 5), dtype=int)\n",
    "print(A3)\n",
    "\n",
    "\"\"\" Kết quả:\n",
    "[[0 0 0 0 0]\n",
    " [0 0 0 0 0]\n",
    " [0 0 0 0 0]\n",
    " [0 0 0 0 0]\n",
    " [0 0 0 0 0]\n",
    " [0 0 0 0 0]]\n",
    "\"\"\""
   ]
  },
  {
   "cell_type": "markdown",
   "metadata": {
    "slideshow": {
     "slide_type": "subslide"
    }
   },
   "source": [
    "* Tương tự như thế, bạn có thể khởi tạo ma trận toàn 1 bằng __np.ones__:"
   ]
  },
  {
   "cell_type": "code",
   "execution_count": null,
   "metadata": {
    "collapsed": false,
    "slideshow": {
     "slide_type": "fragment"
    }
   },
   "outputs": [],
   "source": [
    "A4 = np.ones((4, 2))\n",
    "print(A4)\n",
    "\"\"\" Kết quả:\n",
    "[[ 1.  1.]\n",
    " [ 1.  1.]\n",
    " [ 1.  1.]\n",
    " [ 1.  1.]]\n",
    "\"\"\""
   ]
  },
  {
   "cell_type": "markdown",
   "metadata": {
    "slideshow": {
     "slide_type": "subslide"
    }
   },
   "source": [
    "* Ma trận đơn vị được khởi tạo bằng __np.eye__.\n",
    "\n",
    "$$ A5 = \n",
    "    \\begin{bmatrix}\n",
    "        1 & 0 & 0 \\\\\n",
    "        0 & 1 & 0 \\\\\n",
    "        0 & 0 & 1\n",
    "    \\end{bmatrix}\n",
    "$$\n",
    "\n",
    "_Lưu ý ma trận đơn vị chỉ có 2 chiều và luôn là ma trận vuông._"
   ]
  },
  {
   "cell_type": "code",
   "execution_count": null,
   "metadata": {
    "collapsed": false,
    "slideshow": {
     "slide_type": "fragment"
    }
   },
   "outputs": [],
   "source": [
    "A5 = np.eye(3)\n",
    "print(A5)"
   ]
  },
  {
   "cell_type": "markdown",
   "metadata": {
    "slideshow": {
     "slide_type": "subslide"
    }
   },
   "source": [
    "* Cuối cùng, __np.arange__ tạo ra vector với các phần tử liên tiếp nhau.\n",
    "\n",
    "    __reshape__ được sử dụng để thay đổi kích thước ma trận hoặc vector.\n",
    "    \n",
    "    Kết hợp 2 hàm này ta sẽ thu được một ma trận với các phần tử liên tiếp từ trái qua phải, trên xuống dưới."
   ]
  },
  {
   "cell_type": "code",
   "execution_count": null,
   "metadata": {
    "collapsed": true,
    "slideshow": {
     "slide_type": "subslide"
    }
   },
   "outputs": [],
   "source": [
    "A6 = np.arange(10, 20).reshape(2, 5)\n",
    "print(A6)\n",
    "\n",
    "\"\"\" Kết quả:\n",
    "[[10 11 12 13 14]\n",
    " [15 16 17 18 19]]\n",
    "\"\"\""
   ]
  },
  {
   "cell_type": "markdown",
   "metadata": {
    "slideshow": {
     "slide_type": "slide"
    }
   },
   "source": [
    "# 2. Truy cập và thay đổi phần tử trong ma trận\n",
    "\n",
    "Mặc dù hầu hết các phép toán trong Deep Learning không cần truy cập từng phần tử của ma trận, bạn cũng nên biết một vài cách thức cơ bản để thao tác với từng phần tử trong ma trận."
   ]
  },
  {
   "cell_type": "markdown",
   "metadata": {
    "slideshow": {
     "slide_type": "slide"
    }
   },
   "source": [
    "Chúng ta sẽ sử dụng ma trận sau để minh hoạ\n",
    "\n",
    "$$ A = \n",
    "    \\begin{bmatrix}\n",
    "        0 & 1 & 2 & 3 & 4 \\\\\n",
    "        5 & 6 & 7 & 8 & 9 \\\\\n",
    "        10 & 11 & 12 & 13 & 14 \\\\\n",
    "        15 & 16 & 17 & 18 & 19\n",
    "    \\end{bmatrix}\n",
    "$$"
   ]
  },
  {
   "cell_type": "code",
   "execution_count": null,
   "metadata": {
    "collapsed": false,
    "slideshow": {
     "slide_type": "fragment"
    }
   },
   "outputs": [],
   "source": [
    "A = np.arange(20).reshape(4, 5)"
   ]
  },
  {
   "cell_type": "markdown",
   "metadata": {
    "slideshow": {
     "slide_type": "slide"
    }
   },
   "source": [
    "Trong numpy (và Python), các phần tử được đánh số từ 0. Numpy cho phép đọc và thay đổi từng phần tử trong ma trận.\n",
    "\n",
    "Bạn có thể truy cập phần tử bằng $A[i, j]$..."
   ]
  },
  {
   "cell_type": "code",
   "execution_count": null,
   "metadata": {
    "collapsed": false,
    "slideshow": {
     "slide_type": "fragment"
    }
   },
   "outputs": [],
   "source": [
    "\"\"\" A\n",
    "[[0  1  2  3  4]\n",
    " [ 5  6  7  8  9]\n",
    " [10 11 12 13 14]\n",
    " [15 16 17 18  19]]\n",
    "\"\"\"\n",
    "print(A[0, 0])\n",
    "print(A[3, 4])"
   ]
  },
  {
   "cell_type": "markdown",
   "metadata": {
    "slideshow": {
     "slide_type": "slide"
    }
   },
   "source": [
    "... và thay đổi những phần tử này bằng cách gán chúng với một giá trị khác."
   ]
  },
  {
   "cell_type": "code",
   "execution_count": null,
   "metadata": {
    "collapsed": false,
    "slideshow": {
     "slide_type": "fragment"
    }
   },
   "outputs": [],
   "source": [
    "A[0, 0] = 19\n",
    "A[3, 4] = 0\n",
    "print(A)\n",
    "\"\"\" Kết quả:\n",
    "[[19  1  2  3  4]\n",
    " [ 5  6  7  8  9]\n",
    " [10 11 12 13 14]\n",
    " [15 16 17 18  0]]\n",
    "\"\"\"\n",
    "\n",
    "# khôi phục lại giá trị ban đầu của ma trận A\n",
    "A[0, 0] = 0\n",
    "A[3, 4] = 19"
   ]
  },
  {
   "cell_type": "markdown",
   "metadata": {
    "slideshow": {
     "slide_type": "slide"
    }
   },
   "source": [
    "Để truy cập cả một dòng hay một cột, sử dụng dấu 2 chấm __\":\"__ thay cho chỉ số không cần thiết\n",
    "\n",
    "$$ A = \n",
    "    \\begin{bmatrix}\n",
    "        0 & 1 & 2 & 3 & 4 \\\\\n",
    "        5 & 6 & 7 & 8 & 9 \\\\\n",
    "        10 & 11 & 12 & 13 & 14 \\\\\n",
    "        15 & 16 & 17 & 18 & 19\n",
    "    \\end{bmatrix}\n",
    "$$"
   ]
  },
  {
   "cell_type": "code",
   "execution_count": null,
   "metadata": {
    "collapsed": false,
    "slideshow": {
     "slide_type": "fragment"
    }
   },
   "outputs": [],
   "source": [
    "print(A[0, :])  # In ra dòng đầu tiên. Kết quả: [0 1 2 3 4]\n",
    "print(A[:, 0])  # In ra cột đầu tiên. Kết quả: [0  5 10 15]"
   ]
  },
  {
   "cell_type": "markdown",
   "metadata": {
    "slideshow": {
     "slide_type": "slide"
    }
   },
   "source": [
    "Để truy cập một ma trận con, sử dụng $A[i_1:i_2, j_1:j_2]$ để lấy ra phần chỉ số cần thiết.\n",
    "\n",
    "_Lưu ý: dùng $i_1:i_2$ để kí hiệu các phần tử từ $i_1$ đến $i_2 - 1$._"
   ]
  },
  {
   "cell_type": "markdown",
   "metadata": {
    "slideshow": {
     "slide_type": "slide"
    }
   },
   "source": [
    "$$ A = \n",
    "    \\begin{bmatrix}\n",
    "        0 & 1 & 2 & 3 & 4 \\\\\n",
    "        5 & 6 & 7 & 8 & 9 \\\\\n",
    "        10 & 11 & 12 & 13 & 14 \\\\\n",
    "        15 & 16 & 17 & 18 & 19\n",
    "    \\end{bmatrix}\n",
    "$$"
   ]
  },
  {
   "cell_type": "code",
   "execution_count": null,
   "metadata": {
    "collapsed": false,
    "slideshow": {
     "slide_type": "fragment"
    }
   },
   "outputs": [],
   "source": [
    "print(A[2:4, 2:5])\n",
    "\"\"\" Kết quả\n",
    "[[12 13 14]\n",
    " [17 18 19]]\n",
    "\"\"\""
   ]
  },
  {
   "cell_type": "code",
   "execution_count": null,
   "metadata": {
    "collapsed": false,
    "slideshow": {
     "slide_type": "fragment"
    }
   },
   "outputs": [],
   "source": [
    "print(A[0:3, :])\n",
    "\"\"\" Kết quả\n",
    "[[ 0  1  2  3  4]\n",
    " [ 5  6  7  8  9]\n",
    " [10 11 12 13 14]]\n",
    "\"\"\""
   ]
  },
  {
   "cell_type": "markdown",
   "metadata": {
    "slideshow": {
     "slide_type": "slide"
    }
   },
   "source": [
    "Ma trận hoặc vector con có thể được gán sang biến khác và truy cập / thay đổi tương ứng.\n",
    "\n",
    "**CẢNH BÁO**: Python không sao chép ma trận trong phép gán =, cho nên LUÔN LUÔN sử dụng copy để tạo ra một ma trận mới và gán = với ma trận đó."
   ]
  },
  {
   "cell_type": "code",
   "execution_count": null,
   "metadata": {
    "collapsed": false,
    "slideshow": {
     "slide_type": "subslide"
    }
   },
   "outputs": [],
   "source": [
    "# Ví dụ SAI\n",
    "B1 = A[0:1, 0:3]\n",
    "B1[0, 0] = -1   # Phép toán này thay đổi giá trị tương ứng trong A\n",
    "print(B1)\n",
    "\"\"\" Kết quả\n",
    "[[-1  1  2]]\n",
    "\"\"\"\n",
    "\n",
    "print(A)\n",
    "\"\"\" Kết quả\n",
    "[[-1  1  2  3  4]\n",
    " [ 5  6  7  8  9]\n",
    " [10 11 12 13 14]\n",
    " [15 16 17 18 19]]\n",
    "\"\"\""
   ]
  },
  {
   "cell_type": "code",
   "execution_count": null,
   "metadata": {
    "collapsed": true,
    "slideshow": {
     "slide_type": "subslide"
    }
   },
   "outputs": [],
   "source": [
    "# Khôi phục lại giá trị đúng của A\n",
    "A[0, 0] = 0"
   ]
  },
  {
   "cell_type": "code",
   "execution_count": null,
   "metadata": {
    "collapsed": true,
    "slideshow": {
     "slide_type": "fragment"
    }
   },
   "outputs": [],
   "source": [
    "# Ví dụ đúng\n",
    "B2 = A[0:1, 0:3].copy()\n",
    "B2[0, 0] = -1\n",
    "print(B2)\n",
    "\"\"\" Kết quả\n",
    "[[-1  1  2]]\n",
    "\"\"\"\n",
    "\n",
    "print(A)\n",
    "\"\"\" Kết quả\n",
    "[[ 0  1  2  3  4]\n",
    " [ 5  6  7  8  9]\n",
    " [10 11 12 13 14]\n",
    " [15 16 17 18 19]]\n",
    "\"\"\""
   ]
  },
  {
   "cell_type": "markdown",
   "metadata": {
    "slideshow": {
     "slide_type": "slide"
    }
   },
   "source": [
    "Bạn có thể thay đổi nhiều hơn 1 phần tử trong 1 lệnh như sau"
   ]
  },
  {
   "cell_type": "code",
   "execution_count": null,
   "metadata": {
    "collapsed": true,
    "slideshow": {
     "slide_type": "fragment"
    }
   },
   "outputs": [],
   "source": [
    "A1 = A.copy()      # tạo A1 là copy của A để không thay đổi giá trị của A\n",
    "A1[0:2, 0:3] = -1\n",
    "print(A1)\n",
    "\"\"\" Kết quả\n",
    "[[-1 -1 -1  3  4]\n",
    " [-1 -1 -1  8  9]\n",
    " [10 11 12 13 14]\n",
    " [15 16 17 18 19]]\n",
    "\"\"\""
   ]
  },
  {
   "cell_type": "markdown",
   "metadata": {
    "slideshow": {
     "slide_type": "slide"
    }
   },
   "source": [
    "__Checkpoint 2__: Hãy thực hiện những thao tác trên với vector $b$\n",
    "$$ b = (6.0, 7.0, 8.0, 9.0, 10.0) $$"
   ]
  },
  {
   "cell_type": "code",
   "execution_count": null,
   "metadata": {
    "collapsed": true,
    "slideshow": {
     "slide_type": "fragment"
    }
   },
   "outputs": [],
   "source": [
    "# Khởi tạo b\n",
    "\n",
    "# Truy cập 1 phần tử tồn tại trong b\n",
    "\n",
    "# Thử truy cập 1 phần tử không tồn tại trong b - quan sát lỗi\n",
    "\n",
    "# Tạo một vector con của b\n",
    "\n",
    "# Thay đổi một phần tử trong b và in giá trị mới\n"
   ]
  },
  {
   "cell_type": "markdown",
   "metadata": {
    "slideshow": {
     "slide_type": "slide"
    }
   },
   "source": [
    "# 3. Tính toán trên ma trận\n",
    "\n",
    "Chúng ta sẽ thực hiện các tính toán trong phần này trên ma trận sau:\n",
    "$$ A = \n",
    "    \\begin{bmatrix}\n",
    "        1 & 2 & 3 \\\\\n",
    "        10 & 15 & 20\n",
    "    \\end{bmatrix}\n",
    "$$"
   ]
  },
  {
   "cell_type": "code",
   "execution_count": null,
   "metadata": {
    "collapsed": true,
    "slideshow": {
     "slide_type": "fragment"
    }
   },
   "outputs": [],
   "source": [
    "# code khởi tạo A\n"
   ]
  },
  {
   "cell_type": "markdown",
   "metadata": {
    "slideshow": {
     "slide_type": "slide"
    }
   },
   "source": [
    "* Trong numpy, bạn có thể thực hiện các phép toán tác động lên __toàn bộ__ các phần tử của ma trận y như bạn thao tác trên một phần tử riêng biệt.\n",
    "\n",
    "    Ví dụ, bạn có thể nhân hoặc chia ma trận cho 1 hằng số. $A * c$ hoặc $A / c$ sẽ nhân (chia) tất cả các phần tử của $A$ cho $c$."
   ]
  },
  {
   "cell_type": "code",
   "execution_count": null,
   "metadata": {
    "collapsed": false,
    "slideshow": {
     "slide_type": "fragment"
    }
   },
   "outputs": [],
   "source": [
    "A = np.array([[1, 2, 3], [10, 15, 20]], dtype=float)\n",
    "print(A * 3)\n",
    "print(A / 2)"
   ]
  },
  {
   "cell_type": "markdown",
   "metadata": {
    "slideshow": {
     "slide_type": "slide"
    }
   },
   "source": [
    "__Checkpoint 3__: Làm thế nào để thực hiện hàm $sin$, $exp$, và bình phương lên ma trận $A$?"
   ]
  },
  {
   "cell_type": "code",
   "execution_count": null,
   "metadata": {
    "collapsed": true,
    "slideshow": {
     "slide_type": "fragment"
    }
   },
   "outputs": [],
   "source": [
    "# sin\n",
    "\n",
    "# exp\n",
    "\n",
    "# bình phương\n"
   ]
  },
  {
   "cell_type": "markdown",
   "metadata": {
    "slideshow": {
     "slide_type": "slide"
    }
   },
   "source": [
    "* Những phép toán được thực hiện lên một ma trận con của A một cách tương tự."
   ]
  },
  {
   "cell_type": "code",
   "execution_count": null,
   "metadata": {
    "collapsed": false,
    "slideshow": {
     "slide_type": "fragment"
    }
   },
   "outputs": [],
   "source": [
    "A1 = A.copy()\n",
    "A1[:, 0] *= 3      # cách viết này tương đương với A1[:, 0] = A1[:, 0] * 3\n",
    "print(A1)"
   ]
  },
  {
   "cell_type": "markdown",
   "metadata": {
    "slideshow": {
     "slide_type": "slide"
    }
   },
   "source": [
    "* Chuyển vị một ma trận thay đổi chiều của ma trận và hoán đổi các phần tử qua đường chéo chính bằng hàm $np.transpose$\n",
    "\n",
    "$$\n",
    "    \\begin{bmatrix}\n",
    "        1 & 2 & 3 \\\\\n",
    "        10 & 15 & 20\n",
    "    \\end{bmatrix}\n",
    " ^T => \n",
    "    \\begin{bmatrix}\n",
    "        1 & 10 \\\\\n",
    "        2 & 15 \\\\\n",
    "        3 & 20\n",
    "    \\end{bmatrix}\n",
    "$$"
   ]
  },
  {
   "cell_type": "code",
   "execution_count": null,
   "metadata": {
    "collapsed": false,
    "slideshow": {
     "slide_type": "fragment"
    }
   },
   "outputs": [],
   "source": [
    "print(np.transpose(A))"
   ]
  },
  {
   "cell_type": "markdown",
   "metadata": {
    "slideshow": {
     "slide_type": "slide"
    }
   },
   "source": [
    "* Với 2 ma trận, bạn có thể cộng, trừ hoặc nhân các ma trận với điều kiện số chiều của 2 ma trận phải khớp nhau\n",
    "    * Phép cộng / trừ yêu cầu số dòng và số cột của 2 ma trận là như nhau\n",
    "    * Nhân ma trận yêu cầu số cột của $A$ bằng số dòng của $B$."
   ]
  },
  {
   "cell_type": "markdown",
   "metadata": {
    "slideshow": {
     "slide_type": "slide"
    }
   },
   "source": [
    "Hãy khởi tạo ma trận B như dưới đây, và thực hiện phép cộng $A+B$, và phép trừ $A-B$.\n",
    "\n",
    "$A = \\begin{bmatrix}\n",
    "        1 & 2 & 3 \\\\\n",
    "        10 & 15 & 20\n",
    "    \\end{bmatrix}; \n",
    " \\ \\ \\ B = \\begin{bmatrix}\n",
    "        1 & 1 & 1 \\\\\n",
    "        2 & 3 & 4\n",
    "    \\end{bmatrix}\n",
    "$"
   ]
  },
  {
   "cell_type": "code",
   "execution_count": null,
   "metadata": {
    "collapsed": true,
    "slideshow": {
     "slide_type": "fragment"
    }
   },
   "outputs": [],
   "source": [
    "# code\n"
   ]
  },
  {
   "cell_type": "code",
   "execution_count": null,
   "metadata": {
    "collapsed": false,
    "slideshow": {
     "slide_type": "subslide"
    }
   },
   "outputs": [],
   "source": [
    "B = np.array([[1, 1, 1], [2, 3, 4]], dtype=float)\n",
    "\n",
    "print(A + B)\n",
    "print(A - B)"
   ]
  },
  {
   "cell_type": "markdown",
   "metadata": {
    "slideshow": {
     "slide_type": "slide"
    }
   },
   "source": [
    "Làm thế nào để thực hiện phép nhân 2 ma trận này?\n",
    "\n",
    "$A = \\begin{bmatrix}\n",
    "        1 & 2 & 3 \\\\\n",
    "        10 & 15 & 20\n",
    "    \\end{bmatrix}; \n",
    " \\ \\ \\ B = \\begin{bmatrix}\n",
    "        1 & 1 & 1 \\\\\n",
    "        2 & 3 & 4\n",
    "    \\end{bmatrix}\n",
    "$"
   ]
  },
  {
   "cell_type": "markdown",
   "metadata": {
    "slideshow": {
     "slide_type": "subslide"
    }
   },
   "source": [
    "Nhân ma trận yêu cầu số cột của A bằng số dòng của B!\n",
    "    \n",
    "**CẢNH BÁO**: tuyệt đối không sử dụng $*$ để nhân ma trận theo đúng nghĩa nhân ma trận trong toán học. $A*B$ sẽ trả về ma trận mới với mỗi phần tử là tích của 2 phần tử ở vị trí tương ứng trong A và B."
   ]
  },
  {
   "cell_type": "code",
   "execution_count": null,
   "metadata": {
    "collapsed": false,
    "slideshow": {
     "slide_type": "fragment"
    }
   },
   "outputs": [],
   "source": [
    "A*B"
   ]
  },
  {
   "cell_type": "markdown",
   "metadata": {
    "slideshow": {
     "slide_type": "slide"
    }
   },
   "source": [
    "Để nhân ma trận, ta sử dụng $np.matmul$.\n",
    "\n",
    "$A = \\begin{bmatrix}\n",
    "        1 & 2 & 3 \\\\\n",
    "        10 & 15 & 20\n",
    "    \\end{bmatrix}; \n",
    " \\ \\ \\ B = \\begin{bmatrix}\n",
    "        1 & 1 & 1 \\\\\n",
    "        2 & 3 & 4\n",
    "    \\end{bmatrix}\n",
    "$\n",
    "\n",
    "Trong trường hợp này, ta không thể nhân 2 ma trận với nhau. Tuy nhiên nếu ta chuyển vị 1 trong 2 ma trận thì có thể thực hiện phép nhân, ví dụ:"
   ]
  },
  {
   "cell_type": "code",
   "execution_count": null,
   "metadata": {
    "collapsed": false,
    "slideshow": {
     "slide_type": "fragment"
    }
   },
   "outputs": [],
   "source": [
    "print(np.matmul(A, np.transpose(B)))"
   ]
  },
  {
   "cell_type": "markdown",
   "metadata": {
    "slideshow": {
     "slide_type": "slide"
    }
   },
   "source": [
    "__Checkpoint 4__: nhân ma trận không phải phép toán giao hoán: $np.matmul(A, B)$ không phải là $np.matmul(B, A)$. Hãy đưa ra 2 ma trận $A$ và $B$ làm phản ví dụ. Khẳng định trên có đúng không nếu như $A$ và $B$ đều là ma trận vuông và có cùng số chiều?"
   ]
  },
  {
   "cell_type": "code",
   "execution_count": null,
   "metadata": {
    "collapsed": true,
    "slideshow": {
     "slide_type": "fragment"
    }
   },
   "outputs": [],
   "source": [
    "# code\n"
   ]
  },
  {
   "cell_type": "markdown",
   "metadata": {
    "slideshow": {
     "slide_type": "slide"
    }
   },
   "source": [
    "## Hỏi đáp"
   ]
  },
  {
   "cell_type": "markdown",
   "metadata": {
    "slideshow": {
     "slide_type": "slide"
    }
   },
   "source": [
    "__Bài tập__: Khởi tạo 1 ma trận kích thước 5 x 7, sau đó đảo ngược giá trị các phần tử trong từng dòng. Bạn có thể tìm ra được cách ngắn gọn nhất không?"
   ]
  },
  {
   "cell_type": "code",
   "execution_count": null,
   "metadata": {
    "collapsed": true,
    "slideshow": {
     "slide_type": "fragment"
    }
   },
   "outputs": [],
   "source": [
    "# code\n",
    "A[:, :] = A[::-1, :-1]    # 0 1 2 4 => 4 3 2 1\n",
    "a:2:b"
   ]
  },
  {
   "cell_type": "code",
   "execution_count": 1,
   "metadata": {
    "collapsed": true
   },
   "outputs": [],
   "source": [
    "import numpy as np"
   ]
  },
  {
   "cell_type": "code",
   "execution_count": 4,
   "metadata": {
    "collapsed": false
   },
   "outputs": [
    {
     "name": "stdout",
     "output_type": "stream",
     "text": [
      "[[0 1 2 3 4]\n",
      " [5 6 7 8 9]]\n",
      "[[5 6 7 8 9]\n",
      " [0 1 2 3 4]]\n",
      "[[4 3 2 1 0]\n",
      " [9 8 7 6 5]]\n"
     ]
    }
   ],
   "source": [
    "A = np.arange(10).reshape(2, 5)\n",
    "print(A)\n",
    "A[:] = A[::-1]\n",
    "print(A)\n",
    "A[:, :] = A[::-1, ::-1]\n",
    "print(A)"
   ]
  },
  {
   "cell_type": "markdown",
   "metadata": {
    "collapsed": true,
    "slideshow": {
     "slide_type": "slide"
    }
   },
   "source": [
    "**Bài tập**: Sử dụng numpy để giải quyết hai bài toán cơ bản sau đây:\n",
    "\n",
    "* Cho ma trận $A$ và vector $b$, giải hệ phương trình $Ax = b$.\n",
    "* Cho ma trận $A$ và vector $b$, tìm vector x sao cho giá trị $||Ax - b||_2^2$ là nhỏ nhất.\n",
    "\n",
    "Giả sử $A$ và $b$ có số chiều khớp nhau và bài toán luôn có lời giải duy nhất.\n",
    "\n",
    "Để xem các lệnh bạn có thể sử dụng được trong Numpy, hãy truy cập https://docs.scipy.org/doc/numpy/user/. Hai bài tập trên có thể giải quyết được trong không quá 5 dòng lệnh Numpy."
   ]
  },
  {
   "cell_type": "code",
   "execution_count": null,
   "metadata": {
    "collapsed": true,
    "slideshow": {
     "slide_type": "fragment"
    }
   },
   "outputs": [],
   "source": [
    "# code\n"
   ]
  }
 ],
 "metadata": {
  "celltoolbar": "Slideshow",
  "kernelspec": {
   "display_name": "Python 3",
   "language": "python",
   "name": "python3"
  },
  "language_info": {
   "codemirror_mode": {
    "name": "ipython",
    "version": 3
   },
   "file_extension": ".py",
   "mimetype": "text/x-python",
   "name": "python",
   "nbconvert_exporter": "python",
   "pygments_lexer": "ipython3",
   "version": "3.5.2"
  }
 },
 "nbformat": 4,
 "nbformat_minor": 0
}
