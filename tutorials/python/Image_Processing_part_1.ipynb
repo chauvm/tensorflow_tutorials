{
 "cells": [
  {
   "cell_type": "markdown",
   "metadata": {
    "slideshow": {
     "slide_type": "slide"
    }
   },
   "source": [
    "# Các phương pháp thay đổi ảnh đơn giản\n",
    "## MaSSP 2017, Computer Science\n",
    "__Chuẩn bị: Nguyễn Minh Châu, Vũ Thanh Lâm__\n",
    "\n",
    "__Chỉnh sửa: Vũ Minh Châu__"
   ]
  },
  {
   "cell_type": "markdown",
   "metadata": {
    "slideshow": {
     "slide_type": "slide"
    }
   },
   "source": [
    "Trong lab đầu tiên về xử lý ảnh, chúng ta sẽ viết hoặc sử dụng các hàm đơn giản trong __matplotlib__ và __numpy__ để thay đổi màu, xê dịch, xoay chiều, cắt ảnh. Lab thứ 2 sau bài giảng về Convolutional Neural Network sẽ hướng dẫn cách thêm filter vào ảnh."
   ]
  },
  {
   "cell_type": "markdown",
   "metadata": {
    "slideshow": {
     "slide_type": "slide"
    }
   },
   "source": [
    "Các phương pháp trong lab này:\n",
    "* Lấy ma trận 3 chiều thể hiện RGB từ ảnh màu bất kì\n",
    "* Cắt một phần hình ảnh\n",
    "* Dịch chuyển hình ảnh ban đầu sang trái, phải, lên trên, xuống dưới\n",
    "* Đảo ảnh theo chiều dọc hoặc chiều ngang"
   ]
  },
  {
   "cell_type": "markdown",
   "metadata": {
    "slideshow": {
     "slide_type": "subslide"
    }
   },
   "source": [
    "* Xoay ảnh theo chiều kim đồng hồ một góc 90, 180, 270 độ\n",
    "* Thêm yếu tố nhiễu vào hình ảnh để có hiệu ứng như hình này:\n",
    "    <img style=\"height:250px; width:375px\" src=\"https://i.stack.imgur.com/62z8Z.png\" /> \n",
    "    \n",
    "    (nguồn: http://stackoverflow.com/questions/35152636/random-flipping-and-rgb-jittering-slight-value-change-of-image)"
   ]
  },
  {
   "cell_type": "markdown",
   "metadata": {
    "slideshow": {
     "slide_type": "slide"
    }
   },
   "source": [
    "Để hoàn thành cái bài tập trong lab này, các bạn hãy vận dụng các phương pháp biến đổi ma trận đã học. Tuy nhiên nếu lời giải quá phức tạp, hãy tham khảo các hàm có sẵn trong thư viện __numpy__ hoặc __TensorFlow__. \n",
    "\n",
    "Numpy: https://docs.scipy.org/doc/numpy/reference/index.html\n",
    "\n",
    "TensorFlow: https://www.tensorflow.org/api_guides/python/image "
   ]
  },
  {
   "cell_type": "code",
   "execution_count": null,
   "metadata": {
    "collapsed": true,
    "slideshow": {
     "slide_type": "fragment"
    }
   },
   "outputs": [],
   "source": [
    "import numpy as np\n",
    "import tensorflow as tf"
   ]
  },
  {
   "cell_type": "markdown",
   "metadata": {
    "slideshow": {
     "slide_type": "slide"
    }
   },
   "source": [
    "## 1. Khởi tạo ma trận từ ảnh\n",
    "Đầu tiên hãy import những module cần thiết từ thư viện __matplotlib__. Các phần code sau đây dựa trên matplotlib phiên bản 2.0.0.\n",
    "\n",
    "Matplotlib: http://matplotlib.org/contents.html. "
   ]
  },
  {
   "cell_type": "code",
   "execution_count": null,
   "metadata": {
    "collapsed": true,
    "slideshow": {
     "slide_type": "fragment"
    }
   },
   "outputs": [],
   "source": [
    "import matplotlib.image as mp_image\n",
    "import matplotlib.pyplot as plt"
   ]
  },
  {
   "cell_type": "markdown",
   "metadata": {
    "slideshow": {
     "slide_type": "slide"
    }
   },
   "source": [
    "Bạn hãy chọn một hình ảnh bất kì trên mạng hoặc trong máy tính cho các thao tác xử lí ảnh. Nếu không muốn chọn, hãy dùng cover photo hiện tại của MaSSP trên Facebook page đã được tải về sẵn trong \"../../images/massp_cover.png\".\n",
    "\n",
    "<img style=\"height:160px; width:425px\" src=\"../../images/massp_cover.png\" />"
   ]
  },
  {
   "cell_type": "markdown",
   "metadata": {
    "slideshow": {
     "slide_type": "slide"
    }
   },
   "source": [
    "Để load một hình ảnh vào một ma trận, ta dùng lệnh sau (ví dụ cho cover photo của MaSSP)."
   ]
  },
  {
   "cell_type": "code",
   "execution_count": null,
   "metadata": {
    "collapsed": false,
    "scrolled": true,
    "slideshow": {
     "slide_type": "fragment"
    }
   },
   "outputs": [],
   "source": [
    "massp_img = \"../../images/massp_cover.png\"\n",
    "input_image = mp_image.imread(massp_img)\n",
    "input_image"
   ]
  },
  {
   "cell_type": "markdown",
   "metadata": {
    "slideshow": {
     "slide_type": "slide"
    }
   },
   "source": [
    "__Checkpoint 1__: Hãy mô tả số chiều, kích thước của ma trận này. Theo bạn ý nghĩa của từng chiều và từng phần tử là gì?\n",
    "\n",
    "__Trả lời__:"
   ]
  },
  {
   "cell_type": "code",
   "execution_count": null,
   "metadata": {
    "collapsed": false,
    "slideshow": {
     "slide_type": "fragment"
    }
   },
   "outputs": [],
   "source": [
    "# code\n"
   ]
  },
  {
   "cell_type": "markdown",
   "metadata": {
    "slideshow": {
     "slide_type": "slide"
    }
   },
   "source": [
    "Tiếp đó, chúng ta dùng hàm $imshow()$ của __matplotlib__ để vẽ hình ảnh. Đừng quên dùng lệnh $show()$ để làm hiện ra hình ảnh."
   ]
  },
  {
   "cell_type": "code",
   "execution_count": null,
   "metadata": {
    "collapsed": false,
    "slideshow": {
     "slide_type": "fragment"
    }
   },
   "outputs": [],
   "source": [
    "plt.imshow(input_image)\n",
    "plt.show()"
   ]
  },
  {
   "cell_type": "markdown",
   "metadata": {
    "slideshow": {
     "slide_type": "slide"
    }
   },
   "source": [
    "Nếu bạn chọn hình logo của MaSSP, ảnh sẽ có 4 channel (kênh) và channel thứ 4 sẽ gồm toàn số 1. Hãy loại bỏ channel này trước khi làm các bước tiếp theo. (Nếu ma trận có sẵn 3 kênh thì bỏ qua bước này)"
   ]
  },
  {
   "cell_type": "code",
   "execution_count": null,
   "metadata": {
    "collapsed": false,
    "slideshow": {
     "slide_type": "fragment"
    }
   },
   "outputs": [],
   "source": [
    "# code\n"
   ]
  },
  {
   "cell_type": "markdown",
   "metadata": {
    "slideshow": {
     "slide_type": "slide"
    }
   },
   "source": [
    "## 2. Cắt một phần hình ảnh\n",
    "Với hình ảnh logo MaSSP, làm thế nào để lấy được phần logo ở chính giữa? Với hình ảnh khác, hãy thử cắt lấy một vật ở giữa ảnh.\n",
    "\n",
    "<img style=\"width: 270px; height: 100px\" src=\"../../images/Simple_Image_Processing/massp_cover_cropping.png\" />"
   ]
  },
  {
   "cell_type": "code",
   "execution_count": null,
   "metadata": {
    "collapsed": false,
    "slideshow": {
     "slide_type": "fragment"
    }
   },
   "outputs": [],
   "source": [
    "# code\n"
   ]
  },
  {
   "cell_type": "markdown",
   "metadata": {
    "slideshow": {
     "slide_type": "slide"
    }
   },
   "source": [
    "__Checkpoint 2__: Hãy viết hàm $crop\\_image$ nhận \n",
    "* một ảnh gốc $orig\\_image$\n",
    "* một khung hình chữ nhật bất kì dùng để cắt hình ảnh gốc trên, (Hình chữ nhật này có thể được biểu diễn bằng tọa độ điểm góc trên cùng bên trái và độ cao, chiều ngang của hình chữ nhật)\n",
    "\n",
    "và trả về một ảnh mới cắt ra từ hình ảnh gốc bởi hình chữ nhật này.\n",
    "\n",
    "Với những điểm ảnh nào trong ảnh mới không tồn tại trong ảnh ban đầu, hay cho giá trị của chúng bằng $0$."
   ]
  },
  {
   "cell_type": "code",
   "execution_count": null,
   "metadata": {
    "collapsed": false,
    "slideshow": {
     "slide_type": "fragment"
    }
   },
   "outputs": [],
   "source": [
    "def crop_image(orig_image,...):\n",
    "    # code\n",
    "    pass"
   ]
  },
  {
   "cell_type": "markdown",
   "metadata": {
    "slideshow": {
     "slide_type": "slide"
    }
   },
   "source": [
    "_Bạn hãy cắt lấy một hình ảnh hình vuông (ví dụ 64x64) từ ảnh ban đầu nếu ảnh ban đầu có hình chữ nhật, và dùng hình ảnh vuông này cho thao tác xử lý ảnh tiếp theo._"
   ]
  },
  {
   "cell_type": "markdown",
   "metadata": {
    "slideshow": {
     "slide_type": "slide"
    }
   },
   "source": [
    "## 3. Dịch chuyển ảnh\n",
    "Hãy thử dịch chuyển ảnh hiện tại sang phải $10$ điểm ảnh và giữ nguyên kích thước ảnh. Với những điểm ảnh nào trong ảnh mới không tồn tại trong ảnh ban đầu, hay cho giá trị của chúng bằng $0$."
   ]
  },
  {
   "cell_type": "code",
   "execution_count": null,
   "metadata": {
    "collapsed": true,
    "slideshow": {
     "slide_type": "fragment"
    }
   },
   "outputs": [],
   "source": [
    "# code\n"
   ]
  },
  {
   "cell_type": "markdown",
   "metadata": {
    "slideshow": {
     "slide_type": "slide"
    }
   },
   "source": [
    "__Checkpoint 3__: Viết một hàm dịch chuyển ảnh, nhận vào một ảnh và $delta\\_x$ và $delta\\_y$ là số pixel thay đổi theo chiều dọc và chiều ngang, trả lại ảnh bị dịch chuyển có cùng kích cỡ."
   ]
  },
  {
   "cell_type": "code",
   "execution_count": null,
   "metadata": {
    "collapsed": true,
    "slideshow": {
     "slide_type": "fragment"
    }
   },
   "outputs": [],
   "source": [
    "def translate_image(...)\n",
    "    # code\n",
    "    pass"
   ]
  },
  {
   "cell_type": "markdown",
   "metadata": {
    "slideshow": {
     "slide_type": "slide"
    }
   },
   "source": [
    "## 4. Đảo ảnh\n",
    "__Checkpoint 4__: Hãy thực hiện thao tác đảo ảnh theo chiều dọc và chiều ngang như sau:\n",
    "\n",
    "<img src=\"../../images/Simple_Image_Processing/massp_flips.png\" />"
   ]
  },
  {
   "cell_type": "code",
   "execution_count": null,
   "metadata": {
    "collapsed": false,
    "slideshow": {
     "slide_type": "fragment"
    }
   },
   "outputs": [],
   "source": [
    "# code\n"
   ]
  },
  {
   "cell_type": "markdown",
   "metadata": {
    "slideshow": {
     "slide_type": "slide"
    }
   },
   "source": [
    "## 5. Xoay ảnh\n",
    "Nếu ma trận 3 chiều của ảnh trên được chuyển vị (hàm $np.transpose()$), hình ảnh sẽ thay đổi thế nào? Hãy kiểm chứng bằng cách vẽ lại hình ảnh đã chuyển vị."
   ]
  },
  {
   "cell_type": "code",
   "execution_count": null,
   "metadata": {
    "collapsed": false,
    "slideshow": {
     "slide_type": "fragment"
    }
   },
   "outputs": [],
   "source": [
    "# in ma trận chuyển vị \n",
    "\n",
    "# vẽ hình ảnh sau khi chuyển vị\n"
   ]
  },
  {
   "cell_type": "markdown",
   "metadata": {
    "slideshow": {
     "slide_type": "slide"
    }
   },
   "source": [
    "__Checkpoint 5__: Hãy viết một hàm nhận ảnh và một trong các góc 90, 180, 270 độ, và trả về một ảnh mới đã bị xoay theo chiều kim đồng hồ một góc 90, 180, 270 độ tương ứng."
   ]
  },
  {
   "cell_type": "code",
   "execution_count": null,
   "metadata": {
    "collapsed": true,
    "slideshow": {
     "slide_type": "fragment"
    }
   },
   "outputs": [],
   "source": [
    "def rotate_image(...):\n",
    "    # code\n",
    "    pass"
   ]
  },
  {
   "cell_type": "markdown",
   "metadata": {
    "slideshow": {
     "slide_type": "slide"
    }
   },
   "source": [
    "## 6. Thêm yếu tố nhiễu\n",
    "Ngoài các phép biến hình ở trên, chúng ta còn có thể thay đổi màu sắc của ảnh.\n",
    "\n",
    "Theo bạn, làm thế nào để ảnh bớt độ đỏ đi?\n",
    "\n",
    "__Checkpoint 6__: Hãy viết code để làm giảm độ đỏ của ảnh và vẽ hình ảnh thu được."
   ]
  },
  {
   "cell_type": "code",
   "execution_count": null,
   "metadata": {
    "collapsed": true,
    "slideshow": {
     "slide_type": "fragment"
    }
   },
   "outputs": [],
   "source": [
    "# code\n"
   ]
  },
  {
   "cell_type": "markdown",
   "metadata": {
    "slideshow": {
     "slide_type": "slide"
    }
   },
   "source": [
    "Phương pháp color perturbation đưa thêm \"noise\" vào hình ảnh, thực chất là thay đổi một lượng nhỏ giá trị của các phần tử trong ma trận ảnh. Trong hình ảnh dưới đây, nửa trên là ảnh bình thường, vừa nửa dưới là ảnh đã bị thêm \"noise\".\n",
    "\n",
    "<img style=\"height:250px; width:375px\" src=\"https://i.stack.imgur.com/62z8Z.png\" /> \n",
    "(nguồn: http://stackoverflow.com/questions/35152636/random-flipping-and-rgb-jittering-slight-value-change-of-image)"
   ]
  },
  {
   "cell_type": "markdown",
   "metadata": {
    "slideshow": {
     "slide_type": "slide"
    }
   },
   "source": [
    "__Checkpoint 7__: Hãy thêm \"noise\" vào hình ảnh hiện tại, sao cho mỗi kênh màu của mỗi điểm ảnh bị biến đổi một số ngẫu nhiên từ -0.1 đến +0.1. Tham khảo module $numpy.random$: https://docs.scipy.org/doc/numpy/reference/routines.random.html. "
   ]
  },
  {
   "cell_type": "code",
   "execution_count": null,
   "metadata": {
    "collapsed": true,
    "slideshow": {
     "slide_type": "fragment"
    }
   },
   "outputs": [],
   "source": [
    "# code\n"
   ]
  },
  {
   "cell_type": "markdown",
   "metadata": {
    "slideshow": {
     "slide_type": "slide"
    }
   },
   "source": [
    "## Hỏi đáp"
   ]
  },
  {
   "cell_type": "markdown",
   "metadata": {
    "slideshow": {
     "slide_type": "slide"
    }
   },
   "source": [
    "<b>Bài tập:</b> Làm thế nào để ảnh chỉ bị nhiễu ở một vùng hình tròn chính giữa?\n",
    "\n",
    "<img src=\"../../images/massp_cover_noise.png\" />"
   ]
  },
  {
   "cell_type": "code",
   "execution_count": null,
   "metadata": {
    "collapsed": true
   },
   "outputs": [],
   "source": []
  }
 ],
 "metadata": {
  "celltoolbar": "Slideshow",
  "kernelspec": {
   "display_name": "Python 3",
   "language": "python",
   "name": "python3"
  },
  "language_info": {
   "codemirror_mode": {
    "name": "ipython",
    "version": 3
   },
   "file_extension": ".py",
   "mimetype": "text/x-python",
   "name": "python",
   "nbconvert_exporter": "python",
   "pygments_lexer": "ipython3",
   "version": "3.5.2"
  }
 },
 "nbformat": 4,
 "nbformat_minor": 2
}
