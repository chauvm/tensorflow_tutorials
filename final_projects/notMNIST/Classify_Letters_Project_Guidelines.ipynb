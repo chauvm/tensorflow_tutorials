{
 "cells": [
  {
   "cell_type": "markdown",
   "metadata": {},
   "source": [
    "# Dự án phân loại chữ cái"
   ]
  },
  {
   "cell_type": "markdown",
   "metadata": {},
   "source": [
    "## 1. Khái quát\n",
    "\n",
    "Trong dự án phân loại chữ cái, các bạn hãy sử dụng các thuật toán đã học hoặc các thuật toán bổ trợ khác để phân loại đúng hình ảnh của 10 chữ cái từ A đến J trong kho dữ liệu notMNIST. Dữ liệu được tải từ trang https://github.com/davidflanagan/notMNIST-to-MNIST, và lưu lại trong thư mục data/.\n",
    "\n",
    "Trong quá trình training, hãy nhớ ghi lại các thông số của các model để hoàn thành bản báo cáo và cố gắng giải thích tại sao sự điểu chỉnh lại làm kết quả phân loại tốt hay kém đi."
   ]
  },
  {
   "attachments": {},
   "cell_type": "markdown",
   "metadata": {},
   "source": [
    "## 2. Dataset\n",
    "Định dạng, kích thước của dataset này giống hệt như của kho dữ liệu MNIST.\n",
    "* 55000 ảnh trong training set\n",
    "* 5000 ảnh trong validation set\n",
    "* 10000 ảnh trong test set\n",
    "\n",
    "Chữ cái \"A\" có label là 0, \"B\" là l, cho tới \"J\" là 9. Một số hình ảnh của chữ cái \"A\" trong notMNIST:\n",
    "<img src=\"../../images/final_projects/notMNIST_A.png\" />\n",
    "(http://yaroslavvb.blogspot.com/2011/09/notmnist-dataset.html)\n",
    "\n",
    "Bằng cách đọc dữ liệu tương tự như đã làm trong các lab trong chương trình, bạn có thể nhập được dữ liệu đầu vào."
   ]
  },
  {
   "cell_type": "code",
   "execution_count": 18,
   "metadata": {},
   "outputs": [
    {
     "name": "stdout",
     "output_type": "stream",
     "text": [
      "Extracting data/train-images-idx3-ubyte.gz\n",
      "Extracting data/train-labels-idx1-ubyte.gz\n",
      "Extracting data/t10k-images-idx3-ubyte.gz\n",
      "Extracting data/t10k-labels-idx1-ubyte.gz\n"
     ]
    },
    {
     "data": {
      "image/png": "[encoded data removed]",
      "text/plain": [
       "<matplotlib.figure.Figure at 0x1ab80041978>"
      ]
     },
     "metadata": {},
     "output_type": "display_data"
    },
    {
     "name": "stdout",
     "output_type": "stream",
     "text": [
      "[ 1.  0.  0.  0.  0.  0.  0.  0.  0.  0.]\n"
     ]
    }
   ],
   "source": [
    "import tensorflow as tf\n",
    "import matplotlib.pyplot as plt\n",
    "from tensorflow.examples.tutorials.mnist import input_data\n",
    "mnist = input_data.read_data_sets('data/', one_hot=True)\n",
    "(train_data, validation_data, test_data) = (mnist.train, mnist.validation, mnist.test)\n",
    "\n",
    "# plot thử một hình ảnh\n",
    "i = 1200\n",
    "plt.imshow(train_data.images[i].reshape((28, 28)), cmap='gray')\n",
    "plt.show()\n",
    "print(train_data.labels[i])"
   ]
  }
 ],
 "metadata": {
  "kernelspec": {
   "display_name": "Python 3",
   "language": "python",
   "name": "python3"
  },
  "language_info": {
   "codemirror_mode": {
    "name": "ipython",
    "version": 3
   },
   "file_extension": ".py",
   "mimetype": "text/x-python",
   "name": "python",
   "nbconvert_exporter": "python",
   "pygments_lexer": "ipython3",
   "version": "3.5.3"
  }
 },
 "nbformat": 4,
 "nbformat_minor": 2
}
