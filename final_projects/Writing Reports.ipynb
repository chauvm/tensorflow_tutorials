{
 "cells": [
  {
   "cell_type": "markdown",
   "metadata": {},
   "source": [
    "# Hướng dẫn viết báo cáo cho final project\n",
    "## 1. Nội dung các phần chính\n",
    "Gồm các phần:\n",
    "### 1.1 Giới thiệu\n",
    "### 1.2 Mô tả dataset\n",
    "### 1.3 Cách thực hiện\n",
    "### 1.4 Kết quả"
   ]
  },
  {
   "cell_type": "markdown",
   "metadata": {},
   "source": [
    "## 2. Các công cụ hữu ích\n",
    "### 2.1 Hình ảnh minh họa\n",
    "Tensorboard, graphviz, matplotlib, powerpoint.\n",
    "### 2.2 Citation"
   ]
  },
  {
   "cell_type": "code",
   "execution_count": null,
   "metadata": {
    "collapsed": true
   },
   "outputs": [],
   "source": []
  }
 ],
 "metadata": {
  "kernelspec": {
   "display_name": "Python 3",
   "language": "python",
   "name": "python3"
  },
  "language_info": {
   "codemirror_mode": {
    "name": "ipython",
    "version": 3
   },
   "file_extension": ".py",
   "mimetype": "text/x-python",
   "name": "python",
   "nbconvert_exporter": "python",
   "pygments_lexer": "ipython3",
   "version": "3.5.2"
  }
 },
 "nbformat": 4,
 "nbformat_minor": 2
}
