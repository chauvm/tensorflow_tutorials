{
 "cells": [
  {
   "cell_type": "markdown",
   "metadata": {},
   "source": [
    "# Dự án phân loại khuôn mặt\n"
   ]
  },
  {
   "cell_type": "markdown",
   "metadata": {},
   "source": [
    "## 1. Khái quát\n",
    "Trong dự án phân loại khuôn mặt, các bạn hãy sử dụng CNN để phân loại khuôn mặt những người khác nhau hoặc những đặc điểm có thể suy ra từ khuôn mặt (độ tuổi, giới tính...) . Ứng dụng của dự án là hết sức phổ biến, ví dụ chế độ tag ảnh trên Facebook.\n",
    "\n",
    "Có rất nhiều dataset có sẵn phục vụ cho dự án này, tham khảo tại đây:\n",
    "\n",
    "http://www.face-rec.org/databases/\n",
    "\n",
    "Các bạn hãy đọc trang web trên và chọn dataset phù hợp với vấn đề mà các bạn muốn giải quyết. Nếu các bạn chưa biết bắt đầu từ đâu, hãy tải về dataset \"The Yale Face Database B\" tại http://vision.ucsd.edu/~iskwak/ExtYaleDatabase/ExtYaleB.html."
   ]
  },
  {
   "cell_type": "markdown",
   "metadata": {},
   "source": [
    "## 2. Mô tả dataset \"The Yale Face Database B\"\n",
    "(Tham khảo cách plot hình ảnh của dataset này tại Faces-plot_Yale_face_database.ipynb. Một phần nhỏ của dataset được lại tại thư mục CroppedYale)\n",
    "\n"
   ]
  },
  {
   "cell_type": "markdown",
   "metadata": {},
   "source": [
    "## 3. Báo cáo\n",
    "Xem hướng dẫn chung để biết thêm chi tiết."
   ]
  },
  {
   "cell_type": "code",
   "execution_count": null,
   "metadata": {
    "collapsed": true
   },
   "outputs": [],
   "source": []
  }
 ],
 "metadata": {
  "kernelspec": {
   "display_name": "Python 3",
   "language": "python",
   "name": "python3"
  },
  "language_info": {
   "codemirror_mode": {
    "name": "ipython",
    "version": 3
   },
   "file_extension": ".py",
   "mimetype": "text/x-python",
   "name": "python",
   "nbconvert_exporter": "python",
   "pygments_lexer": "ipython3",
   "version": "3.5.2"
  }
 },
 "nbformat": 4,
 "nbformat_minor": 2
}
