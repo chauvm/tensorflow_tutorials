{
 "cells": [
  {
   "cell_type": "markdown",
   "metadata": {},
   "source": [
    "# Hướng dẫn viết báo cáo cho final project\n",
    "Báo cáo có thể được hoàn thành sau khi trại hè kết thúc. Tuy nhiên, việc thu thập thông tin, dữ liệu khi chuẩn bị báo cáo sẽ giúp ích rất nhiều cho presentation được thuyết trình vào ngày 1/7.\n",
    "## 1. Nội dung các phần chính\n",
    "Sau đây là gợi ý cách viết báo cáo, gồm các phần chính sau:\n",
    "### 1.1 Giới thiệu\n",
    "Mở đầu báo cáo bằng một đoạn văn ngắn tóm tắt lại vấn đề, cách thực hiện, và kết quả thu được của project.\n",
    "Phần giới thiệu chính dẫn dắt thêm về vấn đề (ứng dụng, độ phức tạp,...), dataset, cách thực hiện (tên thuật toán, nói ngắn gọn những biến đổi đặc biệt để làm thuật toán tốt hơn nếu có), kết quả thu được (so sánh với những kết quả thu được từ các model phức tạp hơn, đơn giản hơn nếu có).\n",
    "### 1.2 Mô tả dataset\n",
    "Giới thiệu chi tiết về dataset: số lượng, kích thước, số nhóm cần phân loại. Cần ít nhất 1 hình ảnh mô tả dataset.\n",
    "### 1.3 Cách thực hiện\n",
    "Cách xử lý dữ liệu ban đầu nếu có.\n",
    "\n",
    "Mô tả lại model. Cần ít nhất 1 hình ảnh minh họa model\n",
    "\n",
    "Các thay đổi trong quá trình training để thu được kết quả cuối cùng.\n",
    "\n",
    "### 1.4 Kết quả\n",
    "Kết quả training. Với bài toán phân loại, có thể đưa ra đồ thị biến thiên độ chính xác phân loại theo thời gian học hoặc một thông số nào đó như tốc độ học, hình ảnh của filter ở các bước trung gian, hình ảnh của dữ liệu đầu vào sau khi được filter...\n",
    "\n",
    "### 1.5 Tham khảo\n",
    "Tất cả những dữ liệu, hình ảnh không tạo ra bởi người viết cần phải được trích dẫn rõ nguồn gốc."
   ]
  },
  {
   "cell_type": "markdown",
   "metadata": {},
   "source": [
    "## 2. Các công cụ hữu ích\n",
    "### 2.1 Hình ảnh minh họa\n",
    "* Vẽ biểu đồ: Powerpoint\n",
    "* Vẽ đồ thị: Tensorboard, matplotlib\n",
    "* Vẽ neural network:\n",
    "    * DotEditor: https://vincenthee.github.io/DotEditor/\n",
    "    * graphviz: http://www.graphviz.org/ \n",
    "    \n",
    "### 2.2 Citation\n",
    "Tham khảo các cách cite http://dal.ca.libguides.com/c.php?g=257109&p=1717772 ."
   ]
  }
 ],
 "metadata": {
  "kernelspec": {
   "display_name": "Python 3",
   "language": "python",
   "name": "python3"
  },
  "language_info": {
   "codemirror_mode": {
    "name": "ipython",
    "version": 3
   },
   "file_extension": ".py",
   "mimetype": "text/x-python",
   "name": "python",
   "nbconvert_exporter": "python",
   "pygments_lexer": "ipython3",
   "version": "3.5.3"
  }
 },
 "nbformat": 4,
 "nbformat_minor": 2
}
