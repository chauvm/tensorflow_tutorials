{
 "cells": [
  {
   "cell_type": "markdown",
   "metadata": {},
   "source": [
    "# Hướng dẫn chọn dự án"
   ]
  },
  {
   "cell_type": "markdown",
   "metadata": {},
   "source": [
    "## 1. Khái quát\n",
    "Hãy vận dụng những thuật toán đã học trong chương trình (linear regression, logistic regression, Deep Neural Network, Convolutional Neural Network), hoặc những thuật toán bổ trợ bạn đọc thêm được, thực hiện một dự án __bất kì__ các bạn muốn thực hiện.\n",
    "\n",
    "Hãy đưa cho mentors xem dataset nhóm của bạn muốn dùng làm final project, trình bày ý tưởng, và chờ nhận xét/sự đồng ý của mentors trước khi bắt đầu project. Với bài toán phân loại, số nhóm cần nằm trong khoảng từ 5 đến 10, và số feature của dữ liệu đầu vào cần phải đủ lớn, ví dụ >= 50, và số training examples phải hơn 500."
   ]
  },
  {
   "cell_type": "markdown",
   "metadata": {},
   "source": [
    "## 2. Dataset\n",
    "Các bạn có thể chọn bất kì các nhóm hình ảnh nào trong các dataset tìm được trên mạng. Sau đây là những dataset đã được nhóm mentors sử dụng, do đó nếu các bạn chọn 1 trong những dataset sau và final project là phân loại các vật có trong ảnh, các bạn có thể bắt tay vào làm ngay. \n",
    "1. notMNIST\n",
    "    * Gồm hình ảnh các chữ cái từ A-J, có kích thước, số lượng tương tự MNIST\n",
    "2. Cucumber\n",
    "    * Gồm hình ảnh của các loại dưa chuột khác nhau\n",
    "3. CIFAR 100\n",
    "    * Gồm hình ảnh của ..."
   ]
  },
  {
   "cell_type": "markdown",
   "metadata": {},
   "source": [
    "## 3. Báo cáo\n",
    "Trước ngày 1/7, mỗi nhóm bắt buộc hoàn thành một bài thuyết trình, thời lượng khoảng 10 phút, về dự án của mình. Do bài thuyết trình sẽ được các nhóm trình bày với mentors và học sinh của các môn khác, nội dung bài thuyết trình cần dễ hiểu, nhiều minh họa, kèm định nghĩa của những khái niệm đặc thù trong chương trình để người nghe hiểu về dự án.\n",
    "\n",
    "Ngoài ra mỗi nhóm cần viết một bản báo cáo bằng LaTeX, báo cáo này có thể hoàn thành sau khi trại hè kết thúc. Các mentors sẽ đọc và yêu cầu nhóm sửa lại nếu cần thiết cho đến khi hoàn chỉnh."
   ]
  }
 ],
 "metadata": {
  "kernelspec": {
   "display_name": "Python 3",
   "language": "python",
   "name": "python3"
  },
  "language_info": {
   "codemirror_mode": {
    "name": "ipython",
    "version": 3
   },
   "file_extension": ".py",
   "mimetype": "text/x-python",
   "name": "python",
   "nbconvert_exporter": "python",
   "pygments_lexer": "ipython3",
   "version": "3.6.0"
  }
 },
 "nbformat": 4,
 "nbformat_minor": 2
}
