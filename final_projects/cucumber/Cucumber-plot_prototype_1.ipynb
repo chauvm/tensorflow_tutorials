{
 "cells": [
  {
   "cell_type": "code",
   "execution_count": 1,
   "metadata": {
    "collapsed": false,
    "scrolled": false
   },
   "outputs": [],
   "source": [
    "import tensorflow as tf\n",
    "import _pickle as cPickle\n",
    "import numpy as np\n",
    "import matplotlib.pyplot as plt"
   ]
  },
  {
   "cell_type": "markdown",
   "metadata": {},
   "source": [
    "So 3 rows per image (for R G B); flatten (32x32 = 1024)"
   ]
  },
  {
   "cell_type": "code",
   "execution_count": 2,
   "metadata": {
    "collapsed": false
   },
   "outputs": [],
   "source": [
    "def unpickle(filename):\n",
    "    fo = open(filename, 'rb')\n",
    "    fdict = cPickle.load(fo, encoding='latin1')\n",
    "    fo.close()\n",
    "    return fdict"
   ]
  },
  {
   "cell_type": "code",
   "execution_count": 3,
   "metadata": {
    "collapsed": false
   },
   "outputs": [
    {
     "data": {
      "text/plain": [
       "dict_keys(['labels', 'data', 'batch_label', 'filenames'])"
      ]
     },
     "execution_count": 3,
     "metadata": {},
     "output_type": "execute_result"
    }
   ],
   "source": [
    "data = unpickle('cucumber_data/p1/data_batch_1')\n",
    "data.keys()"
   ]
  },
  {
   "cell_type": "code",
   "execution_count": 4,
   "metadata": {
    "collapsed": false
   },
   "outputs": [
    {
     "data": {
      "text/plain": [
       "(1024,)"
      ]
     },
     "execution_count": 4,
     "metadata": {},
     "output_type": "execute_result"
    }
   ],
   "source": [
    "data['data'][0].shape"
   ]
  },
  {
   "cell_type": "code",
   "execution_count": 5,
   "metadata": {
    "collapsed": false
   },
   "outputs": [],
   "source": [
    "first_image = np.zeros((32, 32, 3))\n",
    "first_image[:, :, 0] = data['data'][0].reshape((32, 32))\n",
    "first_image[:, :, 1] = data['data'][1].reshape((32, 32))\n",
    "first_image[:, :, 2] = data['data'][2].reshape((32, 32))"
   ]
  },
  {
   "cell_type": "code",
   "execution_count": 8,
   "metadata": {
    "collapsed": true
   },
   "outputs": [
    {
     "data": {
      "text/plain": [
       "array([[[ 161.,  164.,  172.],\n",
       "        [ 163.,  167.,  170.],\n",
       "        [ 170.,  170.,  178.],\n",
       "        ..., \n",
       "        [ 173.,  179.,  179.],\n",
       "        [ 173.,  179.,  179.],\n",
       "        [ 173.,  178.,  176.]],\n",
       "\n",
       "       [[ 170.,  173.,  178.],\n",
       "        [ 173.,  176.,  181.],\n",
       "        [ 174.,  178.,  181.],\n",
       "        ..., \n",
       "        [ 174.,  180.,  180.],\n",
       "        [ 174.,  180.,  178.],\n",
       "        [ 174.,  180.,  178.]],\n",
       "\n",
       "       [[ 173.,  176.,  181.],\n",
       "        [ 173.,  177.,  180.],\n",
       "        [ 174.,  178.,  179.],\n",
       "        ..., \n",
       "        [ 174.,  180.,  178.],\n",
       "        [ 174.,  179.,  178.],\n",
       "        [ 175.,  179.,  180.]],\n",
       "\n",
       "       ..., \n",
       "       [[ 116.,  121.,  114.],\n",
       "        [ 118.,  121.,  114.],\n",
       "        [ 119.,  120.,  112.],\n",
       "        ..., \n",
       "        [ 112.,  114.,  101.],\n",
       "        [ 110.,  112.,   99.],\n",
       "        [ 111.,  113.,  102.]],\n",
       "\n",
       "       [[ 118.,  119.,  113.],\n",
       "        [ 118.,  119.,  111.],\n",
       "        [ 119.,  120.,  112.],\n",
       "        ..., \n",
       "        [ 109.,  111.,   97.],\n",
       "        [ 107.,  111.,   96.],\n",
       "        [ 109.,  111.,   97.]],\n",
       "\n",
       "       [[ 116.,  119.,  112.],\n",
       "        [ 118.,  119.,  111.],\n",
       "        [ 119.,  119.,  111.],\n",
       "        ..., \n",
       "        [ 107.,  109.,   96.],\n",
       "        [ 106.,  110.,   95.],\n",
       "        [ 108.,  111.,   94.]]])"
      ]
     },
     "execution_count": 8,
     "metadata": {},
     "output_type": "execute_result"
    }
   ],
   "source": [
    "first_image"
   ]
  },
  {
   "cell_type": "code",
   "execution_count": 6,
   "metadata": {
    "collapsed": false
   },
   "outputs": [
    {
     "data": {
      "image/png": "[encoded data removed]",
      "text/plain": [
       "<matplotlib.figure.Figure at 0x70674d8e10>"
      ]
     },
     "metadata": {},
     "output_type": "display_data"
    }
   ],
   "source": [
    "imgplot = plt.imshow(first_image/255)\n",
    "plt.show()"
   ]
  },
  {
   "cell_type": "code",
   "execution_count": null,
   "metadata": {
    "collapsed": true
   },
   "outputs": [],
   "source": []
  }
 ],
 "metadata": {
  "kernelspec": {
   "display_name": "Python 3",
   "language": "python",
   "name": "python3"
  },
  "language_info": {
   "codemirror_mode": {
    "name": "ipython",
    "version": 3
   },
   "file_extension": ".py",
   "mimetype": "text/x-python",
   "name": "python",
   "nbconvert_exporter": "python",
   "pygments_lexer": "ipython3",
   "version": "3.5.2"
  }
 },
 "nbformat": 4,
 "nbformat_minor": 1
}
