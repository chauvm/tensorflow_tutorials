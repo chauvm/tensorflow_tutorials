{
 "cells": [
  {
   "cell_type": "code",
   "execution_count": 1,
   "metadata": {
    "collapsed": true
   },
   "outputs": [],
   "source": [
    "from graphviz import Digraph"
   ]
  },
  {
   "cell_type": "markdown",
   "metadata": {},
   "source": [
    "## Neuron đơn giản nhất"
   ]
  },
  {
   "cell_type": "code",
   "execution_count": 62,
   "metadata": {
    "collapsed": true
   },
   "outputs": [],
   "source": [
    "G = Digraph(\"Neuron\")\n",
    "G.graph_attr[\"rankdir\"] = \"LR\";\n",
    "\n",
    "G.node(\"1\", \"1 (x0)\")\n",
    "G.node(\"x1\")\n",
    "G.node(\"x2\")\n",
    "G.node(\"x3\")\n",
    "G.node(\"z\", \"\")\n",
    "\n",
    "G.edge(\"x1\", \"z\", \"w1\")\n",
    "G.edge(\"x2\", \"z\", \"w2\")\n",
    "G.edge(\"x3\", \"z\", \"w3\")\n",
    "G.edge(\"1\", \"z\", \"b (w0)\")\n",
    "\n",
    "with open(\"neuron.gv\", \"w+\") as f:\n",
    "    f.write(G.source)"
   ]
  },
  {
   "cell_type": "markdown",
   "metadata": {},
   "source": [
    "## Neuron với trọng số, z, a"
   ]
  },
  {
   "cell_type": "code",
   "execution_count": 51,
   "metadata": {
    "collapsed": false
   },
   "outputs": [],
   "source": [
    "G = Digraph(\"Neuron1\")\n",
    "G.graph_attr[\"rankdir\"] = \"LR\";\n",
    "\n",
    "G.node(\"1\", \"1 (x0)\")\n",
    "G.node(\"x1\")\n",
    "G.node(\"x2\")\n",
    "G.node(\"x3\")\n",
    "G.node(\"z\", \"z = w.x + b\")\n",
    "G.node(\"a\")\n",
    "\n",
    "G.edge(\"x1\", \"z\", \"w1\")\n",
    "G.edge(\"x2\", \"z\", \"w2\")\n",
    "G.edge(\"x3\", \"z\", \"w3\")\n",
    "G.edge(\"1\", \"z\", \"b (w0)\")\n",
    "G.edge(\"z\", \"a\", \"sgn(z)\")\n",
    "\n",
    "with open(\"neuron1.gv\", \"w+\") as f:\n",
    "    f.write(G.source)"
   ]
  },
  {
   "cell_type": "markdown",
   "metadata": {},
   "source": [
    "## Neural Network"
   ]
  },
  {
   "cell_type": "code",
   "execution_count": 81,
   "metadata": {
    "collapsed": false
   },
   "outputs": [],
   "source": [
    "Gnn = Digraph(\"Neural Network\")\n",
    "Gnn.graph_attr[\"rankdir\"] = \"LR\"\n",
    "Gnn.node_attr[\"shape\"] = \"circle\"\n",
    "Gnn.edge_attr[\"arrowsize\"] = \"0.1\"\n",
    "Gnn.edge_attr[\"minlen\"] = \"1.4\"\n",
    "\n",
    "\n",
    "\n",
    "input_layer = [\"x1\", \"x2\", \"x3\"]\n",
    "layer_1 = [\"l_1_0\", \"l_1_1\", \"l_1_2\", \"l_1_3\", \"l_1_4\", \"l_1_5\"]\n",
    "layer_2 = [\"l_2_0\", \"l_2_1\", \"l_2_2\", \"l_2_3\"]\n",
    "output_layer = [\"out_0\", \"out_1\"]\n",
    "\n",
    "for o in output_layer:\n",
    "    Gnn.node(o, \"\")\n",
    "    for l2 in layer_2:\n",
    "        Gnn.node(l2, \"\")\n",
    "        Gnn.edge(l2, o, samehead=o, sametail=l2)\n",
    "        \n",
    "for l2 in layer_2:        \n",
    "    for l1 in layer_1:\n",
    "        Gnn.node(l1, \"\")\n",
    "        Gnn.edge(l1, l2, samehead=l2, sametail=l1)\n",
    "\n",
    "for l1 in layer_1:     \n",
    "    for i in input_layer:\n",
    "        Gnn.node(i)\n",
    "        Gnn.edge(i, l1, samehead=l1, sametail=i)\n",
    "\n",
    "with open(\"neural_network_1.gv\", \"w+\") as f:\n",
    "    f.write(Gnn.source)"
   ]
  },
  {
   "cell_type": "code",
   "execution_count": 61,
   "metadata": {
    "collapsed": true
   },
   "outputs": [],
   "source": []
  },
  {
   "cell_type": "code",
   "execution_count": null,
   "metadata": {
    "collapsed": true
   },
   "outputs": [],
   "source": []
  }
 ],
 "metadata": {
  "kernelspec": {
   "display_name": "Python 3",
   "language": "python",
   "name": "python3"
  },
  "language_info": {
   "codemirror_mode": {
    "name": "ipython",
    "version": 3
   },
   "file_extension": ".py",
   "mimetype": "text/x-python",
   "name": "python",
   "nbconvert_exporter": "python",
   "pygments_lexer": "ipython3",
   "version": "3.5.2"
  }
 },
 "nbformat": 4,
 "nbformat_minor": 2
}
